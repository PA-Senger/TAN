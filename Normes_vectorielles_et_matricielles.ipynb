{
 "cells": [
  {
   "cell_type": "markdown",
   "metadata": {},
   "source": [
    "# Normes Vectorielles et matricielles"
   ]
  },
  {
   "cell_type": "markdown",
   "metadata": {},
   "source": [
    "### Exercice 1 : construction de norme subordonnée"
   ]
  },
  {
   "cell_type": "markdown",
   "metadata": {},
   "source": [
    "**Question 1** : que vaut $x b^t$ avec $x\\in\\mathbb{R}^n$ ?"
   ]
  },
  {
   "cell_type": "markdown",
   "metadata": {},
   "source": [
    "**Correction**:\n",
    "\n",
    "Il s'agit d'un produit matriciel entre une matrice $x$ de $\\mathcal{M}_{n,1}(\\mathbb{R})$ et une matrice $b$ de $\\mathcal{M}_{1,n}(\\mathbb{R})$. On obtiendra donc **une matrice dans $\\mathcal{M}_{n,n}(\\mathbb{R})$**.\n",
    "\n",
    "On obtient:\n",
    "\n",
    "$$\n",
    "\\left(\\begin{array}{c}\n",
    "x_1 \\\\\n",
    "x_2 \\\\\n",
    "\\vdots \\\\\n",
    "x_{n-1} \\\\\n",
    "x_n \\end{array}\\right) \\left(\\begin{array}{ccccc}\n",
    "b_1 & b_2 & \\cdots & b_{n-1}& b_n \\end{array}\\right) = \\left(\\begin{array}{ccccc}\n",
    "x_1 b_1 & x_1 b_2 & \\cdots & x_1 b_{n-1}& x_1 b_n \\\\\n",
    "x_2 b_1 & x_2 b_2 & \\cdots & x_2 b_{n-1}& x_2 b_n \\\\\n",
    "\\vdots & & & & \\vdots\\\\\n",
    "x_{n-1} b_1 & x_{n-1} b_2 & \\cdots & x_{n-1} b_{n-1}& x_{n-1} b_n \\\\\n",
    "x_n b_1 & x_n b_2 & \\cdots & x_n b_{n-1}& x_n b_n \n",
    "\\end{array}\\right)\n",
    "$$"
   ]
  },
  {
   "cell_type": "markdown",
   "metadata": {},
   "source": [
    "**Question 2** : Montrer que l'application $N:=x\\rightarrow \\parallel x b^t\\parallel$  est une norme vectorielle compatible avec la norme matricielle."
   ]
  },
  {
   "cell_type": "markdown",
   "metadata": {},
   "source": [
    "**Correction**:\n",
    "    \n",
    "On doit vérifier que N est une norme:\n",
    "- Homogénéité: $N(\\lambda x)= \\mid \\lambda\\mid N(x), \\quad \\forall x\\in \\mathbb{R}^n$,\n",
    "- Inégalité triangulaire: $N(x+y) \\leq N(x)+N(y), \\quad\\forall x,y\\in \\mathbb{R}^n$,\n",
    "- Positivité: $N(x)>0, \\quad\\forall x\\in \\mathbb{R}^n$\n",
    "- Définie: $N(x)=0 \\Leftrightarrow x=0$.\n",
    "\n",
    "Puis on doit vérifier que cette norme est compatible donc que $N(Ax)\\leq \\parallel A\\parallel N(x),\\quad \\forall x\\in \\mathbb{R}^n, A \\in \\mathcal{M}_{n,n}(\\mathbb{R})$. \n",
    "\n",
    "1) Pour l'homogénéité on a:\n",
    "\n",
    "$$\n",
    "N(\\lambda x) =  \\parallel (\\lambda x) b^t\\parallel = \\parallel \\lambda (x b^t)\\parallel\n",
    "$$\n",
    "\n",
    "par linéarité. Ensuite on utilise que $\\parallel . \\parallel$ est une norme donc elle est **homogène** pour obtenir\n",
    "\n",
    "$$\n",
    "N(\\lambda x) = \\parallel \\lambda (x b^t)\\parallel = \\mid \\lambda \\mid \\parallel x b^t\\parallel = \\mid \\lambda \\mid N(x)\n",
    "$$\n",
    "\n",
    "2) Pour l'inégalité triangulaire l'argument sera le même: linéarité + **l'inégalité triangulaire** de $\\parallel . \\parallel$. En effet on a:\n",
    "\n",
    "$$\n",
    "N(x+y)=\\parallel (x+y)b^{t}\\parallel= \\parallel xb^{t} +yb^{t}\\parallel\\leq \\parallel xb^{t}\\parallel + \\parallel yb^{t}\\parallel = N(x)+N(y)\n",
    "$$\n",
    "\n",
    "3) La positivité est automatique car $\\parallel . \\parallel$ est une norme.\n",
    "\n",
    "4) Pour le coté définie on remarque que: puisque $\\parallel .\\parallel$ est une norme $\\parallel xb^{t}\\parallel=0$ ssi $xb^{t}=0$.\n",
    "\n",
    "Il suffit ensuite de prendre le produit $xb^t$ défini au dessus. On voir que puisque $b\\neq 0$ le produit $xb^{t}$ est nul que si $x=0$. On a donc bien que $N(x)=0$ implique que $x=0$.\n",
    "\n",
    "5) Le résultat s'obtient car le produit matriciel est associatif et car $\\parallel .\\parallel$ est une norme matricielle. En effet\n",
    "\n",
    "$$\n",
    "N(Ax) = \\parallel (Ax)b^{t}\\parallel = \\parallel A(xb^t)\\parallel \\leq\\parallel A\\parallel N(x)\n",
    "$$"
   ]
  },
  {
   "cell_type": "markdown",
   "metadata": {},
   "source": [
    "### Exercice 2 : Norme non matricielle, non subordonnée"
   ]
  },
  {
   "cell_type": "markdown",
   "metadata": {},
   "source": [
    "**Question 1** : Montrer que cette norme est matricielle mais non subordonnée pour n>1"
   ]
  },
  {
   "cell_type": "markdown",
   "metadata": {},
   "source": [
    "**Correction**:\n",
    "\n",
    "On souhaite vérifier les mêmes propriétés que dans l'exo 1.\n",
    "\n",
    "- homogénéité:\n",
    "\n",
    "$$\n",
    "\\parallel \\lambda A\\parallel_F^2 = \\sum_{i,j=1}^n (\\lambda a_{i,j})^2 = \\sum_{i,j=1}^n \\lambda^2 a_{i,j}^2 =\\lambda^2 \\sum_{i,j=1}^n a_{i,j}^2 =\\lambda^2 \\parallel A\\parallel_F^2\n",
    "$$\n",
    "\n",
    "On utilise le fait que l'espace des matrices est vectoriel. En prenant la racine de l'égalité on obtient le résultat.\n",
    "\n",
    "- Inégalité triangulaire:\n",
    "\n",
    "$$\n",
    "\\parallel A+B\\parallel_F^2 = \\sum_{i,j=1}^n ( a_{i,j}+b_{i,j})^2 = \\sum_{i,j=1}^n a_{i,j}(a_{i,j}+b_{i,j}) + \\sum_{i,j=1}^n b_{i,j}(a_{i,j}+b_{i,j})\n",
    "$$\n",
    "\n",
    "Maintenant on utilise Cauchy-Schwarz on obtient que\n",
    "\n",
    "$$\n",
    "\\parallel A+B\\parallel_F^2 \\leq \\left(\\sum_{i,j=1}^n a_{i,j}^2\\right)^{\\frac12}\\left(\\sum_{i,j=1}^n(a_{i,j}+b_{i,j})^2\\right)^{\\frac12} + \\left(\\sum_{i,j=1}^n b_{i,j}^2\\right)^{\\frac12}\\left(\\sum_{i,j=1}^n(a_{i,j}+b_{i,j})^2\\right)^{\\frac12}\n",
    "$$\n",
    "\n",
    "ce qui équivaut:\n",
    "\n",
    "$$\n",
    "\\parallel A+B\\parallel_F^2\\leq \\parallel A\\parallel_F \\parallel A+B\\parallel_F + \\parallel B\\parallel_F \\parallel A+B\\parallel_F= (\\parallel A\\parallel_F + \\parallel B\\parallel_F)\\parallel A+B\\parallel_F\n",
    "$$\n",
    "\n",
    "ce qui implique bien $\\parallel A+B\\parallel_F \\leq \\parallel A\\parallel_F + \\parallel B\\parallel_F$.\n",
    "\n",
    "- La positivité est automatique par définition. Pour le coté définie on regarde:\n",
    "\n",
    "$$\n",
    "\\sum_{i,j=1}^n (a_{i,j})^2 =0 \\Rightarrow a_{i,j}^2 = 0\\Rightarrow  a_{i,j}=0\n",
    "$$\n",
    "\n",
    "puisque on somme des termes positifs. \n",
    "\n",
    "- Condition supplémentaire sur les normes matricielles:\n",
    "\n",
    "$$\n",
    "\\parallel A B \\parallel_F^2 = \\sum_{i,j=1}^n \\left( \\sum_k a_{i,k}b_{k,j}\\right)^2\\leq \\sum_{i,j=1}^n \\left( \\sum_k a_{i,k}\\right)^2 \\left( \\sum_k b_{k,j}\\right)^2\n",
    "$$\n",
    "\n",
    "par Cauchy-Schwarz. Le 1er terme est indépendant de j et le second de i donc:\n",
    "\n",
    "\n",
    "$$\n",
    "\\parallel A B \\parallel_F^2 \\leq \\sum_{i=1}^n \\left( \\sum_k a_{i,k}\\right)^2 \\sum_{j=1}^n\\left( \\sum_k b_{k,j}\\right)^2 = \\parallel A\\parallel_F^2 \\parallel B\\parallel_F^2\n",
    "$$\n",
    "\n",
    "On conclut en prenant la racine de l'inégalité.\n",
    "\n",
    "- Norme subordonnée:\n",
    "\n",
    "Une norme est subordonnée s'il existe une norme $N$ de $\\mathbb{R}^n$ tel que\n",
    "\n",
    "$$\n",
    "sup_{x\\in\\mathbb{R}^n} \\frac{N(Ax)}{N(x)} =\\parallel A\\parallel_F\n",
    "$$\n",
    "\n",
    "Quand on l'applique à la matrice identité on obtient que $sup_{x\\in\\mathbb{R}^n} \\frac{N(I_n x)}{N(x)}=1$. Donc la norme subordonnée doit être égale à 1 pour l'identité. Ici on remarque que:\n",
    "\n",
    "$$\n",
    "\\parallel I_n\\parallel_F =\\left(\\sum_{i,j=1}^n 1\\right)^{\\frac12}=\\sqrt{n}\n",
    "$$\n",
    "\n",
    "On voit donc qu'on n'a pas une norme subordonnée."
   ]
  },
  {
   "cell_type": "markdown",
   "metadata": {},
   "source": [
    "**Question 2** : Montrer que $\\parallel A\\parallel_F^2 = Tr(A^tA)$. En déduire $\\parallel A\\parallel_2 \\leq\\parallel A\\parallel_F \\leq \\sqrt{n}\\parallel A\\parallel_2$ et $\\parallel Ax \\parallel_2\\leq \\parallel A\\parallel_F \\parallel x\\parallel_2$"
   ]
  },
  {
   "cell_type": "markdown",
   "metadata": {},
   "source": [
    "**Correction**:\n",
    "\n",
    "$$\n",
    "(A^tA)_{ij}= \\sum_k a_{k,i}a_{k,j}\n",
    "$$\n",
    "\n",
    "Donc sur la diagonale on obtient $(A^tA)_{ii}=\\sum_k a_{k,i}^2$ Donc la trace est donnée par\n",
    "\n",
    "$$\n",
    "Tr(A^tA) = \\sum_{i=1}^n \\sum_{k=1}^n a_{k,i}^2 =\\sum_{k,i}^n a_{k,i}^2 = \\parallel A \\parallel_F^2\n",
    "$$\n",
    "\n",
    "On passe à l'inégalité entre la norme 2 et la norme de Frobenius.\n",
    "\n",
    "$$\n",
    "\\parallel A\\parallel_{2}^2=\\rho(A^t A) \\leq \\sum_{i=1}^n \\lambda_i\n",
    "$$\n",
    "avec $\\lambda_i$ les valeurs propres de $A^tA$.\n",
    "L'inégalité précédente est vraie puisque le rayon spectral est donné par la valeur propre maximale (pas de valeur absolue ici car les valeurs propres de $A^tA$ sont positives). Elle sont positives car $(A^t A)^t = A^tA$ donc la matrice est **normale** donc les valeurs propres sont réelles et positives.\n",
    "\n",
    "$A^tA$ est diagonalisable car normale. On a donc $Tr(A^tA) = Tr(P D P^{-1})= Tr(D)$ car la trace est commutative, avec $D_{i,i}=\\lambda_i$. Donc on a bien $\\sum_{i=1}^n \\lambda_i=Tr(A^tA)$ ce permet de conclure que  $\\parallel A\\parallel_{2}^2\\leq \\parallel A\\parallel_F^2$.  \n",
    "\n",
    "Pour la seconde partie de l'inégalité on utilise:\n",
    "\n",
    "$$\n",
    "Tr(A^tA)= \\sum_{i=1}^n \\lambda_i \\leq \\sum_{i=1}^n \\lambda_{\\max} = \\sum_{i=1}^n \\rho(A^tA) =n \\rho(A^tA)\n",
    "$$\n",
    "\n",
    "donc en prenant la racine de l'inégalité on conclut.\n",
    "\n",
    "Pour la dernière inégalité c'est immédiat car la norme 2 est subordonnée. Cela implique que\n",
    "\n",
    "$$\n",
    "\\parallel Ax\\parallel_2 \\leq \\parallel A\\parallel_2 \\parallel x\\parallel_2\n",
    "$$\n",
    "\n",
    "En utilisant le fait que la norme de Frobenius majore la norme 2 (inégalité précédente), on conclut."
   ]
  },
  {
   "cell_type": "markdown",
   "metadata": {},
   "source": [
    "**Question 3** : Montrer que pour les normes subordonnées $\\parallel I_n\\parallel=1$ et $\\parallel I_n\\parallel\\geq 1$ pour les normes matricielles"
   ]
  },
  {
   "cell_type": "markdown",
   "metadata": {},
   "source": [
    "Si une norme est subordonnée on a \n",
    "\n",
    "$$\n",
    "\\parallel I_n \\parallel = \\sup_{x\\in\\mathbb{R}^n} \\frac{\\parallel I_n x\\parallel}{\\parallel x\\parallel}=\\sup_{x\\in\\mathbb{R}^n} \\frac{\\parallel x\\parallel}{\\parallel x\\parallel} =1\n",
    "$$\n",
    "\n",
    "Puisque la norme est matricielle $\\parallel I_n\\parallel = \\parallel I_n I_n\\parallel \\leq \\parallel I_n\\parallel\\parallel I_n \\parallel$. Puisque $I_n$ n'est pas nul on peut diviser par la norme de $I_n$ et obtenir $1\\leq \\parallel I_n\\parallel$."
   ]
  },
  {
   "cell_type": "markdown",
   "metadata": {},
   "source": [
    "**Question 4** : En déduire une norme non matricielle"
   ]
  },
  {
   "cell_type": "markdown",
   "metadata": {},
   "source": [
    "Une norme est non matricielle si $|| I_n|| <1$. On prend $||.||$ une norme subordonnée et on définit:\n",
    "\n",
    "$$\n",
    "N(A)=\\frac{1}{n}|| A||\n",
    "$$\n",
    "\n",
    "Puisque $|| A||$ est subordonnée $N(I_n)=\\frac{1}{n}< 1$. Mais pour autant $N(.)$ est bien une norme. Car il est facile de vérifier que multiplier une norme par un scalaire redéfinit une norme aussi."
   ]
  },
  {
   "cell_type": "markdown",
   "metadata": {},
   "source": [
    "### Exercice 3 : Calcul de normes sous Python"
   ]
  },
  {
   "cell_type": "markdown",
   "metadata": {},
   "source": [
    "**Question 1** : Définir (et afficher) une matrice A de taille 4x4 à termes aléatoires."
   ]
  },
  {
   "cell_type": "code",
   "execution_count": 2,
   "metadata": {},
   "outputs": [
    {
     "name": "stdout",
     "output_type": "stream",
     "text": [
      "hello\n",
      "[[0.07160239 0.79871418 0.63299006 0.10955456]\n",
      " [0.18606201 0.84245121 0.92748669 0.31024991]\n",
      " [0.35960669 0.3037433  0.95217612 0.61477153]\n",
      " [0.22038733 0.07382272 0.66944739 0.87968818]]\n"
     ]
    }
   ],
   "source": [
    "import numpy as np\n",
    "print(\"hello\")\n",
    "A=np.random.rand(4,4)\n",
    "\n",
    "print(A)"
   ]
  },
  {
   "cell_type": "markdown",
   "metadata": {},
   "source": [
    "hello\n",
    "[[0.17137696 0.23271088 0.13698631 0.66687548]\n",
    " [0.87198955 0.27094697 0.00514661 0.66594241]\n",
    " [0.90890312 0.85767553 0.21468778 0.59739813]\n",
    " [0.46175645 0.32165628 0.00796438 0.71101687]]"
   ]
  },
  {
   "cell_type": "markdown",
   "metadata": {},
   "source": [
    "**Question 2** : *Que renvoient les fonctions numpy suivantes \"np.linag.norm(A),...\" ?*"
   ]
  },
  {
   "cell_type": "code",
   "execution_count": 3,
   "metadata": {},
   "outputs": [
    {
     "name": "stdout",
     "output_type": "stream",
     "text": [
      "2.637962761664243 2.574042270420504 2.822593281404235\n"
     ]
    }
   ],
   "source": [
    "print(np.linalg.norm(A), np.linalg.norm(A, np.inf), np.linalg.norm(A, 1))"
   ]
  },
  {
   "cell_type": "markdown",
   "metadata": {},
   "source": [
    "1.9514814180966575 2.2279329003304724 1.9538776951513088"
   ]
  },
  {
   "cell_type": "markdown",
   "metadata": {},
   "source": [
    "Les fonctions renvoient:\n",
    "\n",
    "- la norme de Frobenius\n",
    "- la norme infini\n",
    "- la norme 1"
   ]
  },
  {
   "cell_type": "markdown",
   "metadata": {},
   "source": [
    "**Extra**: norme 2 et inégalité:"
   ]
  },
  {
   "cell_type": "code",
   "execution_count": 4,
   "metadata": {},
   "outputs": [
    {
     "name": "stdout",
     "output_type": "stream",
     "text": [
      " N2 2.4737568371450624  Nf  2.637962761664243  sqrt(n) N2 4.947513674290125\n"
     ]
    }
   ],
   "source": [
    "print(\" N2\",np.linalg.norm(A,2),\" Nf \",np.linalg.norm(A),\" sqrt(n) N2\",2.0*np.linalg.norm(A,2))"
   ]
  },
  {
   "cell_type": "markdown",
   "metadata": {},
   "source": [
    " N2 1.6791068098675936  Nf  1.9514814180966575  sqrt(n) N2 3.3582136197351873"
   ]
  },
  {
   "cell_type": "markdown",
   "metadata": {},
   "source": [
    "# Correction Rappel Python"
   ]
  },
  {
   "cell_type": "markdown",
   "metadata": {},
   "source": [
    "### Exercice 4: Prise en main"
   ]
  },
  {
   "cell_type": "markdown",
   "metadata": {},
   "source": [
    "**Question 1**: *Les opérations de base. Tapez les commandes suivantes*"
   ]
  },
  {
   "cell_type": "code",
   "execution_count": 1,
   "metadata": {},
   "outputs": [
    {
     "name": "stdout",
     "output_type": "stream",
     "text": [
      "2\n",
      "-1\n",
      "8\n",
      "-8.0\n"
     ]
    }
   ],
   "source": [
    "a=1\n",
    "b=2\n",
    "a+=1\n",
    "print(a)\n",
    "b-=3\n",
    "print(b)\n",
    "a*=4\n",
    "print(a)\n",
    "print(a/b)"
   ]
  },
  {
   "cell_type": "markdown",
   "metadata": {},
   "source": [
    "**Question 2** : *Les commentaires*"
   ]
  },
  {
   "cell_type": "code",
   "execution_count": 8,
   "metadata": {},
   "outputs": [],
   "source": [
    "## mon commentaire"
   ]
  },
  {
   "cell_type": "markdown",
   "metadata": {},
   "source": [
    "**Question 3** : *Chaine de caractères*"
   ]
  },
  {
   "cell_type": "code",
   "execution_count": 9,
   "metadata": {},
   "outputs": [
    {
     "name": "stdout",
     "output_type": "stream",
     "text": [
      "ma chaîne de caractères\n"
     ]
    }
   ],
   "source": [
    "print(\"ma chaîne de caractères\")"
   ]
  },
  {
   "cell_type": "markdown",
   "metadata": {},
   "source": [
    "### Exercice 5: Les fonctions"
   ]
  },
  {
   "cell_type": "markdown",
   "metadata": {},
   "source": [
    "**Question 1**: *Codez la fonction carré : $x \\rightarrow x^2$*"
   ]
  },
  {
   "cell_type": "code",
   "execution_count": 10,
   "metadata": {},
   "outputs": [
    {
     "name": "stdout",
     "output_type": "stream",
     "text": [
      "4\n"
     ]
    }
   ],
   "source": [
    "def carre(x):\n",
    "    return x**2\n",
    "\n",
    "print(carre(2))"
   ]
  },
  {
   "cell_type": "markdown",
   "metadata": {},
   "source": [
    "**Question 2**: *Codez les fonctions : $x \\rightarrow \\frac{x}{2}$, $x \\rightarrow x^3$, $x \\rightarrow 2x+9$*"
   ]
  },
  {
   "cell_type": "code",
   "execution_count": 11,
   "metadata": {},
   "outputs": [],
   "source": [
    "def func1(x):\n",
    "    return x/2.0\n",
    "\n",
    "def func2(x):\n",
    "    return x*x*x\n",
    "\n",
    "def func3(x):\n",
    "    return 2.0*x+9.0\n"
   ]
  },
  {
   "cell_type": "markdown",
   "metadata": {},
   "source": [
    "**Question 3**: *Testez-les sur quelques valeurs.*"
   ]
  },
  {
   "cell_type": "code",
   "execution_count": 12,
   "metadata": {},
   "outputs": [
    {
     "name": "stdout",
     "output_type": "stream",
     "text": [
      "2.0   27.0   11.0\n"
     ]
    }
   ],
   "source": [
    "print(func1(4.0),\" \",func2(3.0),\" \",func3(1.0))"
   ]
  },
  {
   "cell_type": "markdown",
   "metadata": {},
   "source": [
    "### Exercice 6: Les boucles"
   ]
  },
  {
   "cell_type": "markdown",
   "metadata": {},
   "source": [
    "**Question 1** : *codez l'instruction if proposée*"
   ]
  },
  {
   "cell_type": "code",
   "execution_count": 13,
   "metadata": {},
   "outputs": [
    {
     "name": "stdout",
     "output_type": "stream",
     "text": [
      "le nombre est impair\n"
     ]
    }
   ],
   "source": [
    "a=235\n",
    "if (a%2==0):\n",
    "    print(\"le nombre est pair\")\n",
    "else:\n",
    "    print(\"le nombre est impair\")"
   ]
  },
  {
   "cell_type": "markdown",
   "metadata": {},
   "source": [
    "**Question 2** : *Testez si 6728 est divisible par 3, par 8 et/ou par 11.*"
   ]
  },
  {
   "cell_type": "code",
   "execution_count": 14,
   "metadata": {},
   "outputs": [
    {
     "name": "stdout",
     "output_type": "stream",
     "text": [
      "le nombre est divisible par 8\n",
      "le nombre n'est pas divisible par 3/8 et 11\n"
     ]
    }
   ],
   "source": [
    "## cas \"ou\"\n",
    "a=6728\n",
    "if (a%3==0):\n",
    "    print(\"le nombre est divisible par 3\")\n",
    "elif (a%8==0):\n",
    "    print(\"le nombre est divisible par 8\")\n",
    "elif (a%11==0):\n",
    "    print(\"le nombre est divisible par 11\")\n",
    "    \n",
    "## cas \"et\"    \n",
    "\n",
    "if (a%3==0 and a%8==0 and a%11==0):\n",
    "    print(\"le nombre est divisible par 3/8 et 11\")\n",
    "else:\n",
    "    print(\"le nombre n'est pas divisible par 3/8 et 11\")"
   ]
  },
  {
   "cell_type": "markdown",
   "metadata": {},
   "source": [
    "**Question 3** : *Affichez à l’aide d’une boucle for tous les entiers pairs de 0 à 10.*"
   ]
  },
  {
   "cell_type": "code",
   "execution_count": 8,
   "metadata": {},
   "outputs": [
    {
     "name": "stdout",
     "output_type": "stream",
     "text": [
      ">>> ieme nombre >>> 0\n",
      ">>> ieme nombre >>> 2\n",
      ">>> ieme nombre >>> 4\n",
      ">>> ieme nombre >>> 6\n",
      ">>> ieme nombre >>> 8\n",
      ">>> ieme nombre >>> 10\n"
     ]
    }
   ],
   "source": [
    "for i in range(0,11):\n",
    "    if i%2==0:\n",
    "        print(\">>> ieme nombre >>>\",i)"
   ]
  },
  {
   "cell_type": "markdown",
   "metadata": {},
   "source": [
    "**Question 4** : *À l’aide d’une boucle while, affichez les élements de la suite $u_{n+1} = 3u_n$ avec $u_0 = 1$, plus petits que 40.*"
   ]
  },
  {
   "cell_type": "code",
   "execution_count": 16,
   "metadata": {},
   "outputs": [
    {
     "name": "stdout",
     "output_type": "stream",
     "text": [
      ">>> 1.0\n",
      ">>> 3.0\n",
      ">>> 9.0\n",
      ">>> 27.0\n"
     ]
    }
   ],
   "source": [
    "un = 1.0\n",
    "while un < 40:\n",
    "    print(\">>>\",un)\n",
    "    un = 3*un\n"
   ]
  },
  {
   "cell_type": "markdown",
   "metadata": {},
   "source": [
    "### Exercice 7: Les modules"
   ]
  },
  {
   "cell_type": "markdown",
   "metadata": {},
   "source": [
    "**Qestion 1** : *Testez ce code sur $\\sqrt{3}$, $\\sqrt{5}$*"
   ]
  },
  {
   "cell_type": "code",
   "execution_count": 17,
   "metadata": {},
   "outputs": [
    {
     "name": "stdout",
     "output_type": "stream",
     "text": [
      ">>  1.7320508075688772  >>  2.23606797749979\n"
     ]
    }
   ],
   "source": [
    "import numpy as np\n",
    "print(\">> \",np.sqrt(3),\" >> \",np.sqrt(5))"
   ]
  },
  {
   "cell_type": "markdown",
   "metadata": {},
   "source": [
    "### Exercice 8: Les tableaux"
   ]
  },
  {
   "cell_type": "markdown",
   "metadata": {},
   "source": [
    "**Question 1** : *Initialisation*."
   ]
  },
  {
   "cell_type": "code",
   "execution_count": 10,
   "metadata": {},
   "outputs": [],
   "source": [
    "import numpy as np"
   ]
  },
  {
   "cell_type": "markdown",
   "metadata": {},
   "source": [
    "**Question 2** : *Définissez les vecteurs*."
   ]
  },
  {
   "cell_type": "code",
   "execution_count": 11,
   "metadata": {},
   "outputs": [],
   "source": [
    "a = np.array([[1.4], [1.0/3.0], [5.0], [np.sqrt(3.0)]])\n",
    "b = np.array([[7.0], [3.0/2.0]])\n",
    "A = np.array([[1, 2, 3, 4], [5, 6, 7, 8]])"
   ]
  },
  {
   "cell_type": "markdown",
   "metadata": {},
   "source": [
    "**Question 3** : *Tableaux particuliers*."
   ]
  },
  {
   "cell_type": "code",
   "execution_count": 12,
   "metadata": {},
   "outputs": [
    {
     "name": "stdout",
     "output_type": "stream",
     "text": [
      "[[0. 0. 0. 0.]\n",
      " [0. 0. 0. 0.]]\n"
     ]
    }
   ],
   "source": [
    "X=np.zeros(3)\n",
    "Y=np.zeros((2,4)) \n",
    "Z=np.ones(5)\n",
    "I=np.eye(3)\n",
    "\n",
    "print(Y)"
   ]
  },
  {
   "cell_type": "markdown",
   "metadata": {},
   "source": [
    "Réponses:\n",
    "- X contient un vecteur ligne de taille 3 initialisé avec des zéros,\n",
    "- Y contient une matrice 2x4 initialisée avec des zéros,\n",
    "- Z contient un vecteur ligne de taille 5 initialisé avec des un,\n",
    "- I contient la matrice identité de taille 3x3."
   ]
  },
  {
   "cell_type": "markdown",
   "metadata": {},
   "source": [
    "**Question 4** : *Tableau linspace.*"
   ]
  },
  {
   "cell_type": "code",
   "execution_count": 21,
   "metadata": {},
   "outputs": [
    {
     "name": "stdout",
     "output_type": "stream",
     "text": [
      ">>  [10.         13.42307692 16.84615385 20.26923077 23.69230769 27.11538462\n",
      " 30.53846154 33.96153846 37.38461538 40.80769231 44.23076923 47.65384615\n",
      " 51.07692308 54.5        57.92307692 61.34615385 64.76923077 68.19230769\n",
      " 71.61538462 75.03846154 78.46153846 81.88461538 85.30769231 88.73076923\n",
      " 92.15384615 95.57692308 99.        ]\n"
     ]
    }
   ],
   "source": [
    "X=np.linspace(10, 99, 27)\n",
    "print(\">> \",X)"
   ]
  },
  {
   "cell_type": "markdown",
   "metadata": {},
   "source": [
    "**Question 5** : *Accès à une valeur.* "
   ]
  },
  {
   "cell_type": "code",
   "execution_count": 22,
   "metadata": {},
   "outputs": [
    {
     "name": "stdout",
     "output_type": "stream",
     "text": [
      ">>  54.5\n",
      ">> 3eme  16.846153846153847\n",
      ">> 3eme  1.4142135623730951\n"
     ]
    }
   ],
   "source": [
    "print(\">> \",X[13])## on commence à 0 donc 13 est la 14eme valeur\n",
    "\n",
    "print(\">> 3eme \",X[2])\n",
    "X[2]=np.sqrt(2)\n",
    "print(\">> 3eme \",X[2])"
   ]
  },
  {
   "cell_type": "markdown",
   "metadata": {},
   "source": [
    "**Question 6** : *Opérations*"
   ]
  },
  {
   "cell_type": "code",
   "execution_count": 23,
   "metadata": {},
   "outputs": [
    {
     "name": "stdout",
     "output_type": "stream",
     "text": [
      "[5. 5. 5.]\n",
      "[[ 5.         10.        ]\n",
      " [20.         24.25      ]\n",
      " [ 5.59016994  8.        ]]\n",
      "[[ 4.   16.  ]\n",
      " [64.   94.09]\n",
      " [ 5.   10.24]]\n"
     ]
    }
   ],
   "source": [
    "a=np.ones(3)\n",
    "print(a+4)\n",
    "b=np.array([[2, 4], [8, 9.7], [np.sqrt(5), 3.2]])\n",
    "print(5./2.*b)\n",
    "print(b**2)"
   ]
  },
  {
   "cell_type": "markdown",
   "metadata": {},
   "source": [
    "**Question 7** : *Produit scalaire*"
   ]
  },
  {
   "cell_type": "code",
   "execution_count": 24,
   "metadata": {},
   "outputs": [
    {
     "name": "stdout",
     "output_type": "stream",
     "text": [
      "[ 2  6 12]\n",
      "20\n"
     ]
    }
   ],
   "source": [
    "a=np.array([1, 2, 3])\n",
    "b=np.array([2, 3, 4])\n",
    "print(a*b) # produit terme à terme\n",
    "print(np.dot(a,b))# produit scalaire"
   ]
  },
  {
   "cell_type": "markdown",
   "metadata": {},
   "source": [
    "**Question 8** : *Produit matrice vecteur*"
   ]
  },
  {
   "cell_type": "code",
   "execution_count": 25,
   "metadata": {},
   "outputs": [
    {
     "name": "stdout",
     "output_type": "stream",
     "text": [
      "[[ 6]\n",
      " [15]]\n"
     ]
    }
   ],
   "source": [
    "a=np.array([[1, 2, 3], [4, 5, 6]])\n",
    "b=np.array([[1], [1], [1]])\n",
    "print(np.dot(a,b))# produit matrice vecteur"
   ]
  },
  {
   "cell_type": "code",
   "execution_count": 26,
   "metadata": {},
   "outputs": [
    {
     "ename": "ValueError",
     "evalue": "operands could not be broadcast together with shapes (2,3) (3,1) ",
     "output_type": "error",
     "traceback": [
      "\u001b[0;31m---------------------------------------------------------------------------\u001b[0m",
      "\u001b[0;31mValueError\u001b[0m                                Traceback (most recent call last)",
      "\u001b[0;32m<ipython-input-26-fe59fb2d4d9e>\u001b[0m in \u001b[0;36m<module>\u001b[0;34m\u001b[0m\n\u001b[0;32m----> 1\u001b[0;31m \u001b[0mprint\u001b[0m\u001b[0;34m(\u001b[0m\u001b[0ma\u001b[0m\u001b[0;34m*\u001b[0m\u001b[0mb\u001b[0m\u001b[0;34m)\u001b[0m \u001b[0;31m# problème de dimension\u001b[0m\u001b[0;34m\u001b[0m\u001b[0;34m\u001b[0m\u001b[0m\n\u001b[0m",
      "\u001b[0;31mValueError\u001b[0m: operands could not be broadcast together with shapes (2,3) (3,1) "
     ]
    }
   ],
   "source": [
    "print(a*b) # problème de dimension"
   ]
  },
  {
   "cell_type": "markdown",
   "metadata": {},
   "source": [
    "### Exercice 9: Les figures"
   ]
  },
  {
   "cell_type": "code",
   "execution_count": 13,
   "metadata": {},
   "outputs": [],
   "source": [
    "import numpy as np\n",
    "import matplotlib.pyplot as plt"
   ]
  },
  {
   "cell_type": "markdown",
   "metadata": {},
   "source": [
    "**Question 1** : *Définissez la fonction $x \\rightarrow sin(x) + 3x$ (le sinus se trouve dans le module numpy) à l’aide du mot clé def vu à l’exercice 15.*"
   ]
  },
  {
   "cell_type": "code",
   "execution_count": 28,
   "metadata": {},
   "outputs": [],
   "source": [
    "def f(x):\n",
    "    return np.sin(x)+3.0*x"
   ]
  },
  {
   "cell_type": "markdown",
   "metadata": {},
   "source": [
    "**Question 2** : *Tracez cette fonction sur $[0; 2\\pi]$, par une ligne continue en vert*."
   ]
  },
  {
   "cell_type": "code",
   "execution_count": 29,
   "metadata": {},
   "outputs": [
    {
     "data": {
      "text/plain": [
       "[<matplotlib.lines.Line2D at 0x11fb9d510>]"
      ]
     },
     "execution_count": 29,
     "metadata": {},
     "output_type": "execute_result"
    },
    {
     "data": {
      "image/png": "[encoded data removed]",
      "text/plain": [
       "<Figure size 432x288 with 1 Axes>"
      ]
     },
     "metadata": {
      "needs_background": "light"
     },
     "output_type": "display_data"
    }
   ],
   "source": [
    "plt.figure(1) \n",
    "plt.clf() \n",
    "x=np.linspace(0.0, 2.0*np.pi, 100)\n",
    "y=f(x) \n",
    "plt.plot(x, y, 'g', label='courbe 1')"
   ]
  },
  {
   "cell_type": "markdown",
   "metadata": {},
   "source": [
    "**Question 3**: *À l’aide de la commande np.subplot, affichez la fonction $x \\rightarrow cos( x\n",
    "2 )$ sur $[0; \\pi]$ pour plusieurs\n",
    "précisions N en abscisse.*"
   ]
  },
  {
   "cell_type": "code",
   "execution_count": 30,
   "metadata": {},
   "outputs": [
    {
     "data": {
      "image/png": "[encoded data removed]",
      "text/plain": [
       "<Figure size 432x288 with 4 Axes>"
      ]
     },
     "metadata": {
      "needs_background": "light"
     },
     "output_type": "display_data"
    }
   ],
   "source": [
    "def f2(x):\n",
    "    return np.cos(x/2.0)\n",
    "\n",
    "tN = [5,20,200,2000]\n",
    "for k in range(0,len(tN)):\n",
    "    x = np.linspace(0.0, np.pi,tN[k])\n",
    "    y=f2(x)\n",
    "    plt.subplot(2,2, k+1)\n",
    "    plt.plot(x,y, 'go-')"
   ]
  },
  {
   "cell_type": "code",
   "execution_count": null,
   "metadata": {},
   "outputs": [],
   "source": []
  }
 ],
 "metadata": {
  "kernelspec": {
   "display_name": "Python 3 (ipykernel)",
   "language": "python",
   "name": "python3"
  },
  "language_info": {
   "codemirror_mode": {
    "name": "ipython",
    "version": 3
   },
   "file_extension": ".py",
   "mimetype": "text/x-python",
   "name": "python",
   "nbconvert_exporter": "python",
   "pygments_lexer": "ipython3",
   "version": "3.9.12"
  }
 },
 "nbformat": 4,
 "nbformat_minor": 4
}
