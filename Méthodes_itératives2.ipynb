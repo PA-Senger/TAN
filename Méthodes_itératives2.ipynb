{
 "cells": [
  {
   "cell_type": "markdown",
   "metadata": {},
   "source": [
    "## 0 Preuve de la proposition 5 du cours"
   ]
  },
  {
   "cell_type": "markdown",
   "metadata": {},
   "source": [
    "**Définition** (Algorithme de gradient conjugué)\n",
    "\n",
    "Soit $F:x\\mapsto \\frac12<x,Ax>-<b,x>$ avec $A$ symétrique définie positive. \n",
    "\n",
    "Initialisation:\n",
    "$$\\left\\{\\begin{array}{l}\n",
    "x_0\\in\\mathbb{R}^n\\\\\n",
    "r_0=Ax_0-b=\\nabla F(x_0)\\\\\n",
    "d_0=-r_0=-\\nabla F(x_0).\n",
    "\\end{array}\\right.$$\n",
    "Tant que $r_k\\neq 0$, on définit la suite $(x_k)_k$ par\n",
    "$$\\left\\{\\begin{array}{l}\n",
    "\\alpha_k=-\\frac{<r_k, d_k>}{<Ad_k, d_k>}\\\\\n",
    "x_{k+1}=x_k+\\alpha_kd_k\\\\\n",
    "r_{k+1}=Ax_{k+1}-b=\\nabla F(x_{k+1})\\\\\n",
    "d_{k+1}=-r_{k+1}+\\beta_kd_k \\mbox{ avec }\n",
    "\\beta_k=\\frac{<r_{k+1},A d_k>}{<Ad_k, d_k>}\n",
    "\\end{array}\\right.$$\n"
   ]
  },
  {
   "cell_type": "markdown",
   "metadata": {},
   "source": [
    "**Proposition 5** Dès que $r_k\\neq 0$  \n",
    "    1) $\\alpha_k$ est bien défini  \n",
    "    2) $\\alpha_k$ est strictement positif      \n",
    "    3) $\\alpha_k=\\mbox{argmin}_{\\alpha>0} F(x_k+\\alpha d_k)$  \n",
    "\n",
    "De plus, $d_k$ est une direction de descente au point $x_k$"
   ]
  },
  {
   "cell_type": "markdown",
   "metadata": {},
   "source": [
    "**Preuve** (par récurrence)"
   ]
  },
  {
   "cell_type": "markdown",
   "metadata": {},
   "source": [
    "**Initialisation:**  \n",
    "    1) $\\alpha_0$ bien défini, car $d_0=-r_0\\neq 0$  \n",
    "    2) $\\alpha_0=-\\frac{<r_0, d_0>}{<Ad_0, d_0>}=\\frac{\\|r_0\\|^2}{\\|r_0\\|_A^2}>0$  \n",
    "    3) $\\alpha_0=\\frac{\\|r_0\\|^2}{\\|r_0\\|_A^2}$ est le pas de la méthode de gradient à pas optimal\n",
    "   \n",
    "**Hérédité :** on suppose 1), 2) et 3) vrai au rang $k$ et que $r_{k+1}\\neq 0$  \n",
    "    1) $\\alpha_k=\\mbox{argmin}_{\\alpha>0} F(x_k+\\alpha d_k)$ donne $$0=\\langle\\nabla f(x_k+\\alpha_k d_k),d_k\\rangle=\\langle r_{k+1},d_k\\rangle.$$ \n",
    "    Comme $d_{k+1}=-r_{k+1}+\\beta_kd_k$, on a $\\langle d_{k+1},r_{k+1}\\rangle=-\\|r_{k+1}\\|^2\\neq 0$  \n",
    "    Donc $d_{k+1}\\neq 0$, donc $\\langle Ad_{k+1}, d_{k+1}\\rangle>0$ car $A$ est symétrique définie positive et donc $\\alpha_{k+1}=-\\frac{\\langle r_{k+1}, d_{k+1}\\rangle}{\\langle Ad_{k+1}, d_{k+1}\\rangle}$ est bien défini  \n",
    "2) $$\\begin{array}{rcl}\n",
    "\\alpha_{k+1}&=&-\\frac{\\langle r_{k+1}, d_{k+1}\\rangle}{\\langle Ad_{k+1}, d_{k+1}\\rangle}\\mbox{ par définition de $\\alpha_{k+1}$}\\\\\n",
    "&=&-\\frac{\\langle r_{k+1}, -r_{k+1}+\\beta_kd_k\\rangle}{\\langle Ad_{k+1}, d_{k+1}\\rangle}\\mbox{ par définition de $d_{k+1}$}\\\\\n",
    "&=&\\frac{\\|r_{k+1}\\|^2}{\\|d_{k+1}\\|^2_A}>0 \\mbox{ car }\\langle d_{k},r_{k+1}\\rangle= 0\\end{array}$$  \n",
    "3) Soit $\\varphi_{k+1}:\\alpha\\mapsto f(x_{k+1}+\\alpha d_{k+1})$.  On a  \n",
    " $$\\begin{array}{rcl}\n",
    " \\varphi_{k+1}'(\\alpha_{k+1})\n",
    "&=& \\langle \\nabla f(x_{k+1}+\\alpha_{k+1} d_{k+1}),d_{k+1}\\rangle\\\\\n",
    "&=&  \\langle A(x_{k+1}+\\alpha_{k+1} d_{k+1}) -b,d_{k+1}\\rangle\\\\\n",
    "&=&  \\langle r_{k+1}+A\\alpha_{k+1} d_{k+1},d_{k+1}\\rangle\\\\\n",
    "&=&  \\langle r_{k+1},d_{k+1}\\rangle+\\alpha_{k+1}\\langle A d_{k+1},d_{k+1}\\rangle\\\\\n",
    "&=& 0 \\;\\;\\;\\;\\;\\;\\mbox{ par définition de $\\alpha_{k+1}$}\n",
    " \\end{array}$$\n",
    " Donc $\\varphi_{k+1}'(\\alpha_{k+1})=0$ : $\\alpha_{k+1}$ est le $\\alpha$ optimal (celui qui réalise le minimum de $\\varphi_{k+1}$)"
   ]
  },
  {
   "cell_type": "markdown",
   "metadata": {},
   "source": [
    "*Remarque :* On a démontré dans cette preuve par récurrence deux égalités : $\\langle r_k, d_{k-1}\\rangle =0$ et $\\langle d_k, r_k\\rangle=-\\|r_k\\|^2.$"
   ]
  },
  {
   "cell_type": "markdown",
   "metadata": {},
   "source": [
    "**Montrons que $d_k$ est un pas de descente stricte**\n",
    "\n",
    "D'après la définition de $d_k$ dans le cas du gradient conjugué et la question précédente, on a (on rappelle que $r_k=\\nabla f(x_k)$)\n",
    "$$\\langle d_k,\\nabla f(x_k)\\rangle=\\langle d_k,r_k\\rangle\n",
    "=\\langle -r_k+\\frac{\\langle Ar_k, d_{k-1}\\rangle}{\\langle Ad_{k-1}, d_{k-1}\\rangle}d_{k-1},r_{k}\\rangle$$\n",
    "$$=\\langle -r_k,r_{k}\\rangle+\\frac{\\langle Ar_k, d_{k-1}\\rangle}{\\langle Ad_{k-1}, d_{k-1}\\rangle}\\langle d_{k-1},r_{k}\\rangle=-\\|r_k\\|^2<0.$$\n",
    "\n",
    "Soit $\\varphi:\\alpha\\mapsto f(x_k+\\alpha d_k)$. On a $\\varphi'(0)=\\langle d_k,\\nabla f(x_k)\\rangle<0$. Donc il existe $\\alpha_0>0$ tel que $\\varphi'(\\alpha)<0$ pour tout $\\alpha\\in(0, \\alpha_0)$. \n",
    "Par le théorème des accroissements finis, on en déduit que $\\varphi(\\alpha)-\\varphi(0)<0$ pour tout $\\alpha\\in(0, \\alpha_0)$ soit encore : $f(x_k+\\alpha d_k)<f(x_k).$\n",
    "Donc $d_k$ est une direction de descente stricte."
   ]
  },
  {
   "cell_type": "markdown",
   "metadata": {},
   "source": [
    "*Remarque :* Ce point de la preuve montre qu'il suffit de vérifier que $\\langle d_k,\\nabla f(x_k)\\rangle<0$ pour avoir une direction stricte de descente."
   ]
  },
  {
   "cell_type": "markdown",
   "metadata": {},
   "source": [
    "## 1 Compréhension des méthodes"
   ]
  },
  {
   "cell_type": "markdown",
   "metadata": {},
   "source": [
    "### Exercice 1 : Questions de cours\n",
    "**Méthode du gradient à pas fixe:**\n",
    "\n",
    "**Question 1** : Montrer que $d_k=-\\nabla f(x_k)$ est une direction de descente stricte.\n",
    "\n"
   ]
  },
  {
   "cell_type": "markdown",
   "metadata": {},
   "source": [
    "**Correction**: Supposons que $\\nabla f(x_k)\\neq0$. $d_k=-\\nabla f(x_k)$, est une direction de descente si il existe $\\alpha_0>0$ tel que pour tout $\\alpha\\in(0,\\alpha_0)$ on a $$f(x_k+\\alpha d_k)<f(x_k).$$\n",
    "Or $$\\frac{f(x_k+\\alpha d_k)-f(x_k)}{\\alpha}\\underset{\\alpha\\rightarrow 0}{\\rightarrow}\\langle\\nabla f(x_k), d_k\\rangle=-\\|\\nabla f(x_k)\\|^2<0.$$\n",
    "D'où pour tout $\\varepsilon>0$, en particulier $\\varepsilon=\\|\\nabla f(x_k)\\|^2/2$, il existe $\\alpha_0>0$ tel que pour tout $\\alpha\\in(0,\\alpha_0)$ \n",
    "$$\\frac{f(x_k+\\alpha d_k)-f(x_k)}{\\alpha}+\\|\\nabla f(x_k)\\|^2<\\varepsilon=\\|\\nabla f(x_k)\\|^2/2.$$\n",
    "Ce qui implique\n",
    "$$f(x_k+\\alpha d_k)-f(x_k)<-\\alpha\\|\\nabla f(x_k)\\|^2/2<0.$$\n",
    "\n",
    "Donc $d_k=-\\nabla f(x_k)$ est une direction de descente stricte.\n",
    "\n",
    "**Autre solution:** on a\n",
    "$$\\langle d_k,\\nabla f(x_k)\\rangle=-\\|\\nabla f(x_k)\\|^2<0,$$\n",
    "donc d'après le premier encadré (remarque à la fin de la preuve de la proposition 5), $d_k=-\\nabla f(x_k)$ est une direction de descente stricte."
   ]
  },
  {
   "cell_type": "markdown",
   "metadata": {},
   "source": [
    "**Méthode du gradient à pas optimal :**\n",
    "\n",
    "**Question 2** : Montrer que, pour $f$ définie par une **fonction quadratique** de la forme \n",
    "$$f:x\\in\\mathbb{R}^n\\mapsto \\frac{1}{2}<Ax,x>-<b,x>,$$\n",
    "($A \\in \\mathcal{M}_n(\\mathbb{R})$ matrice symétrique définie positive), le pas de descente vaut $\\alpha_k=\\frac{<r_k, r_k>}{<Ar_k, r_k>}$."
   ]
  },
  {
   "cell_type": "markdown",
   "metadata": {},
   "source": [
    "**Correction**: Montrons que le problème $\\underset{\\alpha>0}{\\text{argmin}}f(x_k-\\alpha\\nabla f(x_k))$ est bien posé. \n",
    "\n",
    "Comme $A$ est symétrique définie positive, il existe une matrice orthogonale $U$ et une matrice diagonale $D=\\text{diag}(\\lambda_1,...,\\lambda_n)$ avec $0<\\lambda_1\\leqslant...\\leqslant\\lambda_n$ telles que $A=UDU^t$. Pour tout $x\\in\\mathbb{R}^n$, on a\n",
    "$$|\\langle Ax,x\\rangle|=|\\langle UDU^tx,x\\rangle|=|\\langle DU^tx,U^tx\\rangle|=\\sum_i\\lambda_i(U^tx)_i^2$$\n",
    "$$\\geqslant \\lambda_1\\|U^tx\\|^2=\\lambda_1\\langle U^tx,U^tx\\rangle=\\lambda_1\\langle x,UU^tx\\rangle=\\lambda_1\\|x\\|^2.$$\n",
    "Donc, par Cauchy Schwarz \n",
    "$$|f(x)|\\geqslant \\lambda_1\\|x\\|^2 - \\|b\\|\\|x\\|\\underset{\\|x\\|\\rightarrow +\\infty}{\\rightarrow}+\\infty.$$\n",
    "Étant donnée que $f$ est continue et coersive, le problème $\\underset{\\alpha\\geqslant 0}{\\text{argmin}}f(x_k-\\alpha\\nabla f(x_k))$ est bien posé, c'est-à-dire qu'il existe un minimum à ce problème de minimisation. \n",
    "Considérons la fonction $$\\varphi: \\alpha\\geqslant 0\\mapsto f(x_k-\\alpha\\nabla f(x_k)).$$ Un minimum $\\bar\\alpha$ vérifie soit $\\bar\\alpha=0$ soit $\\varphi'(\\bar\\alpha)=0.$\n",
    "Comme $d_k$ est une direction de descente, on a $\\bar\\alpha\\neq0$.\n",
    "\n",
    "$$\\varphi'(\\bar\\alpha)=-\\langle\\nabla f(x_k), \\nabla f(x_k-\\bar\\alpha\\nabla f(x_k))\\rangle=-\\langle(Ax_k-b), (A (x_k-\\bar\\alpha(Ax_k-b))-b)\\rangle$$\n",
    "$$=-\\langle r_k,r_k\\rangle +\\bar\\alpha \\langle Ar_k,r_k\\rangle.$$\n",
    "\n",
    "Comme $A$ est définie positive, on en déduit que l'unique minimum de $\\underset{\\alpha>0}{\\text{argmin}}f(x_k-\\alpha\\nabla f(x_k))$ est $\\alpha_k=\\frac{<r_k, r_k>}{<Ar_k, r_k>}$."
   ]
  },
  {
   "cell_type": "markdown",
   "metadata": {},
   "source": [
    "**Méthode du gradient conjugué :**\n",
    "\n",
    "**Question 3** : Montrer que les résidus vérifient la relation de récurrence suivante :\n",
    "$$r_{k+1}=r_k+\\alpha_kAd_k, \\forall k\\geq0.$$\n"
   ]
  },
  {
   "cell_type": "markdown",
   "metadata": {},
   "source": [
    "**Correction**: Pour tout $k\\geqslant 0$, en appliquant $A$ à la relation $$x_{k+1}=x_k+\\alpha_kd_k,$$\n",
    "on obtient $$Ax_{k+1}=Ax_k+\\alpha_kAd_k,$$\n",
    "puis, en ajoutant $b_k$ de chaque côté de l'égalité, on en déduit\n",
    "$$r_{k+1}=r_k+\\alpha_kAd_k, \\forall k\\geq0.$$"
   ]
  },
  {
   "cell_type": "markdown",
   "metadata": {},
   "source": [
    "**Question 4** : Montrer que, pour tout $k\\geq0$, $<r_{k+1}, d_k>=0$."
   ]
  },
  {
   "cell_type": "markdown",
   "metadata": {},
   "source": [
    "**Correction**: À l'aide de la définition de $\\alpha_k$ dans le cas du gradient conjugué, on a\n",
    "$$\\langle r_{k+1}, d_k\\rangle=\\langle r_{k}, d_k\\rangle+\\alpha_k\\langle Ad_{k}, d_k\\rangle\n",
    "=\\langle r_{k}, d_k\\rangle-\\frac{\\langle d_k, r_k\\rangle}{\\langle Ad_k, d_k\\rangle}\\langle Ad_{k}, d_k\\rangle=0.$$"
   ]
  },
  {
   "cell_type": "markdown",
   "metadata": {},
   "source": [
    "**Question 5** : En déduire que $d_k$ est une direction de descente stricte.\n"
   ]
  },
  {
   "cell_type": "markdown",
   "metadata": {},
   "source": [
    "**Correction**: D'après la définition de $d_k$ dans le cas du gradient conjugué et la question précédente, on a \n",
    "$$\\langle d_k,\\nabla f(x_k)\\rangle=\\langle d_k,r_k\\rangle\n",
    "=\\langle -r_k+\\frac{\\langle Ar_k, d_{k-1}\\rangle}{\\langle Ad_{k-1}, d_{k-1}\\rangle}d_{k-1},r_{k}\\rangle$$\n",
    "$$=\\langle -r_k,r_{k}\\rangle+\\frac{\\langle Ar_k, d_{k-1}\\rangle}{\\langle Ad_{k-1}, d_{k-1}\\rangle}\\langle d_{k-1},r_{k}\\rangle=-\\|r_k\\|^2<0.$$\n",
    "Donc $d_k$ est une direction de descente stricte."
   ]
  },
  {
   "cell_type": "markdown",
   "metadata": {},
   "source": [
    "### Exercice 2 : Convergence de la méthode du gradient conjugué\n",
    "On suppose que l'on n'a pas encore convergé à l'itération $k$, ce qui signifie que $r_p\\neq 0$ pour tout $0\\leq p\\leq k$."
   ]
  },
  {
   "cell_type": "markdown",
   "metadata": {},
   "source": [
    "**Question 1** : Montrer que $d_p\\neq 0$ pour tout $0\\leq p\\leq k$."
   ]
  },
  {
   "cell_type": "markdown",
   "metadata": {},
   "source": [
    "**Correction**: \n",
    "Pour tout $k\\geq1$, $d_k=0$ implique, d'après la définition de $d_k$, $$0=\\langle d_k,r_k\\rangle=-\\|r_k\\|^2+\\frac{\\langle Ar_{k}, d_{k-1}\\rangle}{\\langle Ad_{k-1}, d_{k-1}\\rangle}\\langle d_{k-1},r_{k}\\rangle=-\\|r_k\\|^2$$\n",
    "Donc pour tout $k\\geq1$, si $r_k\\neq0$, alors $d_k\\neq0$ et $\\langle Ad_{k}, d_{k}\\rangle\\neq0$.\n"
   ]
  },
  {
   "cell_type": "markdown",
   "metadata": {},
   "source": [
    "**Question 2** : Montrer, par récurrence, que $<r_k, d_p>=<r_k, r_p>=<Ad_k, d_p>=0$, pour tout $0\\leq p<k$ (on pourra se servir des questions 3 et 4 de l'exercice 1)."
   ]
  },
  {
   "cell_type": "markdown",
   "metadata": {},
   "source": [
    "**Correction**: \n",
    "\n",
    "Pour tout $k\\geq1$, on définit la proposition $P_k$ : pour tout $p\\in\\mathbb{N}$ tel que $0\\leq p<k$ on a\n",
    "$$\\langle r_k,d_p\\rangle=\\langle Ad_k,d_p\\rangle=\\langle r_k,r_p\\rangle=0.$$ \n",
    "\n",
    "D'après, la question 4 de l'exercice 1, on a $\\langle r_1,d_0\\rangle=0$.\n",
    "De plus, $$\\langle Ad_1,d_0\\rangle=\\langle d_1,Ad_0\\rangle=\\langle -r_1+\\frac{\\langle Ar_1, d_0\\rangle}{\\langle Ad_0, d_0\\rangle}d_0,Ad_0\\rangle=0$$\n",
    "Et enfin, $\\langle r_1,r_0\\rangle=\\langle r_1,-d_0\\rangle=0$.\n",
    "Donc $P_{1}$ est vraie. \n",
    "\n",
    "Supposons que $P_k$ est vraie pour un $k\\geq1$.\n",
    "\n",
    "- D'après la question 4 de l'exercice 1, on a $\\langle r_{k+1},d_k\\rangle=0$. Pour tout $p\\in\\mathbb{N}$ tel que $0\\leq p<k$, on a\n",
    "$$\\langle r_{k+1}, d_p\\rangle=\\langle r_{k}, d_p\\rangle+\\alpha_k\\langle Ad_{k}, d_p\\rangle=0,$$\n",
    "d'après l'hypothèse $P_k$.\n",
    "\n",
    "- De plus, pour tout $p\\in\\mathbb{N}$ tel que $0\\leq p\\leq k$\n",
    "$$\\langle r_{k+1}, r_p\\rangle=\\langle r_{k+1}, -d_p+\\frac{\\langle Ar_{p}, d_{p-1}\\rangle}{\\langle Ad_{p-1}, d_{p-1}\\rangle}d_{p-1}\\rangle=0$$\n",
    "\n",
    "- Enfin, on a $$\\langle Ad_{k+1}, d_k\\rangle=\\langle d_{k+1}, Ad_k\\rangle=\\langle -r_{k+1}+\\frac{\\langle Ar_{k+1}, d_k\\rangle}{\\langle Ad_k, d_k\\rangle}d_k, Ad_k\\rangle=0$$\n",
    "et de plus pour tout $p\\in\\mathbb{N}$ tel que $0\\leq p<k$, on a\n",
    "$$\\langle Ad_{k+1}, d_p\\rangle=\\langle -r_{k+1}+\\frac{\\langle Ar_{k+1}, d_k\\rangle}{\\langle Ad_k, d_k\\rangle}d_k, Ad_p\\rangle=\\langle r_{k+1},A d_p\\rangle=\\frac{1}{\\alpha_k}\\langle r_{k+1}, r_{p+1}-r_p\\rangle=0$$\n"
   ]
  },
  {
   "cell_type": "markdown",
   "metadata": {},
   "source": [
    "**Question 3** :  En déduire que les $(d_k)_{0\\leq k\\leq n}$ forment une famille libre, tant que $r_k\\neq0$."
   ]
  },
  {
   "cell_type": "markdown",
   "metadata": {},
   "source": [
    "**Correction**: Tant que $r_k\\neq0$, on a $d_k\\neq 0$ et on a aussi $\\langle Ad_{k}, d_l\\rangle=0$\n",
    "pour tout $k,l\\leq n$, alors les $(d_k)_{0\\leq k\\leq n}$ forment une famille libre."
   ]
  },
  {
   "cell_type": "markdown",
   "metadata": {},
   "source": [
    "**Question 4** : En déduire qu'il existe  $k_0\\leq n+1$ tel que  $r_{k_0}=0$, puis que la suite $(x_k)_{k\\in\\mathbb{N}}$ converge. En combien d'itérations (au plus) la suite converge-t-elle ?"
   ]
  },
  {
   "cell_type": "markdown",
   "metadata": {},
   "source": [
    "**Correction**: Supposons par l'absurde que pour tout $k\\leq n+1$, on ait $r_k\\neq 0$. Alors la famille  $(d_k)_{0\\leq k\\leq n+1}$ est libre, ce qui est en contradiction avec le fait que $\\mathbb{R}^n$ est de dimension $n$. La suite converge donc en $n+1$ itérations au plus."
   ]
  },
  {
   "cell_type": "markdown",
   "metadata": {},
   "source": [
    "**Question 5** : Montrer que $\\frac{<Ar_k, d_{k-1}>}{<Ad_{k-1}, d_{k-1}>}=\\frac{||r_k||^2}{||r_{k-1}||^2}.$ \n",
    "\n",
    "Remarque : La direction de descente de la méthode du gradient conjugué peut donc être calculée par $d_k=-r_k+\\frac{||r_k||^2}{||r_{k-1}||^2}d_{k-1}$, avec l'initialisation $d_0=-r_0$."
   ]
  },
  {
   "cell_type": "markdown",
   "metadata": {},
   "source": [
    "**Correction**: D'après la question 3 de l'exercice 1 et la question 2 de l'exercice 2, \n",
    "$$\\frac{<Ar_k, d_{k-1}>}{<Ad_{k-1}, d_{k-1}>}=\\frac{<r_k, Ad_{k-1}>}{<Ad_{k-1}, d_{k-1}>}\n",
    "=\\frac{\\frac{1}{\\alpha_{k-1}}<r_k, r_k-r_{k-1}>}{\\frac{1}{\\alpha_{k-1}}<r_k-r_{k-1}, d_{k-1}>}\n",
    "=-\\frac{||r_k||^2}{<r_{k-1}, d_{k-1}>}$$\n",
    "$$=-\\frac{||r_k||^2}{<r_{k-1},-r_{k-1}+\\frac{<Ar_{k-1}, d_{k-2}>}{<Ad_{k-2}, d_{k-2}>}d_{k-2}>}=\\frac{||r_k||^2}{||r_{k-1}||^2}.$$"
   ]
  },
  {
   "cell_type": "markdown",
   "metadata": {},
   "source": [
    "### Exercice 3 : Méthode de Jacobi vue comme une méthode de descente\n",
    "\n",
    "On considère la fonction $$f:x\\mapsto \\frac{1}{2}<Ax, x>-<b,x>$$ avec $A$ une matrice de $\\mathcal{M}_n(\\mathbb{R})$ symétrique définie positive et $b$ un vecteur de $\\mathbb{R}^n$."
   ]
  },
  {
   "cell_type": "markdown",
   "metadata": {},
   "source": [
    "**Question 1** : Montrer que la méthode itérative de Jacobi (utilisée pour résoudre le système $Ax=b$) peut s'écrire comme une méthode de descente à pas fixe pour la minimisation de $f$. On l'appellera la **méthode de descente de Jacobi**.\n",
    "Donner l'expression du pas de descente $\\alpha$ et de la direction de descente $d_k$.\n"
   ]
  },
  {
   "cell_type": "markdown",
   "metadata": {},
   "source": [
    "**Correction**: Soit $M$ la matrice contenant la diagonale de $A$ et $N=M-A$.\n",
    "La méthode de Jacobi s'écrit:\n",
    "$$Mx_{k+1}=Nx_k+b=Mx_k-r_k,$$\n",
    "ce qui implique\n",
    "$$x_{k+1}=x_k-M^{-1}r_k.$$\n",
    "Donc la méthode de Jacobi est une méthode de descente avec $\\alpha_k=1$ et $d_k=-M^{-1}r_k$."
   ]
  },
  {
   "cell_type": "markdown",
   "metadata": {},
   "source": [
    "**Question 2** : Vérifier que ce $d_k$ est bien une direction de descente (stricte) pour tout $k\\geq0$.\n"
   ]
  },
  {
   "cell_type": "markdown",
   "metadata": {},
   "source": [
    "**Correction**: $A$ étant une matrice symétrique définie positive, $a_{ii}=\\langle Ae_i,e_i\\rangle>0$ pour tout $i\\in\\{1,...,n\\}$. Donc les coefficients de la matrice diagonale $M^{-1}$ (qui sont les $\\frac{1}{a_{ii}}$) sont tous strictement positifs, donc $M^{-1}$ est elle-même symétrique définie positive. Donc $\\langle x, M^{-1}x\\rangle>0$ pour tout vecteur $x\\in\\mathbb{R}^n$.\n",
    "\n",
    "D'où\n",
    "$$\\langle \\nabla f(x_k),d_k\\rangle=\\langle r_k,-M^{-1}r_k\\rangle>0.$$\n",
    "Donc $d_k$ est une direction de descente stricte pour tout $k\\geqslant 0$ dès que $r_k\\neq0$."
   ]
  },
  {
   "cell_type": "markdown",
   "metadata": {},
   "source": [
    "**Question 3a** : On souhaite améliorer la **méthode de descente de Jacobi** en prenant non plus un pas fixe $\\alpha$ dans l'algorithme mais un pas optimal, défini à l'itération $k$ par $$f(x_k+\\alpha_kd_k)=\\underset{\\alpha>0}{\\min}f(x_k+\\alpha d_k).$$ On conserve la même direction de descente $d_k$ que pour la **méthode de descente de Jacobi**. On parlera dans la suite de **méthode de descente de Jacobi à pas optimal**. \n",
    "\n",
    "Justifier l'existence et l'unicité de ce pas optimal $\\alpha_k$."
   ]
  },
  {
   "cell_type": "markdown",
   "metadata": {},
   "source": [
    "**Correction**: Supposons que $d_k\\neq 0$. À l'aide du même raisonnement que dans l'exercice 1, \n",
    "$$f(x_k+\\alpha d_k)\\underset{\\alpha\\rightarrow +\\infty}{\\rightarrow}+\\infty.$$\n",
    "Donc il existe $\\alpha_0\\geq0$ tel que pour tout $\\alpha\\geq 0$ on a $f(x_k+\\alpha d_k)\\geq f(x_k)$.\n",
    "D'où\n",
    "$$\\inf\\limits_{\\alpha\\in\\mathbb{R}^+}f(x_k+\\alpha d_k)=\\inf\\limits_{\\alpha\\in[0,\\alpha_0]}f(x_k+\\alpha d_k).$$\n",
    "Comme $[0,\\alpha_0]$ est compact et $f$ continue, ce problème d'optimisation admet des solutions $\\bar \\alpha$ qui vérifient soit $\\bar\\alpha=0$ soit $\\varphi'(\\bar\\alpha)=0$ où $\\varphi: \\alpha\\geqslant 0\\mapsto f(x_k-\\alpha\\nabla f(x_k))$.\n",
    "Comme $d_k$ est une direction de descente stricte, $\\bar\\alpha\\neq0$.\n",
    "On a \n",
    "$$0=\\varphi'(\\bar\\alpha)=\\langle \\nabla f(x_k+\\bar\\alpha d_k),d_k\\rangle\n",
    "=\\langle A(x_k+\\bar\\alpha d_k)-b,d_k\\rangle,$$\n",
    "c'est-à-dire\n",
    "$$\\bar\\alpha=-\\frac{\\langle Ax_{k}-b, d_{k}\\rangle}{\\langle Ad_{k}, d_{k}\\rangle}\n",
    "=-\\frac{\\langle r_k, d_{k}\\rangle}{\\langle Ad_{k}, d_{k}\\rangle}.$$\n",
    "ce qui donne l'unicite de $\\bar\\alpha$."
   ]
  },
  {
   "cell_type": "markdown",
   "metadata": {},
   "source": [
    "**Question 3b** :  Donner son expression à chaque itération.\n"
   ]
  },
  {
   "cell_type": "markdown",
   "metadata": {},
   "source": [
    "**Correction**: À chaque itération \n",
    "$$\\alpha_k=-\\frac{\\langle r_k, d_{k}\\rangle}{\\langle Ad_{k}, d_{k}\\rangle}.$$"
   ]
  },
  {
   "cell_type": "markdown",
   "metadata": {},
   "source": [
    "**Question 4a** : On suppose maintenant que la diagonale extraite de la matrice $A$ s'écrit $D=\\beta\\text{I}_n$, avec $\\text{I}_n$ la matrice identité.\n",
    "Écrire la **méthode de descente de Jacobi** dans ce cas particulier et la **méthode de descente de Jacobi à pas optimal**.\n"
   ]
  },
  {
   "cell_type": "markdown",
   "metadata": {},
   "source": [
    "**Correction**: \n",
    "\n",
    "- méthode de descente de Jacobi: dans ce cas, on a \n",
    "$\\alpha_k=1$ et $d_k=-\\beta^{-1}r_k$.\n",
    "\n",
    "- méthode de descente de Jacobi à pas optimal: dans ce cas, on a \n",
    "$\\alpha_k=\\frac{\\langle r_k, \\beta^{-1}r_k\\rangle}{\\langle A\\beta^{-1}r_k, \\beta^{-1}r_k\\rangle}\n",
    "=\\frac{\\| r_k\\|^2}{\\beta^{-1}\\langle Ar_k, r_k\\rangle}$ et $d_k=-\\beta^{-1}r_k$."
   ]
  },
  {
   "cell_type": "markdown",
   "metadata": {},
   "source": [
    "**Question 4b** : Quel(s) algorithme(s) de descente vu(s) en classe reconnaissez-vous ?\n"
   ]
  },
  {
   "cell_type": "markdown",
   "metadata": {},
   "source": [
    "**Correction**: \n",
    "\n",
    "- méthode de descente de Jacobi: on retrouve la méthode de descente de gradient à pas fixe de pas $\\beta^{-1}$.\n",
    "\n",
    "- méthode de descente de Jacobi à pas optimal: on retrouve la méthode de descente de gradient à pas optimal."
   ]
  },
  {
   "cell_type": "markdown",
   "metadata": {},
   "source": [
    "# Implémentation python\n",
    "\n",
    "## Exercice 4 : Méthode du gradient à pas fixe : illustration graphique\n",
    "\n",
    "On va illustrer numériquement le principe de la méthode de gradient à pas fixe en s'assurant que la suite des itérées $(x_k)_{k\\in\\mathbb{N}}$ converge bien vers le minimum de $f:x\\mapsto \\frac{1}{2}<Ax, x>-<b,x>$.\n",
    "\n",
    "**Question 1**: Écrire une fonction python **GradientPasFixe**, qui à partir de $A$ une matrice symétrique définie positive, $b$ un vecteur de $\\mathbb{R}^n$,  $\\alpha$ un pas de descente, $x_0$ un vecteur initialisation, $\\varepsilon>0$ la précision voulue et $k_{max}$ le nombre maximal d'itérations renvoie la valeur approchée de la solution de $Ax=b$. On utilisera pour critère d'arrêt le critère suivant\n",
    "<center>\n",
    "Arrêt lorsque $\\| A x_{k} - b \\| \\leqslant \\varepsilon$ ou $k>k_{max}$.\n",
    "</center>\n"
   ]
  },
  {
   "cell_type": "code",
   "execution_count": 1,
   "metadata": {},
   "outputs": [],
   "source": [
    "import numpy as np\n",
    "import matplotlib.pyplot as plt\n",
    "\n",
    "def GradientPasFixe(A, b, alpha, x0, epsilon, kmax):\n",
    "    res=1\n",
    "    k=0\n",
    "    x=x0\n",
    "    Liste_X=[]\n",
    "    Liste_Y=[]\n",
    "    erreur=[]\n",
    "    xbar=np.linalg.solve(A, b)\n",
    "    while (np.linalg.norm(res)>epsilon) and (k<=kmax):\n",
    "        d=-(np.dot(A, x)-b)\n",
    "        x=x+alpha*d\n",
    "        res=np.dot(A, x)-b\n",
    "        k=k+1\n",
    "        Liste_X.append(x[0])\n",
    "        Liste_Y.append(x[1])\n",
    "        erreur.append(np.linalg.norm(xbar-x))\n",
    "    return x, Liste_X, Liste_Y, erreur, k"
   ]
  },
  {
   "cell_type": "markdown",
   "metadata": {},
   "source": [
    "**Question 2**: Appliquer cette fonction à $f(x,y)=2x^2+3x+y^2$ et $g(x, y)=x^2+y^2-2y$. On prendra soin d'expliciter les matrices $A_f$, $A_g$ et les vecteurs $b_f$ et $b_g$ correspondants. On pourra par exemple prendre une précision de $\\varepsilon=10^{-10}$, un pas $\\alpha=0.01$ et on pourra partir de $x_0=(7.5, 5)^t$. Vérifier que le nombre total d'itérations n'atteint pas votre $k_{max}$.\n"
   ]
  },
  {
   "cell_type": "code",
   "execution_count": 2,
   "metadata": {},
   "outputs": [
    {
     "name": "stdout",
     "output_type": "stream",
     "text": [
      "('x_f=', array([-7.50000000e-01,  4.97128799e-11]), 'x_g=', array([4.40999554e-11, 1.00000000e+00]), 'k_f=', 1254, 'k_g=', 1280, '\\n')\n",
      "('verification', array([-3.00000000e+00,  9.94257598e-11]), array([8.81999107e-11, 2.00000000e+00]), '\\n')\n"
     ]
    }
   ],
   "source": [
    "def f(x,y):\n",
    "    return 2*x**2+3*x+y**2\n",
    "A_f=np.array([[4., 0.], [0., 2.]])\n",
    "b_f=np.array([-3., 0.])\n",
    "\n",
    "def g(x,y):\n",
    "    return x**2+y**2-2*y\n",
    "A_g=np.array([[2., 0.], [0., 2.]])\n",
    "b_g=np.array([0., 2.])\n",
    "\n",
    "\n",
    "x_f, Liste_X_f, Liste_Y_f, erreur_f, k_f=GradientPasFixe(A_f, b_f, 0.01, np.array([7.5, 5]), 1.e-10, 100000)\n",
    "x_g, Liste_X_g, Liste_Y_g, erreur_g, k_g=GradientPasFixe(A_g, b_g, 0.01, np.array([7.5, 5]), 1.e-10, 100000)   \n",
    "\n",
    "print('x_f=', x_f, 'x_g=',x_g, 'k_f=',k_f, 'k_g=',k_g, '\\n')\n",
    "print('verification', np.dot(A_f, x_f), np.dot(A_g, x_g), '\\n')   "
   ]
  },
  {
   "cell_type": "markdown",
   "metadata": {},
   "source": [
    "**Question 3**:  Vérifier que le résultat fourni par votre fonction  **GradientPasFixe** est bien le même que celui obtenu par une méthode itérative (Jacobi ou Gauss-Seidel par exemple).\n"
   ]
  },
  {
   "cell_type": "code",
   "execution_count": 18,
   "metadata": {},
   "outputs": [
    {
     "name": "stdout",
     "output_type": "stream",
     "text": [
      "('x_fjacobi=', array([-0.75,  0.  ]), 'x_f=', array([-7.50000000e-01,  4.97128799e-11]), '\\n')\n",
      "('x_gjacobi=', array([0., 1.]), 'x_g=', array([4.40999554e-11, 1.00000000e+00]), '\\n')\n"
     ]
    }
   ],
   "source": [
    "def Meth_Jacobi(A,b, eps, x0):\n",
    "    M=np.diag(np.diag(A), 0)\n",
    "    N=M-A\n",
    "    \n",
    "    x_bar=np.linalg.solve(A,b)\n",
    "    # initalisation\n",
    "    k=0\n",
    "    x=x0\n",
    "    res=np.dot(A, x)-b\n",
    "    res_relatif=np.linalg.norm(res)/np.linalg.norm(b)\n",
    "    res_relatif_liste=[res_relatif]\n",
    "    erreur_relative_liste=[np.linalg.norm(x-x_bar)/np.linalg.norm(x_bar)]\n",
    "    \n",
    "    #boucle des iteres\n",
    "    while res_relatif>eps:\n",
    "        # mis a jour de la suite\n",
    "        x=x-np.dot(np.linalg.inv(M), res)\n",
    "        res=np.dot(A,x)-b\n",
    "        k+=1\n",
    "        \n",
    "        res_relatif=np.linalg.norm(res)/np.linalg.norm(b)\n",
    "        res_relatif_liste.append(res_relatif)\n",
    "        erreur_relative_liste.append(np.linalg.norm(x-x_bar)/np.linalg.norm(x_bar))\n",
    "        \n",
    "    # calcul du rayon spectral\n",
    "    val, vect=np.linalg.eig(np.matmul(np.linalg.inv(M), N))\n",
    "    rho=np.max(np.abs(val))\n",
    "    return x, k, res_relatif_liste, erreur_relative_liste, rho\n",
    "\n",
    "x_fj, k_fj, res_relatif_liste_fj, erreur_relative_liste_fj, rho_fj=Meth_Jacobi(A_f,b_f, 1.e-10, np.array([7.5, 5]))\n",
    "x_gj, k_gj, res_relatif_liste_gj, erreur_relative_liste_gj, rho_gj=Meth_Jacobi(A_g,b_g, 1.e-10, np.array([7.5, 5]))\n",
    "\n",
    "print('x_fjacobi=',x_fj, 'x_f=', x_f, '\\n')\n",
    "print('x_gjacobi=',x_gj, 'x_g=',x_g, '\\n')"
   ]
  },
  {
   "cell_type": "markdown",
   "metadata": {},
   "source": [
    "**Question 4**:  On va visualiser graphiquement la suite $(x_k)_{k\\in\\mathbb{N}}$ obtenue par la méthode de gradient à pas fixe.\n",
    "\n",
    "**Question 4a**:  Créer une grille de taille $[-10, 10]\\times [-10, 10]$. Les abscisses des nœuds de cette grille seront stockés dans un vecteur X \n",
    "et les ordonnées dans Y. Pour cela, on pourra utiliser le code\n",
    "\n",
    "```\n",
    "          X_bord = np.arange(-10,10,0.01)\n",
    "          Y_bord = np.arange(-10,10,0.01)\n",
    "          X, Y = np.meshgrid(X_bord, Y_bord)}\n",
    "```\n",
    "\n"
   ]
  },
  {
   "cell_type": "markdown",
   "metadata": {},
   "source": [
    "**Question 4b**:  Tracer les lignes de niveau de la fonction $f$ au moyen de la commande **plt.contour(X, Y, f(X, Y)).**\n"
   ]
  },
  {
   "cell_type": "markdown",
   "metadata": {},
   "source": [
    "**Question 4c**:  Afficher, sur la figure, les points $(x_k)_{k\\in\\mathbb{N}}$ au moyen d'un marqueur \"o\". On pourra pour cela modifier notre fonction python **GradientPasFixe** pour qu'elle ressorte la liste des abscisses et des ordonnées des $(x_k)_{k\\in\\mathbb{N}}.$ La figure est-elle conforme à nos attentes ?\n"
   ]
  },
  {
   "cell_type": "code",
   "execution_count": 19,
   "metadata": {},
   "outputs": [
    {
     "data": {
      "image/png": "[encoded data removed]",
      "text/plain": [
       "<matplotlib.figure.Figure at 0x7fe1d00d0d50>"
      ]
     },
     "metadata": {
      "needs_background": "light"
     },
     "output_type": "display_data"
    }
   ],
   "source": [
    "plt.figure(1)\n",
    "plt.clf()\n",
    "X_bord = np.arange(-10,10,0.01)\n",
    "Y_bord = np.arange(-10,10,0.01)\n",
    "X, Y = np.meshgrid(X_bord, Y_bord)\n",
    "Z = f(X, Y)\n",
    "#plt.axis('equal')\n",
    "plt.contour(X, Y, Z)\n",
    "plt.plot(Liste_X_f, Liste_Y_f, marker='o')\n",
    "plt.title('Fonction f')\n",
    "plt.show()"
   ]
  },
  {
   "cell_type": "markdown",
   "metadata": {},
   "source": [
    "**Question 4d**:  Dans une seconde figure, afficher la liste des itérées $(x_k)_{k\\in\\mathbb{N}}$ et les lignes de niveau pour la fonction $g$."
   ]
  },
  {
   "cell_type": "code",
   "execution_count": 20,
   "metadata": {},
   "outputs": [
    {
     "data": {
      "image/png": "[encoded data removed]",
      "text/plain": [
       "<matplotlib.figure.Figure at 0x7fe2088e5350>"
      ]
     },
     "metadata": {
      "needs_background": "light"
     },
     "output_type": "display_data"
    }
   ],
   "source": [
    "plt.figure(2)\n",
    "plt.clf()\n",
    "X_bord = np.arange(-10,10,0.01)\n",
    "Y_bord = np.arange(-10,10,0.01)\n",
    "X, Y = np.meshgrid(X_bord, Y_bord)\n",
    "Z = g(X, Y)\n",
    "#plt.axis('equal')\n",
    "plt.contour(X, Y, Z)\n",
    "plt.plot(Liste_X_g, Liste_Y_g, marker='o')\n",
    "plt.title('Fonction g')\n",
    "plt.show()"
   ]
  },
  {
   "cell_type": "markdown",
   "metadata": {},
   "source": [
    "# Exercice 5 : Matrice de Hilbert\n",
    "\n",
    "On veut résoudre $Ax=b$ pour $A$ la matrice de Hilbert de terme général $a_{i,j}=\\frac{1}{i+j-1},$ pour $1\\leq i, j\\leq N$. On notera $\\bar{x}$ la solution.\n",
    "\n",
    "**Question 1:** Ecrire une fonction **MatHilbert(N)** afin d'implémenter la matrice $A$ en python (attention, les indices en python commencent à 0, il faut donc adapter la formule de $a_{i,j}$)."
   ]
  },
  {
   "cell_type": "code",
   "execution_count": 21,
   "metadata": {},
   "outputs": [],
   "source": [
    "N=5\n",
    "A=np.zeros((N,N))\n",
    "for i in range(0,N):\n",
    "    for j in range(0,N):\n",
    "        A[i,j]=1./(i+j+1)\n",
    "x_exact=np.ones(N)\n",
    "b=np.dot(A, x_exact)"
   ]
  },
  {
   "cell_type": "markdown",
   "metadata": {},
   "source": [
    "**Question 2:**  Coder l'algorithme de gradient à pas optimal dans une fonction **GradientOptimal**, qui prend en argument une matrice $A$ symétrique définie positive, un vecteur $b$, une initialisation $x_0$, une précision $\\varepsilon$ et un nombre maximal d'itérations $k_{max}$ et qui redonne en sortie l'approximation de $\\bar{x}$ par la méthode du gradient à pas optimal ainsi que le nombre effectif d'itérations.\n"
   ]
  },
  {
   "cell_type": "code",
   "execution_count": 22,
   "metadata": {},
   "outputs": [],
   "source": [
    "def GradientOptimal(A, b, x0, epsilon, kmax):\n",
    "    k=0\n",
    "    x=x0\n",
    "    res=np.dot(A, x)-b\n",
    "    xbar=np.linalg.solve(A,b)\n",
    "    erreur=[]\n",
    "    while (np.linalg.norm(res)>epsilon) and (k<=kmax):\n",
    "        d=-(np.dot(A, x)-b)\n",
    "        alpha=np.dot(res, res)/np.dot(np.dot(A, res), res)\n",
    "        x=x+alpha*d\n",
    "        res=np.dot(A, x)-b\n",
    "        k=k+1\n",
    "        erreur.append(np.linalg.norm(xbar-x))\n",
    "    return x, k, erreur"
   ]
  },
  {
   "cell_type": "markdown",
   "metadata": {},
   "source": [
    "**Question 3:**  De même, coder une fonction **GradientConjugue** avec les mêmes arguments et les mêmes sorties que précédemment mais pour la méthode du gradient conjugué.\n"
   ]
  },
  {
   "cell_type": "code",
   "execution_count": 23,
   "metadata": {},
   "outputs": [],
   "source": [
    "def GradientConjugue(A, b, x0, epsilon, kmax):\n",
    "    k=0\n",
    "    x=x0\n",
    "    res=np.dot(A, x)-b\n",
    "    d=-(np.dot(A, x)-b)\n",
    "    erreur=[]\n",
    "    xbar=np.linalg.solve(A,b)\n",
    "    while (np.linalg.norm(res)>epsilon) and (k<=kmax):\n",
    "        alpha=-np.dot(res, d)/np.dot(np.dot(A, d), d)\n",
    "        x=x+alpha*d\n",
    "        res=np.dot(A, x)-b\n",
    "        d=-res+np.dot(np.dot(A,res), d)/np.dot(np.dot(A, d), d)*d\n",
    "        k=k+1\n",
    "        erreur.append(np.linalg.norm(xbar-x))\n",
    "    return x, k, erreur"
   ]
  },
  {
   "cell_type": "markdown",
   "metadata": {},
   "source": [
    "**Question 4:**  Comparer ces deux méthodes avec $A$ la matrice de Hilbert de taille $N=10$, $b=A^{-1}\\bar{x}$ où $\\bar{x}=(1, 1, ..., 1)^t$. On pourra prendre une précision de $\\varepsilon = 10^{-10}$. Quel est le résultat (théorique) attendu ? Quels sont les résultats numériques ? Comparer le nombre effectif d'itérations pour ces deux méthodes : pouvait-on prévoir un nombre maximal d'itérations pour la méthode du gradient conjugué (si oui, lequel) ?\n"
   ]
  },
  {
   "cell_type": "code",
   "execution_count": 24,
   "metadata": {},
   "outputs": [
    {
     "name": "stdout",
     "output_type": "stream",
     "text": [
      "Question 4, \n",
      "\n",
      "('x_opt=', array([0.99998397, 1.00041427, 0.99791126, 1.00346632, 0.99819306]), 'k_opt=', 13017, '\\n')\n",
      "('verification=', array([2.28333339, 1.45      , 1.09285721, 0.88452385, 0.74563489]), '\\n')\n",
      "\n",
      "\n",
      "('x_conj=', array([0.99997131, 1.00054232, 0.99764772, 1.00356527, 0.99825155]), 'k_conj=', 4, '\\n')\n",
      "('verification=', array([2.28333333, 1.45      , 1.09285713, 0.88452382, 0.74563491]), '\\n')\n"
     ]
    }
   ],
   "source": [
    "x_opt, k_opt, erreur_opt=GradientOptimal(A, b, np.zeros(N), 1.e-7, 100000)\n",
    "x_conj, k_conj, erreur_conj=GradientConjugue(A, b, np.zeros(N), 1.e-7, 100000)\n",
    "\n",
    "print(\"Question 4, \\n\")\n",
    "print(\"x_opt=\", x_opt, \"k_opt=\", k_opt, '\\n')\n",
    "print('verification=', np.dot(A, x_opt), '\\n')\n",
    "print(\"\\n\")\n",
    "print('x_conj=', x_conj, 'k_conj=', k_conj, '\\n')\n",
    "print('verification=', np.dot(A, x_conj), '\\n')    \n"
   ]
  },
  {
   "cell_type": "markdown",
   "metadata": {},
   "source": [
    "# Exercice 6: Comparaison des vitesses de convergence\n",
    "\n",
    "On prendra dans cet exercice \n",
    "$A=\\begin{pmatrix}1&&&&0\\\\\n",
    "&2&&&\\\\\n",
    "&&3&\\\\\n",
    "&&&\\ddots&\\\\\n",
    "0&&&&N\n",
    "\\end{pmatrix}$ et $b$ tel que la solution $\\bar{x}$ recherchée soit $\\bar{x} =\\begin{pmatrix}1&1&\\dots&1\\end{pmatrix}^t.$\n",
    "\n",
    "**Question 1**: Modifier vos fonctions **GradientPasFixe**, **GradientOptimal** et **GradientConjugue** pour qu'elles ressortent (en plus des sorties précédentes) la liste des erreurs $||\\bar{x}-x_k||$ pour $k\\geq0$. On pourra calculer $\\bar{x}$ avec la commande **np.linalg.solve(A,b)**.\n"
   ]
  },
  {
   "cell_type": "markdown",
   "metadata": {},
   "source": [
    "**Question 2**: Sur un même graphique, comparez les vitesses de convergence de ces trois méthodes pour $N=100$. Pour cela, afficher les erreurs en fonction du nombre d'itérations (pour la méthode de gradient à pas fixe, on pourra prendre le pas $\\alpha=0.01$). On affichera les courbes avec une échelle logarithmique en ordonnée au moyen de la commande **plt.yscale('log')**. Penser à mettre un titre, des légendes et des couleurs différentes à vos courbes.\n"
   ]
  },
  {
   "cell_type": "code",
   "execution_count": 25,
   "metadata": {},
   "outputs": [
    {
     "data": {
      "image/png": "[encoded data removed]",
      "text/plain": [
       "<matplotlib.figure.Figure at 0x7fe1d01bc610>"
      ]
     },
     "metadata": {
      "needs_background": "light"
     },
     "output_type": "display_data"
    }
   ],
   "source": [
    "d=np.linspace(1, 100, 100)\n",
    "A=np.diag(d)\n",
    "b=np.dot(A, np.ones(100))\n",
    "\n",
    "x_fixe, Liste_X_fixe, Liste_Y_fixe, erreur_fixe, k_fixe=GradientPasFixe(A, b, 0.01, np.zeros(100), 1.e-7, 100000)\n",
    "x_opt, k_opt, erreur_opt=GradientOptimal(A, b, np.zeros(100), 1.e-7, 100000)\n",
    "x_conj, k_conj, erreur_conj=GradientConjugue(A, b, np.zeros(100), 1.e-7, 100000)\n",
    "\n",
    "plt.figure(3)\n",
    "plt.clf()\n",
    "plt.plot(np.linspace(1, k_fixe, k_fixe), erreur_fixe, color='g', label=\"gradient pas fixe\")\n",
    "plt.plot(np.linspace(1, k_opt, k_opt), erreur_opt, color='b', label=\"gradient optimal\")\n",
    "plt.plot(np.linspace(1, k_conj, k_conj), erreur_conj, color='r', label=\"gradient conjugue\")\n",
    "plt.yscale('log')\n",
    "plt.legend(loc='best')\n",
    "plt.title('Ordre de convergence')\n",
    "plt.show()"
   ]
  }
 ],
 "metadata": {
  "kernelspec": {
   "display_name": "Python 3 (ipykernel)",
   "language": "python",
   "name": "python3"
  },
  "language_info": {
   "codemirror_mode": {
    "name": "ipython",
    "version": 3
   },
   "file_extension": ".py",
   "mimetype": "text/x-python",
   "name": "python",
   "nbconvert_exporter": "python",
   "pygments_lexer": "ipython3",
   "version": "3.9.12"
  }
 },
 "nbformat": 4,
 "nbformat_minor": 4
}
