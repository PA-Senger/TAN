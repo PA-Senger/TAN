{
 "cells": [
  {
   "cell_type": "markdown",
   "metadata": {},
   "source": [
    "## Convergence des méthodes itératives"
   ]
  },
  {
   "cell_type": "markdown",
   "metadata": {},
   "source": [
    "### Exercice 1 : Application du théorème de convergence\n",
    "\n",
    "*Soit $A=\\begin{pmatrix}\n",
    "3&1&0&0&0\\\\\n",
    "1&2&1&0&0\\\\\n",
    "0&2&3&1&0\\\\\n",
    "0&0&1&4&3\\\\\n",
    "0&0&0&1&1\\\\\n",
    "\\end{pmatrix}.$\n",
    "On note $\\bar{x}$ l'unique solution de $Ax=b$.*"
   ]
  },
  {
   "cell_type": "markdown",
   "metadata": {},
   "source": [
    "**Question 1** : *Ecrire une itération de la méthode de Gauss-Seidel (c'est-à-dire $x_{k+1}$ en fonction de $x_k$).*"
   ]
  },
  {
   "cell_type": "markdown",
   "metadata": {},
   "source": [
    "**Correction**: Dans la méthode de Gauss-Seidel la matrice $M = D-E$ où E correspond à l'opposé de la partie sous-diagonale.\n",
    "\n",
    "Donc M correspond à la sous diagonale + la diagonale:\n",
    "\n",
    "\n",
    "Soit $M=\\begin{pmatrix}\n",
    "3&0&0&0&0\\\\\n",
    "1&2&0&0&0\\\\\n",
    "0&2&3&0&0\\\\\n",
    "0&0&1&4&0\\\\\n",
    "0&0&0&1&1\\\\\n",
    "\\end{pmatrix}.$\n",
    "\n",
    "La matrice $N= F$ avec $F$ l'opposé de la partie sur-diagonale. Donc\n",
    "\n",
    "$N=\\begin{pmatrix}\n",
    "0&-1&0&0&0\\\\\n",
    "0&0&-1&0&0\\\\\n",
    "0&0&0&-1&0\\\\\n",
    "0&0&0&0&-3\\\\\n",
    "0&0&0&0&0\\\\\n",
    "\\end{pmatrix}.$\n",
    "\n",
    "On écrit le procéssus itératif:\n",
    "\n",
    "$$\n",
    "M X^{k+1} = NX^{k} + b\n",
    "$$\n",
    "\n",
    "ce qui donne:\n",
    "\n",
    "$$\n",
    "\\left\\{\\begin{array}{l}\n",
    " 3 x_1^{k+1} = - x_2^k + b_1\\\\\n",
    " x_1^{k+1} + 2 x_2^{k+1} = - x_3^k + b_2 \\\\\n",
    " 2 x_2^{k+1} + 3 x_3^{k+1} = - x_4^k + b_3 \\\\\n",
    " x_3^{k+1} + 4 x_4^{k+1} = - 3x_5^k + b_4 \\\\\n",
    " x_4^{k+1} + x_5^{k+1} =  b_5 \\\\\n",
    "\\end{array}\\right.\n",
    "$$\n",
    "\n",
    "on résout le problème puisqu'il s'agit d'un problème triangulaire inférieur :\n",
    "\n",
    "$$\n",
    "\\left\\{\\begin{array}{l}\n",
    " x_1^{k+1} = - \\frac{x_2^k}{3} + \\frac{b_1}{3}\\\\\n",
    " x_2^{k+1} = - \\frac{x_3^k}{2} + \\frac{b_2}{2} + \\frac{x_2^k}{6} - \\frac{b_1}{6} \\\\\n",
    " x_3^{k+1} = - \\frac{x_4^k}{3} + \\frac{b_3}{3} + \\frac{x_3^k}{3} - \\frac{b_2}{3} - \\frac{x_2^k}{9} + \\frac{b_1}{9}\\\\\n",
    " x_4^{k+1} = - \\frac{3x_5^k}{4} + \\frac{b_4}{4}  + \\frac{x_4^k}{12} - \\frac{b_3}{12} - \\frac{x_3^k}{12} + \\frac{b_2}{12} + \\frac{x_2^k}{36} - \\frac{b_1}{36}\\\\\n",
    "  x_5^{k+1} =  b_5 + \\frac{3x_5^k}{4} - \\frac{b_4}{4}  - \\frac{x_4^k}{12} + \\frac{b_3}{12} + \\frac{x_3^k}{12} - \\frac{b_2}{12} - \\frac{x_2^k}{36} + \\frac{b_1}{36}\n",
    "\\end{array}\\right.\n",
    "$$\n",
    "\n",
    "Cette solution correspond à $X^{k+1} = M^{-1} N X^k + M^{-1} b$, avec \n",
    "$$M^{-1}N=\\begin{pmatrix}\n",
    "0&-1/3&0&0&0\\\\\n",
    "0&1/6&-1/2&0&0\\\\\n",
    "0&-1/9&1/3&-1/3&0\\\\\n",
    "0&1/36&-1/12&1/12&-3/4\\\\\n",
    "0&-1/36&1/12&-1/12&3/4\n",
    "\\end{pmatrix}\n",
    "$$\n"
   ]
  },
  {
   "cell_type": "markdown",
   "metadata": {},
   "source": [
    "**Question 2**: *On définit $e_k$ comme l'erreur suivante : $e_k=x_k-\\bar{x}$, pour tout $k\\geq0$. Montrer qu'il existe $\\alpha\\in[0,1[$ tel que* \n",
    "\n",
    "$$\n",
    "\\forall k \\in \\mathbb{N}, ||e_{k+1}||_{\\infty}\\leq \\alpha ||e_k||_{\\infty}.\n",
    "$$ \n",
    "\n",
    "*Relier $a$ à la matrice de la méthode itérative de Gauss-Seidel.*"
   ]
  },
  {
   "cell_type": "markdown",
   "metadata": {},
   "source": [
    "**Correction**:\n",
    "\n",
    "On définit $\\bar{x}$ solution de $Ax =b$. Ensuite on pose $e_k = x_k- \\bar{x}$. On écrit\n",
    "\n",
    "$$\n",
    "x^{k+1}-\\bar{x} = M^{-1}N x^k + M^{-1}b - \\bar{x} \n",
    "$$\n",
    "\n",
    "On a $A \\bar{x} =  M \\bar{x} - N \\bar{x} =b$ donc $M \\bar{x} = N \\bar{x} +b$ et donc $\\bar{x}= M^{-1}N \\bar{x} + M^{-1}b$. Cela permet d'avoir:\n",
    "\n",
    "$$\n",
    "x^{k+1}-\\bar{x} = M^{-1}N x^k + M^{-1}b - M^{-1}N\\bar{x} - M^{-1}b = M^{-1}N(x^k-\\bar{x})\n",
    "$$\n",
    "\n",
    "On a donc $e_{k+1}= M^{-1}N e_k$ et $\\parallel e_{k+1}\\parallel_{\\infty} =\\parallel M^{-1}N e_k\\parallel_{\\infty}$. On utilise les propriétés des normes \n",
    "\n",
    "on a donc\n",
    "\n",
    "$$\n",
    "\\parallel e_{k+1}\\parallel_{\\infty} \\leq \\parallel M^{-1}N \\parallel_{\\infty} \\parallel e_k\\parallel_{\\infty} \n",
    "$$\n",
    "\n",
    "On peut estimer la norme infinie de $M^{-1}N$. On obtient:\n",
    "\n",
    "$$\n",
    "\\parallel M^{-1}N \\parallel_{\\infty} = \\operatorname{max}_{i}\\left(\\frac{1}{3},\\frac{4}{6},\\frac{7}{9},\\frac{34}{36},\\frac{34}{36} \\right) =\\frac{34}{36}=\\frac{17}{18}\n",
    "$$\n",
    "\n",
    "On a donc $\\alpha =\\frac{17}{18}$."
   ]
  },
  {
   "cell_type": "markdown",
   "metadata": {},
   "source": [
    "**Question 3** : *En déduire la convergence de la suite $(e_k)_{k\\in\\mathbb{N}}$.*"
   ]
  },
  {
   "cell_type": "markdown",
   "metadata": {},
   "source": [
    "**Correction**:\n",
    "\n",
    "\n",
    "On obtient de façon récurrente que  $\\parallel  e^n \\parallel_{\\infty}  \\leq \\left(\\frac{17}{18}\\right)^n \\parallel\n",
    " e_0\\parallel_{\\infty}$. Puisque $\\frac{17}{18} < 1$ la suite géométrique converge vers zéro."
   ]
  },
  {
   "cell_type": "markdown",
   "metadata": {},
   "source": [
    "**Question 4** : *Faire le lien avec un théorème de convergence sur les méthodes itératives, vu en cours.*"
   ]
  },
  {
   "cell_type": "markdown",
   "metadata": {},
   "source": [
    "**Correction**: la suite converge si $\\alpha <1$\n",
    "\n",
    "Dans le cours la méthode converge si $\\parallel M^{-1}N\\parallel<1$ dans une certaine norme. On voit ici que $\\alpha=||| M^{-1}N|||_{\\infty}$ ce qui fait le lien."
   ]
  },
  {
   "cell_type": "markdown",
   "metadata": {},
   "source": [
    "### Exercice 2 : Critères de convergence\n",
    "\n",
    "*Soit $A=\\begin{pmatrix}1&a&a\\\\\n",
    "a&1&a\\\\\n",
    "a&a&1\n",
    "\\end{pmatrix}.$ Pour quelles valeurs de $a$ les méthodes de Jacobi et de Gauss-Seidel convergent-elles ?*\n",
    "\n",
    "**Indication** : *Pour la méthode de Gauss-Seidel, on distinguera les cas $a\\in[0,4]$ et $a\\in]-\\infty, 0[\\cup]4,+\\infty[$. On étudiera le cas $a\\in[0,4]$ pour la convergence.*"
   ]
  },
  {
   "cell_type": "markdown",
   "metadata": {},
   "source": [
    "**Correction** : \n",
    "\n",
    "(a) Pour Jacobi: $M=\\begin{pmatrix}1&0&0\\\\\n",
    "0&1&0\\\\\n",
    "0&0&1\n",
    "\\end{pmatrix}$ et $N=\\begin{pmatrix}0&-a&-a\\\\\n",
    "-a&0&-a\\\\\n",
    "-a&-a&0\n",
    "\\end{pmatrix}$\n",
    "\n",
    "On souhaite calculer le spectre de $M^{-1}N=N$:\n",
    "\n",
    "$$\n",
    "\\begin{array}{rcl}\n",
    "Det(N-\\lambda I_3) &=& -\\lambda Det\\begin{pmatrix}\n",
    "-\\lambda & -a\\\\\n",
    "-a&-\\lambda&\n",
    "\\end{pmatrix} + a Det\\begin{pmatrix}\n",
    "-a & -a\\\\\n",
    "-a&-\\lambda&\n",
    "\\end{pmatrix} - a Det\\begin{pmatrix}\n",
    "-a & -a\\\\\n",
    "-\\lambda &-a&\n",
    "\\end{pmatrix} \\\\\n",
    " &=&  -\\lambda (\\lambda^2-a^2) +a (a\\lambda -a^2)-a(a^2-a\\lambda)\\\\\n",
    " &=&  -\\lambda^3 +\\lambda a^2 + a^2\\lambda-a^3 -a^3+a^2\\lambda\\\\\n",
    " & =& -\\lambda^3 + 3a^2\\lambda -2 a^3 \\\\\n",
    " & =& (a-\\lambda)(\\lambda^2+a\\lambda-2a^2) \\\\\n",
    " & =& (a-\\lambda)\\left( \\lambda- \\frac{-a+3\\mid a\\mid}{2}\\right)\\left( \\lambda- \\frac{-a-3\\mid a\\mid}{2}\\right)\n",
    "\\end{array}\n",
    "$$\n",
    "\n",
    "donc le spectre est donné par $Sp=\\left\\{a,\\frac{-a+3\\mid a\\mid}{2},\\frac{-a-3\\mid a\\mid}{2}\\right\\}$.\n",
    "\n",
    "Si $a\\geq 0$ on a:\n",
    "\n",
    "$$\n",
    "Sp=\\left\\{a,a,-2a\\right\\}\n",
    "$$\n",
    "\n",
    "Le rayon spectral est inférieur (strictement) à un si $0<a<\\frac12$.\n",
    "\n",
    "Si $a< 0$ on a:\n",
    "\n",
    "$$\n",
    "Sp=\\left\\{a,-2a,a\\right\\}\n",
    "$$\n",
    "\n",
    "Le rayon spectral est inférieur (strictement) à un si $0<\\mid a \\mid<\\frac12$. On voit donc que le rayon spectral est plus petit que 1 (strictement) si et seulement si $a\\in \\left]-\\frac12,\\frac12\\right[$. Maintenant on applique la méthode de Gauss-Seidel. Les matrices $M$ et $N$ sont données par:\n",
    "\n",
    "$$\n",
    "M= \\begin{pmatrix}\n",
    "1 & 0 & 0\\\\\n",
    "a & 1 & 0\\\\\n",
    "a & a & 1\n",
    "\\end{pmatrix}, \\quad N= \\begin{pmatrix}\n",
    "0 & -a & -a\\\\\n",
    "0 & 0 & -a \\\\\n",
    "0 & 0 & 0\n",
    "\\end{pmatrix}\n",
    "$$\n",
    "\n",
    "On calcule rapidement l'inverse et le produit $M^{-1}N$:\n",
    "\n",
    "$$\n",
    "M^{-1}= \\begin{pmatrix}\n",
    "1 & 0 & 0\\\\\n",
    "-a & 1 & 0\\\\\n",
    "-a+a^2 & -a & 1\n",
    "\\end{pmatrix}, \\quad M^{-1}N = \\begin{pmatrix}\n",
    "0 & -a & -a\\\\\n",
    "0 & a^2 & a^2-a\\\\\n",
    "0 & a^2-a^3 & 2a^2-a^3\n",
    "\\end{pmatrix}\n",
    "$$\n",
    "\n",
    "Maintenant on va étudier le spectre de la matrice $M^{-1}N$. \n",
    "\n",
    "$$\n",
    "\\begin{array}{rcl}\n",
    "det\\left(M^{-1}N-\\lambda Id\\right) & = & -\\lambda\\begin{pmatrix}\n",
    "a^2-\\lambda & a^2-a \\\\\n",
    "a^2-a^3 & 2a^2-a^3-\\lambda\n",
    "\\end{pmatrix} \\\\\n",
    "& = & -\\lambda(a^2-\\lambda)(2a^2-a^3-\\lambda)+\\lambda(a^2-a^3)(a^2-a) \\\\\n",
    "&= & -\\lambda\\left(a^4(2-a)-a^2\\lambda-2a^2\\lambda+a^3\\lambda +\\lambda^2\\right) +\\lambda a^2(a-a^2)(a-1)\\\\\n",
    "& =& -\\lambda \\left(a^4(2-a)-3a^2\\lambda+a^3\\lambda+\\lambda^2-a^2(a-a^2)(a-1) \\right) \\\\\n",
    "& =&-\\lambda\\left( \\lambda^2+a^2(a-3)\\lambda +a^3\\right)\n",
    "\\end{array}\n",
    "$$\n",
    "\n",
    "On va etudier les valeurs propres du polynome de degré 2. On calcule le discriminant:\n",
    "\n",
    "$$\n",
    "\\Delta = a^3(a-1)^2(a-4)\n",
    "$$\n",
    "\n",
    "Cela nous permet de calculer le spectre.\n",
    "\n",
    "Si $a\\in [0,4]$ alors $\\Delta \\leq 0$: $Sp= \\left\\{0, \\frac{-a^2(-3+a) \\pm i\\sqrt{\\Delta }}{2} \\right\\}$\n",
    "\n",
    "Si $a\\in ]-\\infty,0[\\cup]4,\\infty[$ alors $\\Delta > 0$: $Sp= \\left\\{0, \\frac{-a^2(-3+a) \\pm \\sqrt{\\Delta }}{2} \\right\\}$\n",
    "\n",
    "Maintenant on va calculer le rayon spectral dans le 1er cas afin d'étudier la convergence de la méthode.\n",
    "\n",
    "$$\n",
    "\\rho(M^{-1}N) =\\sqrt{ \\frac{a^4(3-a)^2}{4} +\\frac{a^3(a-1)^2(4-a)}{4}}=a^\\frac{3}{2}\n",
    "$$\n",
    "\n",
    "On a la convergence si **le rayon spectral est inférieur à 1 (strictement)** ce qui est vrai si $a\\in [0,1[$."
   ]
  },
  {
   "cell_type": "markdown",
   "metadata": {},
   "source": [
    "### Exercice 3 : Méthode de relaxation (ou méthode SOR)\n",
    "\n",
    "*Etudier la convergence de la méthode SOR (ou méthode de relaxation) lorsque $A=\\begin{pmatrix}\n",
    "1&0&0\\\\1&1&1\\\\0&0&1\\end{pmatrix}$.*"
   ]
  },
  {
   "cell_type": "markdown",
   "metadata": {},
   "source": [
    "**Correction** : \n",
    "\n",
    "On calcule $M$ et $N$:\n",
    "\n",
    "$$\n",
    "M=\\left(\\frac{D}{w}-E \\right)=\\begin{pmatrix}\n",
    "\\frac{1}{w}&0&0\\\\1&\\frac{1}{w}&0\\\\0&0&\\frac{1}{w}\\end{pmatrix}\n",
    "$$\n",
    "\n",
    "et \n",
    "\n",
    "$$\n",
    "N=\\left(\\frac{(1-w)}{w}D+F \\right)=\\begin{pmatrix}\n",
    "\\frac{1-w}{w}&0&0\\\\0&\\frac{1-w}{w}&-1\\\\0&0&\\frac{1-w}{w}\\end{pmatrix}\n",
    "$$\n",
    "\n",
    "Ensuite on calcule $M^{-1}$ ce qui donne:\n",
    "\n",
    "$$\n",
    "M^{-1}=\\begin{pmatrix}\n",
    "w&0&0\\\\-w^2&w&0\\\\0&0&w\\end{pmatrix}\n",
    "$$\n",
    "\n",
    "Cela permet de calculer le produit $M^{-1}N$ \n",
    "\n",
    "$$\n",
    "M^{-1}N=\\begin{pmatrix}\n",
    "1-w&0&0\\\\-w(1-w)&1-w&-w\\\\0&0&1-w\\end{pmatrix}\n",
    "$$\n",
    "\n",
    "On prend la matrice:\n",
    "\n",
    "$$\n",
    "M^{-1}N - \\lambda I_3=\\begin{pmatrix}\n",
    "1-w-\\lambda&0&0\\\\-w(1-w)&1-w-\\lambda&-w\\\\0&0&1-w-\\lambda\\end{pmatrix}\n",
    "$$\n",
    "\n",
    "et on calcule le determinant de cette matrice:\n",
    "\n",
    "$$\n",
    "det\\left(M^{-1}N - \\lambda I_3\\right)=(1-w-\\lambda)\\begin{pmatrix}\n",
    "1-w-\\lambda&-w\\\\0&1-w-\\lambda\\end{pmatrix} =(1-w-\\lambda)^3\n",
    "$$\n",
    "\n",
    "On a donc le spectre $Sp(M^{-1}N)=\\left\\{1-w,1-w,1-w\\right\\}$. La méthode converge si le rayon spectral est plus petit que 1 (strictement) donc si:\n",
    "\n",
    "$$\n",
    "\\mid 1-w\\mid <1 \\Leftrightarrow -1 < 1-w <1 \\Leftrightarrow 0 < w < 2\n",
    "$$\n",
    "\n",
    "La méthode converge donc si $w \\in \\left]0,2\\right[$."
   ]
  },
  {
   "cell_type": "markdown",
   "metadata": {},
   "source": [
    "## Implémentation python"
   ]
  },
  {
   "cell_type": "markdown",
   "metadata": {},
   "source": [
    "### Exercice 4 : Méthode de Jacobi"
   ]
  },
  {
   "cell_type": "markdown",
   "metadata": {},
   "source": [
    "**Question 1** : *Pour cette méthode, $M$ est la partie diagonale de $A$ et $-N$ la partie extra-diagonale. Ecrire une fonction python qui renvoie :*\n",
    "- *une solution approchée du système linéaire $Ax=b$*, \n",
    "- *le nombre d'itérations $k$*,\n",
    "- *la suite des résidus relatifs $(\\frac{\\| Ax_k - b \\|}{\\| b \\|})_{k}$*, \n",
    "- *la suite des erreurs relatives $(\\frac{\\| x_k - \\bar x \\|}{\\| \\bar x \\|})_k$ ($\\bar x$ est la solution de $Ax=b$ calculée par \"np.linalg.solve\")*.\n"
   ]
  },
  {
   "cell_type": "markdown",
   "metadata": {},
   "source": [
    "**Question 2** : *Rajouter dans les sorties de votre fonction python le calcul du rayon spectral de la matrice $M^{-1}N$ (on pourra utiliser la fonction \"np.linalg.eig\" de python)*."
   ]
  },
  {
   "cell_type": "markdown",
   "metadata": {},
   "source": [
    "**Correction 1 et 2** : "
   ]
  },
  {
   "cell_type": "code",
   "execution_count": 1,
   "metadata": {},
   "outputs": [],
   "source": [
    "import numpy as np\n",
    "import matplotlib.pyplot as plt\n",
    "\n",
    "def Meth_Jacobi(A,b, eps, x0):\n",
    "    M=np.diag(np.diag(A), 0) ## M=D avec D la matrice diagonale.\n",
    "    N=M-A ## N = E+F = D-A\n",
    "        \n",
    "    x_bar=np.linalg.solve(A,b) ## On résout xbar \n",
    "    # initalisation\n",
    "    k=0\n",
    "    x=x0\n",
    "    \n",
    "    ## calcul des erreurs\n",
    "    res=np.dot(A, x)-b\n",
    "    res_relatif=np.linalg.norm(res)/np.linalg.norm(b)\n",
    "    res_relatif_liste=[res_relatif]\n",
    "    erreur_relative_liste=[np.linalg.norm(x-x_bar)/np.linalg.norm(x_bar)]\n",
    "    \n",
    "    #boucle des itéres\n",
    "    while res_relatif>eps:\n",
    "        # mis a jour de la suite\n",
    "        x=x-np.dot(np.linalg.inv(M), res) ## x_{k+1} = x_k - M^{-1}(Ax_k-b)  equivalent à M x_{k+1} = N x_k +b\n",
    "        res=np.dot(A,x)-b ## calcul nouveau résidu Ax_{k+1}-b\n",
    "        k+=1\n",
    "        \n",
    "        #calcul des erreurs\n",
    "        res_relatif=np.linalg.norm(res)/np.linalg.norm(b)\n",
    "        res_relatif_liste.append(res_relatif)\n",
    "        erreur_relative_liste.append(np.linalg.norm(x-x_bar)/np.linalg.norm(x_bar))\n",
    "        \n",
    "    # calcul du rayon spectral\n",
    "    val, vect=np.linalg.eig(np.matmul(np.linalg.inv(M), N))\n",
    "    rho=np.max(np.abs(val))\n",
    "    return x, k, res_relatif_liste, erreur_relative_liste, rho"
   ]
  },
  {
   "cell_type": "markdown",
   "metadata": {},
   "source": [
    "**Question 3** : *Appliquer votre fonction à la matrice du Laplacien* \n",
    "\n",
    "$$A=\\begin{pmatrix}\n",
    "2&-1&&&0\\\\\n",
    "-1&2&-1&&\\\\\n",
    "&\\ddots&\\ddots&\\ddots&\\\\\n",
    "&&-1&2&-1\\\\\n",
    "0&&&-1&2\\\\\n",
    "\\end{pmatrix} \\mbox{ et au vecteur } b=\\begin{pmatrix}\\sin(\\frac{4\\pi}{n+1}), ..., \\sin(\\frac{4\\pi i}{n+1}), ..., \\sin(\\frac{4\\pi n}{n+1})\\end{pmatrix}^t\n",
    "$$\n"
   ]
  },
  {
   "cell_type": "markdown",
   "metadata": {},
   "source": [
    "**Correction :**"
   ]
  },
  {
   "cell_type": "code",
   "execution_count": 2,
   "metadata": {},
   "outputs": [
    {
     "name": "stdout",
     "output_type": "stream",
     "text": [
      ">> solution : [ 2.88657515e-01 -2.88657515e-01  7.83496287e-16  2.88657515e-01\n",
      " -2.88657515e-01] >> nb iteration : 14 >> rayon spectral  0.86602540378444\n"
     ]
    }
   ],
   "source": [
    "n = 5\n",
    "A = - np.diag(np.ones( n-1), -1) + 2 * np.identity(n) - np.diag(np.ones( n-1), 1)\n",
    "b=np.zeros(n)\n",
    "for i in range(1,n+1):\n",
    "    b[i-1]=np.sin(4*np.pi/(n+1)*i)\n",
    "\n",
    "x_J, k_J, res_relatif_liste_J, erreur_relative_liste_J, rho_J = Meth_Jacobi(A, b, 1.e-4, np.zeros(n))\n",
    "print(\">> solution :\",x_J,\">> nb iteration :\",k_J,\">> rayon spectral \",rho_J)"
   ]
  },
  {
   "cell_type": "markdown",
   "metadata": {},
   "source": [
    "### Exercice 5 : Méthode de Gauss-Seidel"
   ]
  },
  {
   "cell_type": "markdown",
   "metadata": {},
   "source": [
    "**Question 1** : *Pour cette méthode, $M$ est la partie triangulaire inférieure (diagonale comprise) de $A$ et $-N$ la partie triangulaire (strictement) supérieure.*\n",
    "*Ecrire une fonction python qui renvoie une solution approchée du système linéaire, la suite des résidus relatifs, la suite des erreurs relatives ainsi que le calcul du rayon spectral de $M^{-1}N$*"
   ]
  },
  {
   "cell_type": "markdown",
   "metadata": {},
   "source": [
    "**Correction** : "
   ]
  },
  {
   "cell_type": "code",
   "execution_count": 1,
   "metadata": {},
   "outputs": [],
   "source": [
    "def Meth_Gauss_Seidel(A,b, eps, x0):\n",
    "    M=np.tril(A) ##triangular lower => prend la partie triangulaire inférieure de la matrice \n",
    "    N=M-A\n",
    "\n",
    "    x_bar=np.linalg.solve(A,b) ## solution de référence\n",
    "    # initalisation\n",
    "    k=0\n",
    "    x=x0\n",
    "    res=np.dot(A, x)-b ## calcul du résidus\n",
    "    \n",
    "    ## calcul d'erreurs\n",
    "    res_relatif=np.linalg.norm(res)/np.linalg.norm(b)\n",
    "    res_relatif_liste=[res_relatif]\n",
    "    erreur_relative_liste=[np.linalg.norm(x-x_bar)/np.linalg.norm(x_bar)]\n",
    "    \n",
    "    #boucle des iteres\n",
    "    while res_relatif>eps:\n",
    "        # mis a jour de la suite\n",
    "        x=x-np.dot(np.linalg.inv(M), res)  ## x_{k+1} = x_k - M^{-1}(Ax_k-b)  equivalent à M x_{k+1} = N x_k +b\n",
    "        res=np.dot(A,x)-b\n",
    "        k+=1\n",
    "        \n",
    "        res_relatif=np.linalg.norm(res)/np.linalg.norm(b)\n",
    "        res_relatif_liste.append(res_relatif)\n",
    "        erreur_relative_liste.append(np.linalg.norm(x-x_bar)/np.linalg.norm(x_bar))\n",
    "        \n",
    "    # calcul du rayon spectral\n",
    "    val, vect=np.linalg.eig(np.matmul(np.linalg.inv(M), N))\n",
    "    rho=np.max(np.abs(val))\n",
    "    return x, k, res_relatif_liste, erreur_relative_liste, rho"
   ]
  },
  {
   "cell_type": "markdown",
   "metadata": {},
   "source": [
    "**Question 2** : *Appliquer votre fonction à la matrice du Laplacien et au vecteur $b$ calculé précédemment.*"
   ]
  },
  {
   "cell_type": "markdown",
   "metadata": {},
   "source": [
    "**Correction** : "
   ]
  },
  {
   "cell_type": "code",
   "execution_count": 4,
   "metadata": {},
   "outputs": [
    {
     "name": "stdout",
     "output_type": "stream",
     "text": [
      ">> solution : [ 2.88657515e-01 -2.88657515e-01  7.83496287e-16  2.88657515e-01\n",
      " -2.88657515e-01] >> nb iteration : 14 >> rayon spectral  0.86602540378444\n"
     ]
    }
   ],
   "source": [
    "n = 5\n",
    "A = - np.diag(np.ones( n-1), -1) + 2 * np.identity(n) - np.diag(np.ones( n-1), 1)\n",
    "b=np.zeros(n)\n",
    "for i in range(1,n+1):\n",
    "    b[i-1]=np.sin(4*np.pi/(n+1)*i)\n",
    "\n",
    "x_G, k_G, res_relatif_liste_G, erreur_relative_liste_G, rho_G = Meth_Gauss_Seidel(A, b, 1.e-4, np.zeros(n))\n",
    "print(\">> solution :\",x_J,\">> nb iteration :\",k_J,\">> rayon spectral \",rho_J)"
   ]
  },
  {
   "cell_type": "markdown",
   "metadata": {},
   "source": [
    "### Exercice 6 : Comparaison des méthodes"
   ]
  },
  {
   "cell_type": "markdown",
   "metadata": {},
   "source": [
    "**Question 1** : *Tracer sur le même graphique l'évolution du résidu relatif au cours des itérations pour les deux méthodes en échelle semi-logarithmique. On pourra utiliser la fonction \"plt.yscale('log')\" de python. Idem pour l'évolution de l'erreur relative au cours des itérations. Commenter.*"
   ]
  },
  {
   "cell_type": "markdown",
   "metadata": {},
   "source": [
    "**Correction** : "
   ]
  },
  {
   "cell_type": "code",
   "execution_count": 5,
   "metadata": {},
   "outputs": [
    {
     "data": {
      "text/plain": [
       "Text(0.5, 1.0, 'Evolution erreur relatif pour A')"
      ]
     },
     "execution_count": 5,
     "metadata": {},
     "output_type": "execute_result"
    },
    {
     "data": {
      "image/png": "[encoded data removed]",
      "text/plain": [
       "<Figure size 432x288 with 1 Axes>"
      ]
     },
     "metadata": {
      "needs_background": "light"
     },
     "output_type": "display_data"
    },
    {
     "data": {
      "image/png": "[encoded data removed]",
      "text/plain": [
       "<Figure size 432x288 with 1 Axes>"
      ]
     },
     "metadata": {
      "needs_background": "light"
     },
     "output_type": "display_data"
    }
   ],
   "source": [
    "plt.figure(1)\n",
    "plt.clf()\n",
    "plt.plot(range(0,k_J+1,1), res_relatif_liste_J, label='Jacobi')\n",
    "plt.plot(range(0,k_G+1,1), res_relatif_liste_G, label=\"Gauss-Seidel\")\n",
    "plt.legend()\n",
    "plt.yscale('log')\n",
    "plt.title('Evolution residu relatif pour A')\n",
    "\n",
    "plt.figure(2)\n",
    "plt.clf()\n",
    "plt.plot(range(0,k_J+1,1), erreur_relative_liste_J, label='Jacobi')\n",
    "plt.plot(range(0,k_G+1,1), erreur_relative_liste_G, label=\"Gauss-Seidel\")\n",
    "plt.legend()\n",
    "plt.yscale('log')\n",
    "plt.title('Evolution erreur relatif pour A')"
   ]
  },
  {
   "cell_type": "markdown",
   "metadata": {},
   "source": [
    "**Question 2** : *Comparer le rayon spectral de $M^{-1}N$ pour les deux méthodes. Commenter*"
   ]
  },
  {
   "cell_type": "markdown",
   "metadata": {},
   "source": [
    "**Correction** : "
   ]
  },
  {
   "cell_type": "code",
   "execution_count": 6,
   "metadata": {},
   "outputs": [
    {
     "name": "stdout",
     "output_type": "stream",
     "text": [
      "0.86602540378444 0.75\n"
     ]
    }
   ],
   "source": [
    "print(rho_J, rho_G)"
   ]
  },
  {
   "cell_type": "markdown",
   "metadata": {},
   "source": [
    "Le rayon spectral de la matrice de Gauss-Seidel est plus faible que celui de la matrice de Jacobi (voir exo7)."
   ]
  },
  {
   "cell_type": "markdown",
   "metadata": {},
   "source": [
    "**Question 3** : *Quel est le nombre d'opérations nécessaires pour chacune des méthodes dans le cas de la matrice du Laplacien ? Comparer à la méthode par factorisation LU*"
   ]
  },
  {
   "cell_type": "markdown",
   "metadata": {},
   "source": [
    "**Correction** : "
   ]
  },
  {
   "cell_type": "markdown",
   "metadata": {},
   "source": [
    "**Question 4** : *Appliquer les deux méthodes aux matrices:*\n",
    "\\begin{equation*}\n",
    "C = \\begin{bmatrix}\n",
    "1&2&-2\\\\\n",
    "1&1&1\\\\\n",
    "2&2&1\n",
    "\\end{bmatrix},\\quad D = \\begin{bmatrix}\n",
    "2&-1&1\\\\\n",
    "2&2&2\\\\\n",
    "-1&1&2\n",
    "\\end{bmatrix}\n",
    "\\end{equation*}\n",
    "*On pourra prendre $b=(1, 1, 1)^t$. Commenter.*"
   ]
  },
  {
   "cell_type": "code",
   "execution_count": 7,
   "metadata": {},
   "outputs": [
    {
     "name": "stdout",
     "output_type": "stream",
     "text": [
      "Matrice C\n",
      "Rayon spectral Jacobi : 1.2332218361015282e-05 Rayon spectral Gauss-Seidel : 2.0\n",
      "Matrice D\n",
      "Rayon spectral Jacobi : 1.118033988749895 Rayon spectral Gauss-Seidel : 0.5\n"
     ]
    },
    {
     "data": {
      "text/plain": [
       "Text(0.5, 1.0, 'Evolution erreur relatif pour D')"
      ]
     },
     "execution_count": 7,
     "metadata": {},
     "output_type": "execute_result"
    },
    {
     "data": {
      "image/png": "[encoded data removed]",
      "text/plain": [
       "<Figure size 432x288 with 1 Axes>"
      ]
     },
     "metadata": {
      "needs_background": "light"
     },
     "output_type": "display_data"
    },
    {
     "data": {
      "image/png": "[encoded data removed]",
      "text/plain": [
       "<Figure size 432x288 with 1 Axes>"
      ]
     },
     "metadata": {
      "needs_background": "light"
     },
     "output_type": "display_data"
    },
    {
     "data": {
      "image/png": "[encoded data removed]",
      "text/plain": [
       "<Figure size 432x288 with 1 Axes>"
      ]
     },
     "metadata": {
      "needs_background": "light"
     },
     "output_type": "display_data"
    },
    {
     "data": {
      "image/png": "[encoded data removed]",
      "text/plain": [
       "<Figure size 432x288 with 1 Axes>"
      ]
     },
     "metadata": {
      "needs_background": "light"
     },
     "output_type": "display_data"
    }
   ],
   "source": [
    "C=np.array([[1., 2., -2], [1., 1., 1], [2., 2., 1]])\n",
    "D=np.array([[2., -1, 1], [2., 2., 2.], [-1.,-1.,2]])\n",
    "b2=np.array([1,1,1], dtype=float)\n",
    "\n",
    "x_J, k_J, res_relatif_liste_J, erreur_relative_liste_J, rho_J = Meth_Jacobi(C, b2, 1.e-4, np.zeros(3))\n",
    "x_G, k_G, res_relatif_liste_G, erreur_relative_liste_G, rho_G = Meth_Gauss_Seidel(C, b2, 1.e-4, np.zeros(3))\n",
    "\n",
    "print(\"Matrice C\")\n",
    "print(\"Rayon spectral Jacobi :\",rho_J, \"Rayon spectral Gauss-Seidel :\",rho_G)\n",
    "plt.figure(3)\n",
    "plt.clf()\n",
    "plt.plot(range(0,k_J+1,1), res_relatif_liste_J, label='Jacobi')\n",
    "#plt.plot(range(0,k_G+1,1), res_relatif_liste_G, label=\"Gauss-Seidel\")\n",
    "plt.legend()\n",
    "plt.yscale('log')\n",
    "plt.title('Evolution residu relatif pour C')\n",
    "\n",
    "plt.figure(4)\n",
    "plt.clf()\n",
    "plt.plot(range(0,k_J+1,1), erreur_relative_liste_J, label='Jacobi')\n",
    "#plt.plot(range(0,k_G+1,1), erreur_relative_liste_G, label=\"Gauss-Seidel\")\n",
    "plt.legend()\n",
    "plt.yscale('log')\n",
    "plt.title('Evolution erreur relatif pour C')\n",
    "\n",
    "x_J, k_J, res_relatif_liste_J, erreur_relative_liste_J, rho_J = Meth_Jacobi(D, b2, 1.e-4, np.zeros(3))\n",
    "x_G, k_G, res_relatif_liste_G, erreur_relative_liste_G, rho_G = Meth_Gauss_Seidel(D, b2, 1.e-4, np.zeros(3))\n",
    "print(\"Matrice D\")\n",
    "print(\"Rayon spectral Jacobi :\",rho_J, \"Rayon spectral Gauss-Seidel :\",rho_G)\n",
    "plt.figure(5)\n",
    "plt.clf()\n",
    "#plt.plot(range(0,k_J+1,1), res_relatif_liste_J, label='Jacobi')\n",
    "plt.plot(range(0,k_G+1,1), res_relatif_liste_G, label=\"Gauss-Seidel\")\n",
    "plt.legend()\n",
    "plt.yscale('log')\n",
    "plt.title('Evolution residu relatif pour D')\n",
    "\n",
    "plt.figure(6)\n",
    "plt.clf()\n",
    "#plt.plot(range(0,k_J+1,1), erreur_relative_liste_J, label='Jacobi')\n",
    "plt.plot(range(0,k_G+1,1), erreur_relative_liste_G, label=\"Gauss-Seidel\")\n",
    "plt.legend()\n",
    "plt.yscale('log')\n",
    "plt.title('Evolution erreur relatif pour D')"
   ]
  },
  {
   "cell_type": "markdown",
   "metadata": {},
   "source": [
    "## Comprendre les résultats numériques"
   ]
  },
  {
   "cell_type": "markdown",
   "metadata": {},
   "source": [
    "### Exercice 7 : Matrice du Laplacien\n",
    "\n",
    "*On souhaite résoudre un système de $n$ équations écrit sous la forme $Ax=b$ par une méthode itérative, avec :*\n",
    "\n",
    "$$\n",
    "A=\\begin{pmatrix}\n",
    "2&-1&&&0\\\\\n",
    "-1&2&-1&&\\\\\n",
    "&\\ddots&\\ddots&\\ddots&\\\\\n",
    "&&-1&2&-1\\\\\n",
    "0&&&-1&2\n",
    "\\end{pmatrix}.$$\n",
    "*Soit $\\bar{x}$ la solution exacte.*"
   ]
  },
  {
   "cell_type": "markdown",
   "metadata": {},
   "source": [
    "**Question 1** : *Rappels sur la matrice du Laplacien.:*\n",
    "\n",
    "- *Vérifiez que les valeurs propres et vecteurs propres de $A$, notés $(\\lambda^{(k)}, v^{(k)})$, pour $k=1,...n,$ sont donnés par*\n",
    "\n",
    "$$\n",
    "v_i^{(k)}=\\sin\\left(\\frac{k\\pi i}{n+1}\\right),\\ \\text{pour}\\ i=1, ..., n\\ \\ \\ \\text{et}\\ \\ \\ \\lambda^{(k)}=4\\sin^2\\left(\\frac{k\\pi}{2(n+1)}\\right).\n",
    "$$\n",
    "- *Que vaut le rayon spectral de $A$ ?*\n",
    "\n"
   ]
  },
  {
   "cell_type": "markdown",
   "metadata": {},
   "source": [
    "**Correction** :"
   ]
  },
  {
   "cell_type": "markdown",
   "metadata": {},
   "source": [
    "**Question 2** : *La méthode de Jacobi:*\n",
    "\n",
    "- *Calculer $J$ la matrice d'itération de la méthode de Jacobi*.\n",
    "- *En remarquant que $J=\\frac{1}{2}(2I_n-A)$, que vaut le rayon spectral de $J$ (noté $\\rho(J)$)* ?\n",
    "- *La méthode de Jacobi converge-t-elle?*"
   ]
  },
  {
   "cell_type": "markdown",
   "metadata": {},
   "source": [
    "**Correction** :"
   ]
  },
  {
   "cell_type": "markdown",
   "metadata": {},
   "source": [
    "**Question 3** : *La méthode de Gauss-Seidel*:\n",
    "- *Exprimer $G$, la matrice d'itération de la méthode de Gauss-Seidel.*\n",
    "- *On peut montrer que*\n",
    "\n",
    "$$\n",
    "\\rho(G)=\\left(1-2\\sin^2\\left(\\frac{\\pi}{2(n+1)}\\right)\\right)^2.\n",
    "$$\n",
    "\n",
    "*Quelle méthode convergera le plus rapidement ?*"
   ]
  },
  {
   "cell_type": "markdown",
   "metadata": {},
   "source": [
    "**Correction** :"
   ]
  },
  {
   "cell_type": "markdown",
   "metadata": {},
   "source": [
    "### Exercice 8 :  Pas de résultat de comparaison général"
   ]
  },
  {
   "cell_type": "markdown",
   "metadata": {},
   "source": [
    "**Question 1** : *Soit $A_1$ la matrice suivante* \n",
    "\n",
    "$$\n",
    "A_1=\\begin{pmatrix}\n",
    "1&2&-2\\\\\n",
    "1&1&1\\\\\n",
    "2&2&1\n",
    "\\end{pmatrix}$$\n",
    "\n",
    "*On note $J$ la matrice d'itération de la méthode de Jacobi et G celle de la méthode de Gauss-Seidel. Montrer que $\\rho(J)<1<\\rho(G)$, où $\\rho(\\cdot)$ désigne le rayon spectral.*"
   ]
  },
  {
   "cell_type": "markdown",
   "metadata": {},
   "source": [
    "**Correction** :\n",
    "\n",
    "$$\n",
    "J=M^{-1}N=\\begin{pmatrix} 1 & 0 & 0 \\\\0 &1 &0\\\\0 &0 &1\\end{pmatrix}^{-1}\\begin{pmatrix}\n",
    "0&-2&2\\\\\n",
    "-1&0&-1\\\\\n",
    "-2&-2&0\n",
    "\\end{pmatrix}=\\begin{pmatrix}\n",
    "0&-2&2\\\\\n",
    "-1&0&-1\\\\\n",
    "-2&-2&0\n",
    "\\end{pmatrix} \n",
    "$$\n",
    "\n",
    "on calcule le spectre\n",
    "\n",
    "$$\n",
    "det(J-\\lambda I_3)= - \\lambda det\\begin{pmatrix}\n",
    "-\\lambda &-1\\\\\n",
    "-2& -\\lambda\n",
    "\\end{pmatrix}+ det\\begin{pmatrix}\n",
    "-2 & 2\\\\\n",
    "-2& -\\lambda\n",
    "\\end{pmatrix}- 2 det\\begin{pmatrix}\n",
    "-2 & 2\\\\\n",
    "-\\lambda & -1\n",
    "\\end{pmatrix}=-\\lambda^3\n",
    "$$\n",
    "\n",
    "Le rayon spectral est donc $\\rho(J)=0$ la méthode converge.\n",
    "- méthode de Gauss-Seidel:\n",
    "$$\n",
    "G=M^{-1}N=\\begin{pmatrix} 1 & 0 & 0 \\\\1 &1 &0\\\\2 &2 &1\\end{pmatrix}^{-1}\\begin{pmatrix}\n",
    "0&-2&2\\\\\n",
    "0&0&-1\\\\\n",
    "0&0&0\n",
    "\\end{pmatrix}\n",
    "$$\n",
    "\n",
    "$$\n",
    "G=M^{-1}N=\\begin{pmatrix} 1 & 0 & 0 \\\\-1 &1 &0\\\\0 &-2 &1\\end{pmatrix}\\begin{pmatrix}\n",
    "0&-2&2\\\\\n",
    "0&0&-1\\\\\n",
    "0&0&0\n",
    "\\end{pmatrix}=\\begin{pmatrix}\n",
    "0&-2&2\\\\\n",
    "0&2&-3\\\\\n",
    "0&0&2\n",
    "\\end{pmatrix}\n",
    "$$\n",
    "\n",
    "La matrice est triangulaire on en déduit le spectre : $Sp(G)=\\left\\{0,2,2\\right\\}$. On a donc un rayon spectral de 2 ce qui veut dire que la méthode ne converge pas."
   ]
  },
  {
   "cell_type": "markdown",
   "metadata": {},
   "source": [
    "**Question 2** : *Soit $A_2$ la matrice suivante $A_2=\\begin{pmatrix}\n",
    "2&-1&1\\\\\n",
    "2&2&2\\\\\n",
    "-1&-1&2\n",
    "\\end{pmatrix}$. Montrer que cette fois-ci, on a $\\rho(G)<1<\\rho(J)$.*"
   ]
  },
  {
   "cell_type": "markdown",
   "metadata": {},
   "source": [
    "**Correction** :\n",
    "\n",
    "$$\n",
    "J=M^{-1}N=\\begin{pmatrix} \\frac12 & 0 & 0 \\\\0 & \\frac12 &0\\\\0 &0 & \\frac12\\end{pmatrix}\\begin{pmatrix}\n",
    "0&1&-1\\\\\n",
    "-2&0&-2\\\\\n",
    "1&1&0\n",
    "\\end{pmatrix}=\\begin{pmatrix}\n",
    "0&\\frac12 &- \\frac12\\\\\n",
    "-1&0&-1\\\\\n",
    "\\frac12& \\frac12&0\n",
    "\\end{pmatrix} \n",
    "$$\n",
    "\n",
    "$$\n",
    "det(J-\\lambda I_3)= - \\lambda det\\begin{pmatrix}\n",
    "-\\lambda &-1\\\\\n",
    "\\frac12& -\\lambda\n",
    "\\end{pmatrix}+ det\\begin{pmatrix}\n",
    "\\frac12 & -\\frac12\\\\\n",
    "\\frac12& -\\lambda\n",
    "\\end{pmatrix}+\\frac12 det\\begin{pmatrix}\n",
    "\\frac12 & -\\frac12\\\\\n",
    "-\\lambda & -1\n",
    "\\end{pmatrix}=-\\lambda(\\lambda^2+\\frac{5}{4})\n",
    "$$  \n",
    "\n",
    "Le spectre est donné par $Sp=\\left\\{0,\\pm i \\frac{\\sqrt{5}}{2}\\right\\}$ et $\\rho(J)=\\frac{\\sqrt{5}}{2}>1$. La méthode ne converge pas.\n",
    "\n",
    "$$\n",
    "G=M^{-1}N=\\begin{pmatrix} 2 & 0 & 0 \\\\ 2& 2 & 0\\\\-1 &-1 & 2\\end{pmatrix}^{-1}\\begin{pmatrix}\n",
    "0&1&-1\\\\\n",
    "0&0&-2\\\\\n",
    "0&0&0\n",
    "\\end{pmatrix}=\\begin{pmatrix} \\frac12 & 0 & 0 \\\\ -\\frac12 & \\frac12 & 0\\\\ 0& \\frac14 & \\frac12 \\end{pmatrix}\\begin{pmatrix}\n",
    "0&1&-1\\\\\n",
    "0&0&-2\\\\\n",
    "0&0&0\n",
    "\\end{pmatrix}=\\begin{pmatrix}\n",
    "0&\\frac12&-\\frac12\\\\\n",
    "0&-\\frac12&-\\frac12\\\\\n",
    "0&0&-\\frac12\n",
    "\\end{pmatrix}\n",
    "$$\n",
    "\n",
    "La matrice est triangulaire on en déduit le spectre : $Sp(G)=\\left\\{0,-\\frac12,-\\frac12\\right\\}$. On a donc un rayon spectral de $\\frac12$ ce qui veut dire que la méthode converge.\n"
   ]
  },
  {
   "cell_type": "code",
   "execution_count": null,
   "metadata": {},
   "outputs": [],
   "source": []
  }
 ],
 "metadata": {
  "kernelspec": {
   "display_name": "Python 3 (ipykernel)",
   "language": "python",
   "name": "python3"
  },
  "language_info": {
   "codemirror_mode": {
    "name": "ipython",
    "version": 3
   },
   "file_extension": ".py",
   "mimetype": "text/x-python",
   "name": "python",
   "nbconvert_exporter": "python",
   "pygments_lexer": "ipython3",
   "version": "3.9.12"
  }
 },
 "nbformat": 4,
 "nbformat_minor": 4
}
