{
 "cells": [
  {
   "cell_type": "markdown",
   "metadata": {},
   "source": [
    "### Exercice 1: Factorisation LU mise en pratique"
   ]
  },
  {
   "cell_type": "markdown",
   "metadata": {},
   "source": [
    "1)  Calculer la factorisation $LU$ de la matrice $A$ :\n",
    "\n",
    "$$A=\\begin{pmatrix}\n",
    "1&1&1\\\\\n",
    "2&2&5\\\\\n",
    "4&6&8\n",
    "\\end{pmatrix}.$$\n",
    "\n",
    "2) Même question pour la matrice $\\tilde{A}$ :\n",
    "\n",
    "$$\\tilde{A}=\\begin{pmatrix}1&1&1\\\\\n",
    "2&2+10^{-6}&5\\\\\n",
    "4&6&8\n",
    "\\end{pmatrix}.$$\n"
   ]
  },
  {
   "cell_type": "markdown",
   "metadata": {},
   "source": [
    "**Correction**:\n",
    "    \n",
    "**Question 1)**:\n",
    "\n",
    "$$\\mbox{det}\\left(A^{(2)}\\right)\n",
    "=\\mbox{det}\\begin{pmatrix}\n",
    "1&1\\\\\n",
    "2&2\n",
    "\\end{pmatrix}=0$$\n",
    "\n",
    "Une des sous matrices n'est pas inversible, donc la décomposition LU n'existe pas.\n",
    "\n",
    "**Question 2)**:\n",
    "\n",
    "$$\\mbox{det}\\left(A^{(1)}\\right)=1\\neq 0,\n",
    "\\mbox{det}\\left(A^{(2)}\\right)\n",
    "=\\mbox{det}\\begin{pmatrix}\n",
    "1&1\\\\\n",
    "2&2+10^6\n",
    "\\end{pmatrix}=10^6$$\n",
    "\n",
    "et\n",
    "\n",
    "$$\\mbox{det}\\left(A^{(3)}\\right)=\\mbox{det}A\n",
    "=\\mbox{det}\\begin{pmatrix}1&1&1\\\\\n",
    "2&2+10^{-6}&5\\\\\n",
    "4&6&8\n",
    "\\end{pmatrix}$$\n",
    "\n",
    "$$=1\\times(2+10^{-6})\\times8+2\\times6\\times1+4\\times1\\times5-4\\times(2+10^{-6})\\times1-6\\times5\\times1-8\\times2\\times1$$\n",
    "\n",
    "$$=16+8\\times10^{-6}+12+20-8-4\\times10^{-6}-30-16=-6+4\\times10^{-6}\\neq 0$$\n",
    "\n",
    "Donc la décomposition LU existe.\n",
    "\n",
    "$$\\begin{array}{rcl}\n",
    "\\begin{pmatrix}1&1&1\\\\\n",
    "2&2+10^{-6}&5\\\\\n",
    "4&6&8\n",
    "\\end{pmatrix}\n",
    "&\\underset{\\begin{array}{c}L_2\\rightarrow L_2-2L_1\\\\L_4\\rightarrow L_3-4L_3\\end{array}}{\\longrightarrow}&\n",
    "\\begin{pmatrix}1&1&1\\\\\n",
    "0&10^{-6}&3\\\\\n",
    "0&2&4\n",
    "\\end{pmatrix}\\\\\n",
    "&\\underset{L_3\\rightarrow L_3-2\\times 10^{6}L_2}{\\longrightarrow}&\n",
    "\\begin{pmatrix}1&1&1\\\\\n",
    "0&10^{-6}&3\\\\\n",
    "0&0&4-6\\times 10^6\n",
    "\\end{pmatrix}\\\\\n",
    "\\end{array}$$\n",
    "\n",
    "Donc $L=\\begin{pmatrix}1&0&0\\\\\n",
    "2&1&0\\\\\n",
    "4&2\\times 10^6&1\n",
    "\\end{pmatrix}$ \n",
    "et $U=\\begin{pmatrix}1&1&1\\\\\n",
    "0&10^{-6}&3\\\\\n",
    "0&0&4-6\\times 10^6\n",
    "\\end{pmatrix}$."
   ]
  },
  {
   "cell_type": "markdown",
   "metadata": {},
   "source": [
    "### Exercice 2 (implémentation Python) : Précision de la méthode"
   ]
  },
  {
   "cell_type": "markdown",
   "metadata": {},
   "source": [
    "1) Calculer les factorisations LU de la matrice $A$ pour plusieurs valeurs de $p>0$ : \n",
    "    \n",
    "$$A=\\begin{pmatrix}1&1&1\\\\\n",
    "2&2+10^{-p}&5\\\\\n",
    "4&6&8\n",
    "\\end{pmatrix}.$$\n",
    "\n",
    "En python, on pourra s'aider de la fonction \n",
    "\n",
    "\n",
    "$\\texttt{import}$ $\\texttt{scipy}$ $\\texttt{as}$ $\\texttt{sc}$\n",
    "\n",
    "$\\texttt{sc.linalg.lu}$\n",
    "\n",
    "\n",
    "2) A l'aide du conditionnement des matrices $L$ et $U$, conclure sur la précision des méthodes.\n"
   ]
  },
  {
   "cell_type": "markdown",
   "metadata": {},
   "source": [
    "**Correction**:\n",
    "    \n",
    "**Question 1)**:"
   ]
  },
  {
   "cell_type": "code",
   "execution_count": 22,
   "metadata": {},
   "outputs": [
    {
     "name": "stdout",
     "output_type": "stream",
     "text": [
      "[[0. 0. 1.]\n",
      " [0. 1. 0.]\n",
      " [1. 0. 0.]]\n",
      "[[1.        0.        0.       ]\n",
      " [0.5       1.        0.       ]\n",
      " [0.25      0.5000005 1.       ]]\n",
      "[[ 4.         6.         8.       ]\n",
      " [ 0.        -0.999999   1.       ]\n",
      " [ 0.         0.        -1.5000005]]\n"
     ]
    }
   ],
   "source": [
    "import numpy as np\n",
    "import matplotlib.pyplot as plt\n",
    "import scipy as sc\n",
    "import scipy.linalg as scl\n",
    "\n",
    "#for p in range(1,6):\n",
    "A=np.array([[1., 1., 1.], [2., 2+10**(-6), 5.], [4., 6., 8.]])\n",
    "P,L,U=scl.lu(A)\n",
    "print(P)\n",
    "print(L)\n",
    "print(U)"
   ]
  },
  {
   "cell_type": "markdown",
   "metadata": {},
   "source": [
    "**2)**\n",
    "$\\frac{||\\tilde{x}-x||}{||x||}\\leq Cond(A)\\frac{||\\tilde{b}-b||}{||b||}\\leq Cond(LU)\\frac{||\\tilde{b}-b||}{||b||}$"
   ]
  },
  {
   "cell_type": "markdown",
   "metadata": {},
   "source": [
    "### Exercice 3 : Une autre factorisation"
   ]
  },
  {
   "cell_type": "markdown",
   "metadata": {},
   "source": [
    "Soient $$A_1=\\begin{pmatrix}\n",
    "1&-2&0\\\\-2&8&-6\\\\\n",
    "0&-6&25\n",
    "\\end{pmatrix} \\text{ et }\n",
    "A_2=\\begin{pmatrix}\n",
    "4&0&12&-6\\\\\n",
    "0&1&2&1\\\\\n",
    "12&2&49&-4\\\\\n",
    "-6&1&-4&51\n",
    "\\end{pmatrix}.$$\n",
    "\n",
    "Montrer que les matrices $A_1$ et $A_2$ peuvent s'écrire $A_i=B_iB_i^T$ avec $B_i$ une matrice triangulaire inférieure avec des éléments diagonaux strictement positifs.\n",
    "\n",
    "_Indication : on pourra utiliser la décomposition LU de_ $A_i$ _ainsi que la matrice_ $D=\\text{diag}(\\sqrt{u_{1, 1}},\\sqrt{u_{2, 2}}, ..., \\sqrt{u_{n, n}})$. \n",
    "\n",
    "**Remarque.** Une telle décomposition est appelée la décomposition de Cholesky. La matrice $B$ existe (et est unique) dès que $A$ est symétrique définie positive."
   ]
  },
  {
   "cell_type": "markdown",
   "metadata": {},
   "source": [
    "**Correction**:"
   ]
  },
  {
   "cell_type": "markdown",
   "metadata": {},
   "source": [
    "**1) Montrons que** $A_1$ **est définie positive:**\n",
    "\n",
    "Pour tout $x\\in\\mathbb{R}^3$,\n",
    "\n",
    "$$\\begin{array}{rcl}<x, A_1x>=x^TA_1x\n",
    "&=&\\left(\\begin{array}{ccc}x_1&x_2&x_3\\end{array}\\right)\n",
    "\\left(\\begin{array}{c}x_1-2x_2\\\\-2x_1+8x_2-6x_3\\\\-6x_2+25x_3\\end{array}\\right)\\\\\n",
    "&=&x_1^2-2x_1x_2-2x_1x_2+8x_2^2-6x_2x_3-6x_2x_3+25x^2_3\\\\\n",
    "&=&x_1^2-4x_1x_2+8x_2^2-12x_2x_3+25x^2_3\\\\\n",
    "&=&(x_1-2x_2)^2+4x_2^2-12x_2x_3+25x^2_3\\\\\n",
    "&=&(x_1-2x_2)^2+(2x_2-3x_3)^2+16x^2_3>0\n",
    "\\end{array}$$\n",
    "Donc $A_1$ est définie positive.\n",
    "\n",
    "\n"
   ]
  },
  {
   "cell_type": "markdown",
   "metadata": {},
   "source": [
    "**Autre méthode :**\n",
    "\n",
    "$$\\mbox{det}\\left(A^{(1)}_1\\right)=1\\neq 0,\n",
    "\\mbox{det}\\left(A^{(2)}_1\\right)\n",
    "=\\mbox{det}\\begin{pmatrix}\n",
    "1&-2\\\\\n",
    "-2&8\n",
    "\\end{pmatrix}=4\\neq 0$$\n",
    "et\n",
    "$$\\mbox{det}\\left(A^{(3)}_1\\right)=\\mbox{det}A\n",
    "=1\\times 8\\times 25-(-2)\\times (-2)\\times 25-(-6)\\times (-6)\\times 1\n",
    "=200-100-36=64\\neq 0$$\n",
    "\n",
    "Donc $A_1$ est bien symétrique définie positive.\n",
    "\n",
    "**Décomposition de Cholesky :**\n",
    "Appliquons la décomposition LU à $A_1$ :\n",
    "$$\\begin{array}{rcl}\n",
    "A_1=\\begin{pmatrix}\n",
    "1&-2&0\\\\-2&8&-6\\\\\n",
    "0&-6&25\n",
    "\\end{pmatrix}&\n",
    "\\underset{L2\\rightarrow L_2+2L_1}{\\longrightarrow}&\n",
    "\\begin{pmatrix}\n",
    "1&-2&0\\\\0&4&-6\\\\\n",
    "0&-6&25\n",
    "\\end{pmatrix}\\\\\n",
    "&\\underset{L3\\rightarrow L_3+\\frac{6}{4}L_2}{\\longrightarrow}&\n",
    "\\begin{pmatrix}\n",
    "1&-2&0\\\\0&4&-6\\\\\n",
    "0&0&16\n",
    "\\end{pmatrix}\n",
    "\\end{array}$$\n",
    "\n",
    "\n",
    "Donc $L=\\begin{pmatrix}\n",
    "1&0&0\\\\\n",
    "-2&1&0\\\\\n",
    "0&-\\frac{3}{2}&1\n",
    "\\end{pmatrix}$ \n",
    "et $U=\\begin{pmatrix}\n",
    "1&-2&0\\\\0&4&-6\\\\\n",
    "0&0&16\n",
    "\\end{pmatrix}$.\n",
    "\n",
    "On pose $D=\\mbox{diag}(1,2,4)$ et on remarque que $LD=B$ et $D^{-1}U=B^T$ avec\n",
    "\n",
    "$$B=\\begin{pmatrix}\n",
    "1&0&0\\\\\n",
    "-2&2&0\\\\\n",
    "0&-3&4\n",
    "\\end{pmatrix}$$\n"
   ]
  },
  {
   "cell_type": "markdown",
   "metadata": {},
   "source": [
    "**2) Montrons que** $A_2$ **est définie postive:**\n",
    "\n",
    "Pour tout $x\\in\\mathbb{R}^4$,\n",
    "\n",
    "$$\\begin{array}{rcl}<x, A_2x>=x^TA_2x\n",
    "&=&\\left(\\begin{array}{cccc}x_1&x_2&x_3&x_4\\end{array}\\right)\n",
    "\\left(\\begin{array}{c}4x_1+12x_3-6x_4\\\\x_2+2x_3+x_4\\\\12x_1+2x_2+49x_3-4x_4\\\\-6x_1+x_2-4x_3+51x_4\\end{array}\\right)\\\\\n",
    "&=&4x_1^2+12x_1x_3-6x_1x_4+x_2^2+2x_2x_3+x_2x_4+12x_1x_3+2x_3x_2+49x_3^2-4x_3x_4\\\\&&-6x_1x_4+x_2x_4-4x_4x_3+51x_4^2\\\\\n",
    "&=&4x_1^2+24x_1x_3-12x_1x_4+x_2^2+4x_2x_3+49x_3^2-8x_3x_4+2x_2x_4+51x_4^2\\\\\n",
    "&=&(2x_1+6x_3-3x_4)^2+(x_2+2x_3+x_4)^2+(3x_3+4x_4)^2+25x^2_4>0\n",
    "\\end{array}$$\n",
    "Donc $A_2$ est définie positive.\n",
    "\n",
    "\n",
    "**Autre méthode :**\n",
    "\n",
    "$$\\mbox{det}\\left(A^{(1)}_2\\right)=4\\neq 0,\n",
    "\\mbox{det}\\left(A^{(2)}_2\\right)\n",
    "=4\\neq 0$$\n",
    "$$\\mbox{det}\\left(A^{(3)}_2\\right)=\\mbox{det}A\n",
    "=4\\times 1\\times 49-12\\times 1\\times 12-4\\times 2\\times 2\n",
    "=196-144-16=142\\neq 0$$\n",
    "et\n",
    "$$\\mbox{det}\\left(A^{(4)}_2\\right)=\\mbox{det}A\n",
    "=900\\neq 0$$\n",
    "\n",
    "Donc $A_2$ est bien symétrique définie positive.\n",
    "\n",
    "**Décomposition de Cholesky :**\n",
    "Appliquons la décomposition LU à $A_2$\n",
    "\n",
    "$$\\begin{array}{rcl}\n",
    "A_2=\\begin{pmatrix}\n",
    "4&0&12&-6\\\\\n",
    "0&1&2&1\\\\\n",
    "12&2&49&-4\\\\\n",
    "-6&1&-4&51\n",
    "\\end{pmatrix}&\n",
    "\\underset{\\begin{array}{c}L_3\\rightarrow L_3-3L_1\\\\L_4\\rightarrow L_4+\\frac{6}{4}L_1\\end{array}}{\\longrightarrow}&\n",
    "\\begin{pmatrix}\n",
    "4&0&12&-6\\\\\n",
    "0&1&2&1\\\\\n",
    "0&2&13&14\\\\\n",
    "0&1&14&42\n",
    "\\end{pmatrix}\\\\\n",
    "&\\underset{\\begin{array}{c}L_3\\rightarrow L_3-2L_2\\\\L_4\\rightarrow L_4-L_2\\end{array}}{\\longrightarrow}&\n",
    "\\begin{pmatrix}\n",
    "4&0&12&-6\\\\\n",
    "0&1&2&1\\\\\n",
    "0&0&9&12\\\\\n",
    "0&0&12&41\n",
    "\\end{pmatrix}\\\\\n",
    "&\\underset{L_4\\rightarrow L_4-\\frac{12}{9}L_3}{\\longrightarrow}&\n",
    "\\begin{pmatrix}\n",
    "4&0&12&-6\\\\\n",
    "0&1&2&1\\\\\n",
    "0&0&9&12\\\\\n",
    "0&0&0&25\n",
    "\\end{pmatrix}\n",
    "\\end{array}$$\n",
    "\n",
    "Donc $L=\\begin{pmatrix}\n",
    "1&0&0&0\\\\\n",
    "0&1&0&0\\\\\n",
    "3&2&1&0\\\\\n",
    "-\\frac32&1&\\frac43&1\n",
    "\\end{pmatrix}$ \n",
    "et $U=\\begin{pmatrix}\n",
    "4&0&12&-6\\\\\n",
    "0&1&2&1\\\\\n",
    "0&0&9&12\\\\\n",
    "0&0&0&25\n",
    "\\end{pmatrix}$.\n",
    "\n",
    "On a $D=\\mbox{diag}(2,1,3,5)$ et on remarque que $LD=B$ et $D^{-1}U=B^T$ avec\n",
    "\n",
    "$$B=\\begin{pmatrix}\n",
    "2&0&0&0\\\\\n",
    "0&1&0&0\\\\\n",
    "6&2&3&0\\\\\n",
    "-3&1&4&5\n",
    "\\end{pmatrix}$$\n"
   ]
  },
  {
   "cell_type": "markdown",
   "metadata": {},
   "source": [
    "### Exercice 4 : Décomposition LU sans utiliser sc.linalg.lu"
   ]
  },
  {
   "cell_type": "markdown",
   "metadata": {},
   "source": [
    "1) Construire une fonction **DecompositionLU(A)** qui calcule les matrices $L$ et $U$ de la décomposition $LU$ de la matrice $A$.\n",
    "\n",
    "2) Appliquer cette fonction aux matrices \n",
    "$$A_1=\\begin{pmatrix}\n",
    "9&8&6\\\\\n",
    "7&6&12\\\\\n",
    "9&3&9\n",
    "\\end{pmatrix} \\text{ et }A_2=\\begin{pmatrix}\n",
    "11&8&3&13\\\\\n",
    "2&12&7&10\\\\\n",
    "3&3&17&13\\\\\n",
    "11&2&12&7\n",
    "\\end{pmatrix}.$$\n",
    "Les réponses attendues pour $U$ par exemple sont\n",
    "$$U_1=\\begin{pmatrix}\n",
    "9&8&6\\\\\n",
    "0&-\\frac{2}{9}&\\frac{22}{3}\\\\\n",
    "0&0&-162\n",
    "\\end{pmatrix} \\text{ et }U_2=\\begin{pmatrix}\n",
    "11&8&3&13\\\\\n",
    "0&10.5454545&6.45454545&7.63636364\\\\\n",
    "0&0&15.6810345&8.86206897\\\\\n",
    "0&0&0&-8.81693238\n",
    "\\end{pmatrix}.$$\n",
    "\n",
    "3) Soient $A$ une matrice triangulaire inférieure et $x$ une solution du système $Ax=b$ (si cette solution existe). Ecrire une relation de récurrence pour calculer les $x_i$. Cette récurrence s'appelle **l'algorithme de descente.**\n",
    "\n",
    "4) Écrire de même une relation de récurrence entre les $x_i$ si $A$ est une matrice trianguaire supérieure (on retrouve ainsi **l'algorithme de remontée**).\n",
    "\n",
    "5) Construire une fonction **Descente(A,b)** correspondant à l'algorithme de descente.\n",
    "\n",
    "6) Construire de même une fonction **Remontee(A,b)** correspondant à l'algorithme de remontée.\n",
    "\n",
    "7) À l'aide des fonctions **DecompositionLU**, **Remontee** et **Descente**, écrire une fonction qui résoud un système linéaire $Ax=b$. L'utiliser pour les systèmes $A_1x=\\begin{pmatrix}1\\\\1\\\\1\\end{pmatrix}$ et $A_2x=\\begin{pmatrix}1\\\\1\\\\1\\\\1\\end{pmatrix}.$\n",
    "\n",
    "8) Tester votre code. Vérifier votre programme en comparant la solution avec ce que fournit la fonction **np.linalg.solve(A,b)** de Python. \n"
   ]
  },
  {
   "cell_type": "markdown",
   "metadata": {},
   "source": [
    "**Correction**:"
   ]
  },
  {
   "cell_type": "code",
   "execution_count": 1,
   "metadata": {},
   "outputs": [],
   "source": [
    "# ------------------------ question 1 -----------------------------\n",
    "def DecompositionLU(A):\n",
    "    n=np.shape(A)[0]\n",
    "    \n",
    "    # construction de L\n",
    "    L=np.zeros((n,n))\n",
    "            \n",
    "    # construction de U (attention on modifie directement A donc il faut calculer L avant)\n",
    "    for i in range(0,n):\n",
    "        L[i,i]=1.\n",
    "        for k in range(i+1,n):  # attention il faut commencer a i+1 !!\n",
    "            L[k,i]=A[k,i]/A[i,i]\n",
    "            A[k,0:n]=A[k,0:n]-A[k,i]/A[i,i]*A[i,0:n]\n",
    "            \n",
    "    U=np.copy(A)\n",
    "    \n",
    "    return L, U\n",
    "\n"
   ]
  },
  {
   "cell_type": "code",
   "execution_count": 5,
   "metadata": {},
   "outputs": [
    {
     "name": "stdout",
     "output_type": "stream",
     "text": [
      "('exo 6 = ', array([[ 1.        ,  0.        ,  0.        ],\n",
      "       [ 0.77777778,  1.        ,  0.        ],\n",
      "       [ 1.        , 22.5       ,  1.        ]]), array([[   9.        ,    8.        ,    6.        ],\n",
      "       [   0.        ,   -0.22222222,    7.33333333],\n",
      "       [   0.        ,    0.        , -162.        ]]))\n",
      "('exo 6 = ', array([[ 1.        ,  0.        ,  0.        ,  0.        ],\n",
      "       [ 0.18181818,  1.        ,  0.        ,  0.        ],\n",
      "       [ 0.27272727,  0.07758621,  1.        ,  0.        ],\n",
      "       [ 1.        , -0.56896552,  0.80813634,  1.        ]]), array([[11.        ,  8.        ,  3.        , 13.        ],\n",
      "       [ 0.        , 10.54545455,  6.45454545,  7.63636364],\n",
      "       [ 0.        ,  0.        , 15.68103448,  8.86206897],\n",
      "       [ 0.        ,  0.        ,  0.        , -8.81693238]]))\n"
     ]
    }
   ],
   "source": [
    "# ------------------------ question 2 -----------------------------\n",
    "A1=np.array([[9., 8., 6.], [7., 6., 12.], [9., 3., 9.]])\n",
    "A2=np.array([[11., 8., 3., 13.], [2., 12., 7., 10.], [3., 3., 17., 13.], [11., 2., 12., 7.]])\n",
    "\n",
    "L1, U1 = DecompositionLU(A1)\n",
    "print(\"exo 6 = \", L1, U1)\n",
    "\n",
    "L2, U2 = DecompositionLU(A2)\n",
    "print(\"exo 6 = \", L2, U2)\n",
    "\n"
   ]
  },
  {
   "cell_type": "code",
   "execution_count": 2,
   "metadata": {},
   "outputs": [
    {
     "data": {
      "text/plain": [
       "'\\navec des boucles for :\\n    def Descente(A,b):\\n    n=A.shape[0]\\n    x=np.zeros(n)\\n    x[0]=b[0]/A[0,0]\\n    for k in range(1,n):\\n        for j in range(0,k):\\n            b[k]=b[k]-A[k,j]*x[j]\\n        x[k]=b[k]/A[k,k]\\n    return x\\n'"
      ]
     },
     "execution_count": 2,
     "metadata": {},
     "output_type": "execute_result"
    }
   ],
   "source": [
    "# ------------------------ question 5 -----------------------------\n",
    "\n",
    "def Descente(A, b):\n",
    "    n=np.size(b)\n",
    "    x=np.zeros(n)\n",
    "    x[0]=b[0]/A[0,0]\n",
    "    for i in range(1, n):\n",
    "        S=np.sum(A[i,0:i]*x[0:i]) # operation terme a terme\n",
    "        x[i]=(b[i]-S)/A[i,i]\n",
    "    return x\n",
    "\n",
    "\"\"\"\n",
    "avec des boucles for :\n",
    "    def Descente(A,b):\n",
    "    n=A.shape[0]\n",
    "    x=np.zeros(n)\n",
    "    x[0]=b[0]/A[0,0]\n",
    "    for k in range(1,n):\n",
    "        for j in range(0,k):\n",
    "            b[k]=b[k]-A[k,j]*x[j]\n",
    "        x[k]=b[k]/A[k,k]\n",
    "    return x\n",
    "\"\"\"\n",
    "\n"
   ]
  },
  {
   "cell_type": "code",
   "execution_count": 7,
   "metadata": {},
   "outputs": [
    {
     "data": {
      "text/plain": [
       "'\\navec des boucles for :\\ndef Remontee(A,b):\\n    n=A.shape[0]\\n    x=np.zeros(n)\\n    x[n-1]=b[n-1]/A[n-1,n-1]\\n    for k in range(2, n+1):\\n        for j in range(n-1,n-k, -1):\\n            b[n-k]=b[n-k]-A[n-k,j]*x[j]\\n        x[n-k]=b[n-k]/A[n-k,n-k]\\n    return x\\n'"
      ]
     },
     "execution_count": 7,
     "metadata": {},
     "output_type": "execute_result"
    }
   ],
   "source": [
    "# ------------------------ question 6 -----------------------------\n",
    "\n",
    "def Remontee(A, b):\n",
    "    n=np.size(b)\n",
    "    x=np.zeros(n)\n",
    "    x[n-1]=b[n-1]/A[n-1,n-1]\n",
    "    for i in range(n-2, -1, -1):\n",
    "        S=np.sum(A[i,i+1:n]*x[i+1:n]) # operation terme a terme\n",
    "        x[i]=(b[i]-S)/A[i,i]\n",
    "    return x\n",
    "\n",
    "\"\"\"\n",
    "avec des boucles for :\n",
    "def Remontee(A,b):\n",
    "    n=A.shape[0]\n",
    "    x=np.zeros(n)\n",
    "    x[n-1]=b[n-1]/A[n-1,n-1]\n",
    "    for k in range(2, n+1):\n",
    "        for j in range(n-1,n-k, -1):\n",
    "            b[n-k]=b[n-k]-A[n-k,j]*x[j]\n",
    "        x[n-k]=b[n-k]/A[n-k,n-k]\n",
    "    return x\n",
    "\"\"\"\n",
    "\n"
   ]
  },
  {
   "cell_type": "code",
   "execution_count": 8,
   "metadata": {},
   "outputs": [
    {
     "name": "stdout",
     "output_type": "stream",
     "text": [
      "('exo 6 = ', 0.0)\n",
      "('exo 6 = ', 2.7755575615628914e-17)\n"
     ]
    }
   ],
   "source": [
    "# ------------------------ question 7 -----------------------------\n",
    "def Resolution_generale(A, b):\n",
    "    n=np.shape(A)[0]\n",
    "    L, U = DecompositionLU(A)\n",
    "    # on resout Ly=b\n",
    "    y=Descente(L,b)\n",
    "    # on resout Ux=y\n",
    "    x=Remontee(U,y)\n",
    "    return x\n",
    "\n",
    "\n",
    "x1=Resolution_generale(A1, np.ones(3))\n",
    "x2=Resolution_generale(A2, np.ones(4)) \n",
    "\n"
   ]
  },
  {
   "cell_type": "code",
   "execution_count": null,
   "metadata": {},
   "outputs": [],
   "source": [
    "# ------------------------ question 8 -----------------------------\n",
    "x1_exact=np.linalg.solve(A1, np.ones(3))\n",
    "x2_exact=np.linalg.solve(A2, np.ones(4))\n",
    "\n",
    "erreur1=np.max(np.abs(x1-x1_exact))\n",
    "erreur2=np.max(np.abs(x2-x2_exact))\n",
    "print(\"exo 6 = \", erreur1)\n",
    "print(\"exo 6 = \", erreur2)\n"
   ]
  },
  {
   "cell_type": "markdown",
   "metadata": {},
   "source": [
    "### Exercice 5 : Matrice inversible"
   ]
  },
  {
   "cell_type": "markdown",
   "metadata": {},
   "source": [
    "Soient $a, b, c$ et $d$ des nombres réels. On considère la matrice \n",
    "$A=\\begin{pmatrix}a&a&a&a\\\\\n",
    "a&b&b&b\\\\\n",
    "a&b&c&c\\\\\n",
    "a&b&c&d\\\\\n",
    "\\end{pmatrix}.$\n",
    "\n",
    "1) Déterminer la décomposition $LU$ de $A$ (si elle existe).\n",
    "\n",
    "2) Donner les conditions sur $a, b, c$ et $d$ pour que la matrice $A$ soit inversible.\n",
    "\n",
    "\n",
    "\n",
    "\n",
    "\n",
    "\n",
    "\n"
   ]
  },
  {
   "cell_type": "markdown",
   "metadata": {},
   "source": [
    "**Correction**"
   ]
  },
  {
   "cell_type": "markdown",
   "metadata": {},
   "source": [
    "**1)** Soit $A=\\begin{pmatrix}a&a&a&a\\\\\n",
    "a&b&b&b\\\\\n",
    "a&b&c&c\\\\\n",
    "a&b&c&d\n",
    "\\end{pmatrix}.$\n",
    "\n",
    "On applique le pivot de Gauss\n",
    "$$\\begin{array}{rcl}\n",
    "A=\\begin{pmatrix}\n",
    "a&b&b&b\\\\\n",
    "a&b&c&c\\\\\n",
    "a&b&c&d\n",
    "\\end{pmatrix}&\n",
    "\\underset{\\begin{array}{c}L_2\\rightarrow L_2-L_1\\\\L_3\\rightarrow L_3-L_1\\\\L_4\\rightarrow L_4-L_1\\end{array}}{\\longrightarrow}&\n",
    "\\begin{pmatrix}\n",
    "a&a&a&a\\\\\n",
    "0&b-a&b-a&b-a\\\\\n",
    "0&b-a&c-a&c-a\\\\\n",
    "0&b-a&c-a&d-a\n",
    "\\end{pmatrix}\\\\\n",
    "&\\underset{\\begin{array}{c}L_3\\rightarrow L_3-L_2\\\\L_4\\rightarrow L_4-L_2\\end{array}}{\\longrightarrow}&\n",
    "\\begin{pmatrix}\n",
    "a&a&a&a\\\\\n",
    "0&b-a&b-a&b-a\\\\\n",
    "0&0&c-b&c-b\\\\\n",
    "0&0&c-b&d-b\n",
    "\\end{pmatrix}\\\\\n",
    "&\\underset{L_4\\rightarrow L_4-L_3}{\\longrightarrow}&\n",
    "\\begin{pmatrix}\n",
    "a&a&a&a\\\\\n",
    "0&b-a&b-a&b-a\\\\\n",
    "0&0&c-b&c-b\\\\\n",
    "0&0&0&d-c\n",
    "\\end{pmatrix}\n",
    "\\end{array}$$\n",
    "\n",
    "Donc $L=\\begin{pmatrix}\n",
    "1&0&0&0\\\\\n",
    "1&1&0&0\\\\\n",
    "1&1&1&0\\\\\n",
    "1&1&1&1\n",
    "\\end{pmatrix}$ \n",
    "et $U=\\begin{pmatrix}\n",
    "a&a&a&a\\\\\n",
    "0&b-a&b-a&b-a\\\\\n",
    "0&0&c-b&c-b\\\\\n",
    "0&0&0&d-c\n",
    "\\end{pmatrix}$.\n",
    "Donc la décomposition **LU** existe."
   ]
  },
  {
   "cell_type": "markdown",
   "metadata": {},
   "source": [
    "**2)** La matrice $A$ est inversible si et seulement si les matrices $L$ et $U$ le sont.\n",
    "\n",
    "En tant que matrice triangulaires, elles le sont si et seulement si les termes de leurs diagonales sont non-nuls,\n",
    "c'est-à-dire \n",
    "\n",
    "$$a\\neq 0,b\\neq a,c\\neq b,d\\neq c.$$"
   ]
  },
  {
   "cell_type": "markdown",
   "metadata": {},
   "source": [
    "### Exercice 6 : (implémentation Python) : Matrice du laplacien"
   ]
  },
  {
   "cell_type": "markdown",
   "metadata": {},
   "source": [
    "On rappelle que la matrice du laplacien est définie par \n",
    "$$A=\\begin{pmatrix}\n",
    "2&-1&&&0\\\\\n",
    "-1&2&-1&&\\\\\n",
    "&\\ddots&\\ddots&\\ddots&\\\\\n",
    "&&-1&2&-1\\\\\n",
    "0&&&-1&2\\\\\n",
    "\\end{pmatrix}\n",
    "$$\n",
    "\n",
    "1) Comment déterminer l'inverse de $A$ à partir de la résolution de $Ax=b$ pour des vecteurs $b$ bien choisis ?\n",
    "\n",
    "2) En prenant les vecteurs $b$ de la question précédente et à l'aide des fonctions **DecompositionLU**, **Remontee**\n",
    "et **Descente** de l'exercice 6 calculer numériquement l'inverse de la matrice $A$ \n",
    "(sans utiliser la fonction **np.linalg.inv(A)**). \n",
    "\n",
    "3) Comparer le résultat avec ce que retourne **np.linalg.inv(A)**.\n",
    "\n",
    "\n",
    "\n"
   ]
  },
  {
   "cell_type": "code",
   "execution_count": 15,
   "metadata": {},
   "outputs": [],
   "source": [
    "# ------------------------ question 1 -----------------------------\n",
    "n=5\n",
    "\n",
    "# construction de A et b\n",
    "c = -1.*np.ones(n-1)\n",
    "d = 2.*np.ones(n)\n",
    "e = -1.*np.ones(n-1)\n",
    "A= np.diag(c, -1) + np.diag(d,0) + np.diag(e, 1)\n",
    "\n",
    "# on decompose A en L et U\n",
    "L2,U2 = DecompositionLU(A)\n",
    "\n"
   ]
  },
  {
   "cell_type": "code",
   "execution_count": null,
   "metadata": {},
   "outputs": [],
   "source": [
    "# ------------------------ question 2 -----------------------------\n",
    "A_inv=np.zeros((n,n))\n",
    "I=np.eye(n)\n",
    "# on resout Ax=b pour b = e_j vecteur canonique \n",
    "for i in range(0,n):\n",
    "    y2=Descente(L2,I[0:n,i])\n",
    "    x2=Remontee(U2,y2)\n",
    "    A_inv[0:n,i]=np.copy(x2)\n",
    "    \n"
   ]
  },
  {
   "cell_type": "code",
   "execution_count": 16,
   "metadata": {},
   "outputs": [
    {
     "name": "stdout",
     "output_type": "stream",
     "text": [
      "('exo 8 = ', 1.1102230246251565e-16)\n"
     ]
    }
   ],
   "source": [
    "# ------------------------ question 3 -----------------------------\n",
    "c = -1.*np.ones(n-1)\n",
    "d = 2.*np.ones(n)\n",
    "e = -1.*np.ones(n-1)\n",
    "A= np.diag(c, -1) + np.diag(d,0) + np.diag(e, 1)\n",
    "# attention il faut redefinir A car LU modifie A\n",
    "\n",
    "print(\"exo 8 = \", np.max(np.abs(A_inv-np.linalg.inv(A))))"
   ]
  },
  {
   "cell_type": "code",
   "execution_count": null,
   "metadata": {},
   "outputs": [],
   "source": []
  }
 ],
 "metadata": {
  "kernelspec": {
   "display_name": "Python 3 (ipykernel)",
   "language": "python",
   "name": "python3"
  },
  "language_info": {
   "codemirror_mode": {
    "name": "ipython",
    "version": 3
   },
   "file_extension": ".py",
   "mimetype": "text/x-python",
   "name": "python",
   "nbconvert_exporter": "python",
   "pygments_lexer": "ipython3",
   "version": "3.9.12"
  }
 },
 "nbformat": 4,
 "nbformat_minor": 4
}
