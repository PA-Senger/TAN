{
 "cells": [
  {
   "cell_type": "markdown",
   "metadata": {},
   "source": [
    "On rappelle le problème des moindres carrés : \n",
    "\\begin{equation*}\n",
    "(1)\\left\\{\n",
    "\\begin{aligned}\n",
    "&\\text{Trouver } \\widehat{x}\\in\\mathbb{R}^n\\text{ tel que }\\\\\n",
    "&||A\\widehat{x}-b||_2^2=\\text{min}\\{||Ay-b||_2^2, \\text{ avec }y\\in\\mathbb{R}^n\\}.\n",
    "\\end{aligned}\n",
    "\\right.\n",
    "\\end{equation*}\n",
    "\n",
    "## Exercice 1 : Régression polynomiale\n",
    "Le but de cet exercice est de donner un exemple de problème qui conduit à la résolution des moindres carrés.\n",
    "\n",
    "Considérons un ensemble de points $(x_i, y_i)_{i\\in \\{0,..., m-1\\} }$ . On cherche le polynôme de degré $k$ qui approche au mieux les points. On note $P(x)=\\alpha_0+\\alpha_1x+\\alpha_2x^2+...+\\alpha_{k}x^{k}$ ce polynôme.\n",
    "\n",
    "### Méthode 1\n",
    "**Question 1:** On suppose que $m>k$, et on va chercher à faire passer $P$ exactement par les points $(x_i, y_i)$. Ecrire ce probleme sous la forme d'un système linéaire $Ax=b$ avec $x=\\begin{pmatrix}\\alpha_0\\\\\\alpha_1\\\\\\vdots\\\\\\alpha_{k}\\end{pmatrix}$."
   ]
  },
  {
   "cell_type": "markdown",
   "metadata": {},
   "source": [
    "**Correction:**\n",
    "On souhaite que $P(x_i)=y_i$ pour tout $i\\in\\{0,...,m-1\\}$. En développant le polynôme $P$ cela donne :\n",
    "\\begin{equation*}\n",
    "\\left\\{\n",
    "\\begin{aligned}\n",
    "&\\alpha_0+\\alpha_1x_0+\\alpha_2x_0^2+...+\\alpha_kx_0^k=y_0\\\\\n",
    "&\\alpha_0+\\alpha_1x_1+\\alpha_2x_1^2+...+\\alpha_kx_1^k=y_1\\\\\n",
    "&\\vdots\\\\\n",
    "&\\alpha_0+\\alpha_1x_{m-1}+\\alpha_2x_{m-1}^2+...+\\alpha_kx_{m-1}^k=y_{m-1}\\\\\n",
    "\\end{aligned}\n",
    "\\right.\n",
    "\\end{equation*}\n",
    "qu'on peut réécrire sous la forme \n",
    "\\begin{equation*}\n",
    "\\underbrace{\\begin{pmatrix}\n",
    "1&x_0&x_0^2&...&x_0^k\\\\\n",
    "1&x_1&x_1^2&...&x_1^k\\\\\n",
    "\\vdots&\\vdots&\\vdots&...&\\vdots\\\\\n",
    "1&x_{m-1}&x_{m-1}^2&...&x_{m-1}^k\\\\\n",
    "\\end{pmatrix}}_{=\\ A\\mathrm{\\ (m\\ lignes\\ et\\ k+1\\ colonnes)}}\n",
    "\\underbrace{\\begin{pmatrix}\n",
    "\\alpha_0\\\\\n",
    "\\alpha_1\\\\\n",
    "\\vdots\\\\\n",
    "\\alpha_{k}\n",
    "\\end{pmatrix}}_{=x\\mathrm{\\ (k+1\\ lignes)}}=\n",
    "\\underbrace{\\begin{pmatrix}y_0\\\\\n",
    "y_1\\\\\n",
    "\\vdots\\\\\n",
    "y_{m-1}\n",
    "\\end{pmatrix}}_{=\\ b \\mathrm{\\ (m\\ lignes)}}\n",
    "\\end{equation*}\n",
    "\n",
    "C'est bien un système de la forme $Ax=b$ avec $A\\in\\mathcal{M}_{m, (k+1)}(\\mathbb{R})$, $x\\in\\mathbb{R}^{k+1}$ et $b\\in\\mathbb{R}^m.$"
   ]
  },
  {
   "cell_type": "markdown",
   "metadata": {},
   "source": [
    "**Question 2:** On suppose que les $(x_i, y_i)_{i\\in\\{0,..., m-1\\}}$ valent $\\{(0, 1), (1, 9), (3, 9), (4, 21)\\}$ et qu'on cherche un polynôme de degré 1. Que valent $m$ et $k$ dans ce cas ? Donner explicitement la matrice $A$ et le vecteur $b$.\n"
   ]
  },
  {
   "cell_type": "markdown",
   "metadata": {},
   "source": [
    "**Correction:** On a 4 couples de points $(x_i, y_i)$ donc $m=4$ (et les $(x_i, y_i)$ sont indexés de $i=0$ à $i=3$).\n",
    "On cherche $P$ de degrés 1 donc $k=1$. \n",
    "\n",
    "Donc $A\\in\\mathcal{M}_{4, 2}(\\mathbb{R})$, $x\\in\\mathbb{R}^2$ et $b\\in\\mathbb{R}^4$, avec \n",
    "\\begin{equation*}\n",
    "A=\\begin{pmatrix}\n",
    "1&0\\\\\n",
    "1&1\\\\\n",
    "1&3\\\\\n",
    "1&4\\\\\n",
    "\\end{pmatrix},\\ \\ \\ x=\\begin{pmatrix}\\alpha_0\\\\\n",
    "\\alpha_1\\\\\n",
    "\\end{pmatrix}, \\ \\ \\ b=\\begin{pmatrix}1\\\\\n",
    "9\\\\\n",
    "9\\\\\n",
    "21\n",
    "\\end{pmatrix}.\n",
    "\\end{equation*}"
   ]
  },
  {
   "cell_type": "markdown",
   "metadata": {},
   "source": [
    "**Question 3:** Montrer qu'un tel polynôme n'existe pas."
   ]
  },
  {
   "cell_type": "markdown",
   "metadata": {},
   "source": [
    "**Correction:** On cherche $x=\\begin{pmatrix}\\alpha_0\\\\\\alpha_1\\end{pmatrix}$ tel que $Ax=b$. (Une fois qu'on aura les $\\alpha_i$, on connaîtra le polynôme $P$ en prenant $P(x)=\\alpha_0+\\alpha_1 x$).\n",
    "Une fois développé, le système $Ax=b$ donne \n",
    "\\begin{equation*}\n",
    "\\left\\{\n",
    "\\begin{aligned}\n",
    "&\\alpha_0=1,\\\\\n",
    "&\\alpha_0+\\alpha_1=9,\\\\\n",
    "&\\alpha_0+3\\alpha_1=9,\\\\\n",
    "&\\alpha_0+4\\alpha_1=21.\n",
    "\\end{aligned}\n",
    "\\right.\n",
    "\\end{equation*}\n",
    "Les deux premières lignes impliquent que $\\alpha_0=1$ et $\\alpha_1=8$. Ces valeurs ne sont pas compatibles avec les deux dernières lignes.\n",
    "\n",
    "Il n'y a donc pas de solution $x$ au système $Ax=b$ et le polynôme $P$ n'existe donc pas."
   ]
  },
  {
   "cell_type": "markdown",
   "metadata": {},
   "source": [
    "### Méthode 2\n",
    "\n",
    "On va chercher alors un polynôme de degré $k$ qui passe << au plus près>> des points $(x_i, y_i)_{i\\in\\{0, ..., m-1\\}}$ sans pour autant passer exactement par ces points. On cherche plus précisément à minimiser le carré de l'erreur des \n",
    "ordonnées en norme 2 :\n",
    "\n",
    "\\begin{equation*}\n",
    "E(\\alpha_0, \\alpha_1,..., \\alpha_{k})=\\sum_{i=0}^{m-1}|y_i-P(x_i)|^2=\\sum_{i=0}^{m-1}|y_i-(\\alpha_0+\\alpha_1x_i+...+\\alpha_{k}x_i^{k})|^2.\n",
    "\\end{equation*}\n",
    "On s'intéresse donc au problème suivant\n",
    "\n",
    "\\begin{equation*}\n",
    "(2)\\left\\{\n",
    "\\begin{aligned}\n",
    "&\\text{Trouver } \\widehat{\\alpha}_0, \\widehat{\\alpha}_1, ..., \\widehat{\\alpha}_{k}\\in\\mathbb{R}\\text{ tels que }\\\\\n",
    "&E(\\widehat{\\alpha}_0, \\widehat{\\alpha}_1,..., \\widehat{\\alpha}_{k})=\\text{min}\\{E(\\alpha_0, \\alpha_1,..., \\alpha_{k}), \\text{ avec }\\alpha_0, \\alpha_1, ..., \\alpha_{k}\\in\\mathbb{R}\\}.\n",
    "\\end{aligned}\n",
    "\\right.\n",
    "\\end{equation*}\n"
   ]
  },
  {
   "cell_type": "markdown",
   "metadata": {},
   "source": [
    "**Question 4:** Réécrire le problème (2) sous la forme d'un problème de moindres carrés (1). Que valent la matrice de Vandermonde $A$ et le vecteur $b$ ? Quelles sont leurs dimensions ?\n"
   ]
  },
  {
   "cell_type": "markdown",
   "metadata": {},
   "source": [
    "**Correction:** On a \n",
    "\\begin{equation*}\n",
    "E(\\alpha_0, \\alpha_1,..., \\alpha_{k})=\\sum_{i=0}^{m-1}|y_i-P(x_i)|^2=\\sum_{i=0}^{m-1}|y_i-(\\alpha_0+\\alpha_1x_i+...+\\alpha_{k}x_i^{k})|^2.\n",
    "\\end{equation*}\n",
    "\n",
    "Comme précédemment, on pose $b=\\begin{pmatrix}y_0\\\\y_1\\\\\\vdots\\\\y_{m-1}\\end{pmatrix}\\in\\mathbb{R}^m$, $x=\\begin{pmatrix}\\alpha_0\\\\ \\alpha_1\\\\\\vdots\\\\\\alpha_k\\end{pmatrix}\\in\\mathbb{R}^{k+1}$ et $A=\\begin{pmatrix}\n",
    "1&x_0&x_0^2&...&x_0^k\\\\\n",
    "1&x_1&x_1^2&...&x_1^k\\\\\n",
    "\\vdots&\\vdots&\\vdots&...&\\vdots\\\\\n",
    "1&x_{m-1}&x_{m-1}^2&...&x_{m-1}^k\\\\\n",
    "\\end{pmatrix}\\in\\mathcal{M}_{m,k+1}(\\mathbb{R})$.  \n",
    "\n",
    "On a donc, pour tout $i\\in\\{0,...,m-1\\}$, $y_i-(\\alpha_0+\\alpha_1x_i+...+\\alpha_{k}x_i^{k})=b_i-(Ax)_i$, donc \n",
    "\\begin{equation*}\n",
    "E(\\alpha_0, \\alpha_1,..., \\alpha_{k})=\\sum_{i=0}^{m-1}|b_i-(Ax)_i|^2=||Ax-b||_2^2.\n",
    "\\end{equation*}\n",
    "Donc $\\underset{\\alpha_i\\in\\mathbb{R}}{\\min}E(\\alpha_0, \\alpha_1, ...,\\alpha_k)=\\underset{x\\in\\mathbb{R}^{k+1}}{\\min}||Ax-b||_2^2.$\n",
    "\n",
    "C'est bien un problème aux moindres carrés du type (1) avec $A$ de dimensions $(m, n)=(m,k+1)$, $x$ de dimension $k+1$ et $b$ de dimension $m$. "
   ]
  },
  {
   "cell_type": "markdown",
   "metadata": {},
   "source": [
    "**Question 5:** On note $J(x)=||Ax-b||^2_2$ la fonction à minimiser du problème des moindres carrés déterminés à la question précédente. On définit $\\chi$ le sous espace vectoriel tel que $\\mathbb{R}^{k+1}=\\chi\\oplus\\text{Ker}(A)$. Montrer que $J$ est coercice sur $\\chi$ (c'est-à-dire que $J(x)\\underset{||x||_2\\rightarrow\\infty}{\\longrightarrow} +\\infty$ avec $x\\in\\chi$) et qu'elle est convexe sur $\\mathbb{R}^{k+1}$ (et même strictement convexe sur $\\chi$). "
   ]
  },
  {
   "cell_type": "markdown",
   "metadata": {},
   "source": [
    "**Correction:** \n",
    "\n",
    "**Coercivité sur $\\chi$:**\n",
    "Soit $x\\in\\chi$. On a \n",
    "\n",
    "\\begin{equation*}\n",
    "J(x)=||Ax-b||_2^2=||Ax||_2^2-2< Ax, b>+||b||_2^2\\geq ||Ax||_2^2-2||Ax||_2.||b||_2+||b||_2^2.\n",
    "\\end{equation*}\n",
    "\n",
    "La dernière inégalité provient de l'inégalité de Cauchy-Schwarz.\n",
    "\n",
    "Or $||Ax||_2=||A\\frac{x}{||x||_2}||_2.||x||_2\\geq \\inf\\left\\{||Aw||_2,\\ \\text{avec}\\ w\\in\\chi\\ \\text{et}\\ ||w||_2=1\\right\\}.||x||_2$.\n",
    "\n",
    "Comme $\\chi$ est un sous-espace vectoriel d'un espace de dimension finie, il est fermé, d'où $F:=\\{w\\in\\chi \\text{ tel que}\\ ||w||_2=1\\}$ est un compact. L'application $w\\in F\\mapsto ||Aw||_2\\in\\mathbb{R}$ est continue, elle est bornée et atteint ses bornes. Il existe donc $w_0\\in \\chi\\ \\text{tel que}\\ ||w_0||_2=1$ et $||Aw_0||_2=\\inf\\{||Aw||_2,\\ \\text{avec}\\ w\\in \\chi\\ \\text{et}\\ ||w||_2=1\\}.$\n",
    "\n",
    "Donc $||Ax||_2\\geq ||Aw_0||_2.||x||_2.$ \n",
    "\n",
    "Comme $w_0\\not\\in\\text{Ker}(A)$, on a $||Aw_0||_2\\neq0$ et donc $||Ax||_2\\underset{||x||_2\\rightarrow+\\infty}{\\longrightarrow}+\\infty.$\n",
    "Donc $||Ax||_2^2-2||Ax||_2.||b||_2+||b||_2^2\\underset{||x||_2\\rightarrow+\\infty}{\\longrightarrow}+\\infty.$ \n",
    "\n",
    "La fonction $J$ est donc bien coercive.\n",
    "\n",
    "**Convexité sur $\\mathbb{R}^{k+1}$:**\n",
    "Soit $\\theta\\in[0,1]$ et $x,y\\in\\mathbb{R}^{k+1}$. On a \n",
    "\\begin{equation*}\n",
    "\\begin{aligned}\n",
    "J(\\theta x+(1-\\theta) y)-&\\theta J(x)-(1-\\theta)J(y)\\\\\n",
    "&=||\\theta Ax+(1-\\theta)Ay-\\underbrace{b}_{=\\theta b+(1-\\theta)b}||_2^2-\\theta||Ax-b||_2^2-(1-\\theta)||Ay-b||_2^2\\\\\n",
    "&=\\theta^2||Ax-b||_2^2+2<\\theta Ax-\\theta b, (1-\\theta)Ay-(1-\\theta)b>\\\\\n",
    "+(1-\\theta)^2||Ay-b||_2^2&-\\theta||Ax-b||_2^2-(1-\\theta)||Ay-b||_2^2\\\\\n",
    "&=\\theta(\\theta-1)||Ax-b||_2^2-2\\theta(\\theta-1)<Ax-b, Ay-b>+\\theta(\\theta-1)||Ay-b||_2^2\\\\\n",
    "&=\\theta(\\theta-1)||Ax-b-(Ay-b)||_2^2\\\\\n",
    "&=\\theta(\\theta-1)||Ax-Ay||_2^2\\\\\n",
    "&\\leq 0 \\text{ car }\\theta\\in[0,1].\n",
    "\\end{aligned}\n",
    "\\end{equation*}\n",
    "\n",
    "Donc $\\forall \\theta\\in[0,1], \\forall x,y\\in\\mathbb{R}^{k+1}$ on a $J(\\theta x+(1-\\theta)y)\\leq \\theta J(x)+(1-\\theta)J(y).$ La fonction $J$ est bien convexe sur $\\mathbb{R}^{k+1}.$\n",
    "\n",
    "**Stricte convexité sur $\\chi$:**\n",
    "Si $x,y\\not\\in\\text{Ker}(A)$ alors $x,y\\in\\chi$ (par définition de $\\chi$). Comme $\\chi$ est un sous espace vectoriel, on a donc $x-y\\in\\chi$ et ainsi $x-y\\not\\in\\text{Ker}(A)$.\n",
    "\n",
    "Dans ce cas, si $x, y\\not\\in\\text{Ker}(A)$ et si $\\theta\\in(0,1)$, \n",
    "$J(\\theta x+(1-\\theta) y)-\\theta J(x)-(1-\\theta)J(y)=\\theta(\\theta-1)||A(x-y)||_2^2<0$ (car $A(x-y)\\neq0$).\n",
    "\n",
    "Donc $J$ est bien strictement convexe sur $\\chi$."
   ]
  },
  {
   "cell_type": "markdown",
   "metadata": {},
   "source": [
    "**Question 6:** En déduire que $J$ admet un unique minimiseur sur $\\chi$, noté $x_2$ et que l'ensemble des solutions au problème des moindres carrés déterminé à la question 4 est l'ensemble $\\{x_2+y, \\ y\\in\\text{Ker}(A)\\}.$ Pour cette question, on admettra la proposition suivante : _toute fonction coercive et strictement convexe sur un espace vectoriel $E\\in\\mathbb{R}^{k+1}$ admet un unique minimiseur sur $E$_."
   ]
  },
  {
   "cell_type": "markdown",
   "metadata": {},
   "source": [
    "**Correction :** \n",
    "$J$ est coercive et strictement convexe sur $\\chi$ elle admet donc un unique minimiseur $x_2$ sur $\\chi$ (d'après l'indication de l'énoncé).\n",
    "\n",
    "Soit $\\mathcal{S}$ l'ensemble des solutions au problème des moindres carrés (c'est-à-dire l'ensemble des minimiseurs de $J$ sur $\\mathbb{R}^{k+1})$. Montrons que $\\mathcal{S}=\\{x_2+y,\\ \\text{avec}\\ y\\in\\text{Ker}(A)\\}$.\n",
    "\n",
    "**Première inclusion:** Soit $x_0\\in\\mathbb{R}^{k+1}$ alors $x_0$ se décompose en $x_0=\\mu_0+y_0$ avec $\\mu_0\\in\\chi$ et $y_0\\in\\text{Ker}(A)$ (par définition de $\\chi$). \n",
    "Donc $J(x_0)=||A\\mu_0+Ay_0-b||_2^2=||A\\mu_0-b||_2^2=J(\\mu_0)\\geq J(x_2)$ car $x_2$ est le minimiseur sur $\\chi$ et $\\mu_0\\in\\chi$.\n",
    "\n",
    "Or, pour tout $y\\in\\text{Ker}(A)$, $J(x_2+y)=||Ax_2+Ay-b||_2^2=||Ax_2-b||_2^2=J(x_2)$. Donc pour tout $x_0\\in\\mathbb{R}^{k+1}$ et tout $y\\in\\text{Ker}(A)$, on a $J(x_0)\\geq J(x_2)=J(x_2+y)$. Donc $x_2+y$ est bien un minimiseur de $J$ sur $\\mathbb{R}^{k+1}.$\n",
    "\n",
    "Ainsi $$\\{x_2+y,\\ \\text{avec}\\ y\\in\\text{Ker}(A)\\}\\subset\\mathcal{S}.$$\n",
    "\n",
    "**Deuxième inclusion:** Soit $\\widehat{x}$ une solution au problème des moindres carrés. Alors $\\widehat{x}$ est un minimiseur de $J$ sur $\\mathbb{R}^{k+1}$ (ce n'est pas forcément $x_2$ car $x_2$ est le minimiseur sur $\\chi$).\n",
    "On a $J(\\widehat{x})\\leq J(z)$ pour tout $z\\in\\mathbb{R}^{k+1}$ donc entre autre pour tout $z\\in\\chi$. \n",
    "\n",
    "Or $\\widehat{x}$ se décompose en $\\widehat{x}=\\widehat{\\mu}+\\widehat{y}$ avec $\\widehat{\\mu}\\in\\chi$ et $\\widehat{y}\\in\\text{Ker}(A)$. Comme précédemment, on a $J(\\widehat{x})=J(\\widehat{\\mu})$ donc $J(\\widehat{\\mu})\\leq J(z)$, pour tout $z\\in\\chi$. Ainsi $\\widehat{\\mu}=x_2$ par unicité du minimiseur sur $\\chi$.\n",
    "\n",
    "\n",
    "Donc $\\widehat{x}=x_2+\\widehat{y}\\in\\{x_2+y,\\ \\text{avec}\\ y\\in\\text{Ker}(A)\\}.$ On a donc \n",
    "$$\\mathcal{S}\\subset\\{x_2+y,\\ \\text{avec}\\ y\\in\\text{Ker}(A)\\}.$$"
   ]
  },
  {
   "cell_type": "markdown",
   "metadata": {},
   "source": [
    "**Question 7:** Montrer que chercher un minimimiseur de $J$ sur $\\mathbb{R}^{k+1}$ équivaut à chercher une solution de l'équation suivante qu'on appelle équation normale :\n",
    "$$A^TAx=A^Tb.$$\n",
    "Pour cette question, on admettra la proposition suivante : _si $F$ est une fonction convexe sur un ouvert $U$ et si $\\nabla F(x)=0$ alors $x$ est un minimiseur de $F$. Autrement dit, la réciproque de l'égalité d'Euler (voir chapitre 4) est vraie pour les fonctions convexes._\n"
   ]
  },
  {
   "cell_type": "markdown",
   "metadata": {},
   "source": [
    "**Correction :**\n",
    "$J$ est différentiable. Pour tout $x,h\\in\\mathbb{R}^n$,\n",
    "\n",
    "$$\\begin{array}{rcl}\n",
    "J(x+h)&=&\\langle A(x+h)-b,A(x+h)-b\\rangle\\\\\n",
    "&=&J(x)+2\\langle Ax-b,Ah\\rangle+o(h)\\\\\n",
    "&=&J(x)+\\langle 2A^T(Ax-b),h\\rangle+o(h)\n",
    "\\end{array}$$\n",
    "Donc \n",
    "$$\\nabla J(x)h=\\lim\\limits_{\\varepsilon\\rightarrow 0}\\frac{J(x+\\varepsilon h)-J(x)}{\\varepsilon}=\\langle 2A^T(Ax-b),h\\rangle$$\n",
    "et ainsi $\\nabla J(x)=2(A^TAx-A^Tb)$. \n",
    "\n",
    "Montrons que $x$ minimise $J$ sur $\\mathbb{R}^{k+1}$ $\\Leftrightarrow$ $A^TAx=A^Tb$.\n",
    "\n",
    "$\\Rightarrow$ Si $x$ est un minimiseur de $J$ sur $\\mathbb{R}^{k+1}$ alors $\\nabla J(x)=0$ (égalité d'Euler rappelée au chapitre 4) donc $A^TAx=A^Tb$.\n",
    "\n",
    "$\\Leftarrow$ Si $A^TAx=A^Tb$, alors $\\nabla J(x)=0$. Comme $J$ est convexe sur $\\mathbb{R}^{k+1}$ qui est un ouvert, d'après l'indice de l'énoncé, la réciproque de l'égalité d'Euler a lieu et $x$ est bien un minimiseur de $J$ sur $\\mathbb{R}^{k+1}$."
   ]
  },
  {
   "cell_type": "markdown",
   "metadata": {},
   "source": [
    "**Question 8:** Montrer que cette solution est unique si $rang(A)=k+1$."
   ]
  },
  {
   "cell_type": "markdown",
   "metadata": {},
   "source": [
    "**Correction :** On a $<x, A^TAx>=<Ax, Ax>=||Ax||^2_2$. Donc $A^TAx=0\\Rightarrow Ax=0$.\n",
    "Or $Ax=0\\Rightarrow A^TAx=0$. Donc $\\text{Ker}(A^TA)=\\text{Ker}(A)$.\n",
    "\n",
    "Par le théorème du rang, on a $k+1=rang(A)+\\text{dim}(\\text{Ker}(A))$ et $k+1=rang(A^TA)+\\text{dim}(\\text{Ker}(A^TA))$. Donc $rang(A)=rang(A^TA).$\n",
    "\n",
    "Ainsi, si $rang(A)=k+1$, alors $rang(A^TA)=k+1$. Or $A^TA$ est une matrice carrée de taille $(k+1)\\times(k+1)$ donc si son rang vaut $k+1$, c'est qu'elle est inversible. \n",
    "\n",
    "Il existe donc un unique vecteur $\\widehat{x}$ qui soit solution des équations normales $A^TA\\widehat{x}=A^Tb.$"
   ]
  },
  {
   "cell_type": "markdown",
   "metadata": {},
   "source": [
    "**Question 9:** On reprend le jeu de données de la question 2 et on cherche un polynôme de degré 1. Que valent $A^TA$ et $A^Tb$ ? Résoudre les équations normales dans ce cas."
   ]
  },
  {
   "cell_type": "markdown",
   "metadata": {},
   "source": [
    "**Correction :** On a, dans ce cas,\n",
    "\\begin{equation*}\n",
    "A=\\begin{pmatrix}\n",
    "1&0\\\\\n",
    "1&1\\\\\n",
    "1&3\\\\\n",
    "1&4\\\\\n",
    "\\end{pmatrix},\\ \\ A^T=\\begin{pmatrix}\n",
    "1&1&1&1\\\\\n",
    "0&1&3&4\n",
    "\\end{pmatrix},\\ \\ b=\\begin{pmatrix}1\\\\9\\\\9\\\\21\\end{pmatrix}.\n",
    "\\end{equation*}\n",
    "Donc $A^TA=\\begin{pmatrix}4&8\\\\8&26\\end{pmatrix}$ et $A^Tb=\\begin{pmatrix}40\\\\120\\end{pmatrix}.$\n",
    "\n",
    "La solution $\\widehat{x}=(\\widehat{x}_1,\\widehat{x}_2)$ du système normal satisfait le système\n",
    "$$\\left\\{\\begin{array}{rcl}\n",
    "4\\widehat{x}_1+8\\widehat{x}_2&=&40\\\\\n",
    "8\\widehat{x}_1+26\\widehat{x}_2&=&120\n",
    "\\end{array}\\right.$$  \n",
    "\n",
    "$$\\Rightarrow\\left\\{\\begin{array}{rcl}\n",
    "4\\widehat{x}_1+8\\widehat{x}_2&=&40\\\\\n",
    "10\\widehat{x}_2&=&40\n",
    "\\end{array}\\right.$$  \n",
    "\n",
    "$$\\Rightarrow\\left\\{\\begin{array}{rcl}\n",
    "\\widehat{x}_1+2\\widehat{x}_2&=&10\\\\\n",
    "\\widehat{x}_2&=&4\n",
    "\\end{array}\\right.$$\n",
    "Donc $\\widehat{x}$ vaut \n",
    "$$\\widehat{x}=\\begin{pmatrix}2\\\\4\\end{pmatrix}.$$"
   ]
  },
  {
   "cell_type": "markdown",
   "metadata": {},
   "source": [
    "**Question 10:** En déduire le polynôme de degré 1 recherché."
   ]
  },
  {
   "cell_type": "markdown",
   "metadata": {},
   "source": [
    "**Correction :** Comme $\\widehat{x}=\\begin{pmatrix}\\widehat{\\alpha}_0\\\\\\widehat{\\alpha}_1\\end{pmatrix}$, le polynôme recherché vaut\n",
    "\n",
    "$$P(x)=\\widehat{\\alpha}_0+\\widehat{\\alpha}_1x=2+4x.$$\n"
   ]
  },
  {
   "cell_type": "markdown",
   "metadata": {},
   "source": [
    "## Exercice 2 : Régression linéaire par python : cas d'une droite\n",
    "\n",
    "On se donne les points suivants $(0, -1), (1, 0.2), (2, 0.9), (3, 2.1)$. On cherche la droite de régression linéaire : la droite passant << au mieux >> par ces points au sens des moindres carrés, d'équation $y=\\alpha_0+\\alpha_1x$.\n"
   ]
  },
  {
   "cell_type": "markdown",
   "metadata": {},
   "source": [
    "**Question 1:** Positionner ces points sur un graphe à l'aide d'un marqueur."
   ]
  },
  {
   "cell_type": "markdown",
   "metadata": {},
   "source": [
    "**Correction :**"
   ]
  },
  {
   "cell_type": "code",
   "execution_count": 1,
   "metadata": {},
   "outputs": [
    {
     "data": {
      "text/plain": [
       "[<matplotlib.lines.Line2D at 0x7f771593ea10>]"
      ]
     },
     "execution_count": 1,
     "metadata": {},
     "output_type": "execute_result"
    }
   ],
   "source": [
    "import numpy as np\n",
    "import matplotlib.pyplot as plt\n",
    "\n",
    "xi=np.array([0, 1, 2, 3.])\n",
    "yi=np.array([-1, 0.2, 0.9, 2.1])\n",
    "\n",
    "plt.figure(1)\n",
    "plt.clf()\n",
    "plt.plot(xi, yi, 'r*')"
   ]
  },
  {
   "cell_type": "markdown",
   "metadata": {},
   "source": [
    "**Question 2:** Ecrire la matrice $A$ et le vecteur $b$ de la régression linéaire par moindres carrés dans ce cas et les implémenter en python."
   ]
  },
  {
   "cell_type": "markdown",
   "metadata": {},
   "source": [
    "**Correction :**"
   ]
  },
  {
   "cell_type": "code",
   "execution_count": 2,
   "metadata": {},
   "outputs": [],
   "source": [
    "A=np.ones((4, 2))\n",
    "b=np.zeros(4)\n",
    "for i in range(0,4):\n",
    "    A[i,1]=xi[i]\n",
    "    b[i]=yi[i]"
   ]
  },
  {
   "cell_type": "markdown",
   "metadata": {},
   "source": [
    "**Question 3:** Le problème des moindres carrés (1) est résolu en python par la fonction \n",
    "\n",
    ">```np.linalg.lstsq(A, b, rcond=None)```. \n",
    "\n",
    "Cette fonction ressort le vecteur $\\widehat{x}$ qui minimise la norme $||A\\widehat{x}-b||_2$, ainsi que la valeur du résidu **au carré** $||A\\widehat{x}-b||_2^2$. \n",
    "\n",
    " Pour avoir accès au vecteur $\\widehat{x}$, il faudra donc écrire ```np.linalg.lstsq(A, b, rcond=None)[0]``` et pour avoir accès au carré du résidu  il faudra utiliser ```np.linalg.lstsq(A, b, rcond=None)[1]```. L'option ```rcond=None``` correspond à une approximation des valeurs propres du problème de l'ordre de la précision machine.\n",
    " \n",
    "Calculer les coefficients $\\alpha_0$ et $\\alpha_1$ de la droite de régression linéaire."
   ]
  },
  {
   "cell_type": "markdown",
   "metadata": {},
   "source": [
    "**Correction :**"
   ]
  },
  {
   "cell_type": "code",
   "execution_count": 3,
   "metadata": {},
   "outputs": [
    {
     "name": "stdout",
     "output_type": "stream",
     "text": [
      "('alpha=', array([-0.95,  1.  ]))\n"
     ]
    }
   ],
   "source": [
    "alpha = np.linalg.lstsq(A, b, rcond=None)[0]\n",
    "print('alpha=', alpha)"
   ]
  },
  {
   "cell_type": "markdown",
   "metadata": {},
   "source": [
    "**Question 4:** Tracer cette droite sur la figure. Calculer le résidu et le comparer à la valeur ```np.linalg.lstsq(A, b, rcond=None)[1]```."
   ]
  },
  {
   "cell_type": "markdown",
   "metadata": {},
   "source": [
    "**Correction :**"
   ]
  },
  {
   "cell_type": "code",
   "execution_count": 4,
   "metadata": {},
   "outputs": [
    {
     "data": {
      "image/png": "[encoded data removed]",
      "text/plain": [
       "<matplotlib.figure.Figure at 0x7f771574d990>"
      ]
     },
     "metadata": {
      "needs_background": "light"
     },
     "output_type": "display_data"
    },
    {
     "name": "stdout",
     "output_type": "stream",
     "text": [
      "('residu=', 0.050000000000000114)\n",
      "('norme au carre=', 0.05000000000000004)\n"
     ]
    }
   ],
   "source": [
    "X=np.linspace(-0.1, 3.1, 1000)\n",
    "plt.plot(xi, yi, 'r*')\n",
    "plt.plot(X, alpha[0]+alpha[1]*X, 'b')\n",
    "plt.show()\n",
    "\n",
    "\n",
    "residu=np.linalg.lstsq(A, b, rcond=None)[1]\n",
    "print('residu=', residu[0])\n",
    "print('norme au carre=', np.linalg.norm(np.dot(A, alpha)-b, 2)**2)"
   ]
  },
  {
   "cell_type": "markdown",
   "metadata": {},
   "source": [
    "## Exercice 3 : Régression polynomiale par python : cas d'une parabole\n",
    "\n",
    "On cherche maintenant la parabole $P(x)=\\alpha_0+\\alpha_1x+\\alpha_2x^2$ qui approche au mieux les points $$(1, 0.3), (2.5, 1.1), (3.5, 1.5), (4, 2.0), (5, 3.2), (7, 6.6), (8.5, 8.6).$$"
   ]
  },
  {
   "cell_type": "markdown",
   "metadata": {},
   "source": [
    "**Question 1 :** Ecrire ce problème sous la forme d'un problème aux moindres carrés (1) en explicitant la matrice $A$ et le vecteur $b$."
   ]
  },
  {
   "cell_type": "markdown",
   "metadata": {},
   "source": [
    "**Correction :** La matrice $A$ est de taille (7,3) et vaut \n",
    "\\begin{equation*}\n",
    "A=\\begin{pmatrix}\n",
    "1&x_0&x_0^2\\\\\n",
    "1&x_1&x_1^2\\\\\n",
    "1&x_2&x_2^2\\\\\n",
    "1&x_3&x_3^2\\\\\n",
    "1&x_4&x_4^2\\\\\n",
    "1&x_5&x_5^2\\\\\n",
    "1&x_6&x_6^2\\\\\n",
    "\\end{pmatrix}=\\begin{pmatrix}\n",
    "1&1&1\\\\\n",
    "1&2.5&2.5^2\\\\\n",
    "1&3.5&3.5^2\\\\\n",
    "1&4&4^2\\\\\n",
    "1&5&5^2\\\\\n",
    "1&7&7^2\\\\\n",
    "1&8.5&8.5^2\\\\\n",
    "\\end{pmatrix}.\n",
    "\\end{equation*}\n",
    "\n",
    "Le vecteur $b$ est de taille 7 et vaut $b=\\begin{pmatrix}y_0\\\\y_1\\\\y_2\\\\y_3\\\\y_4\\\\y_5\\\\y_6\\end{pmatrix}=\\begin{pmatrix}0.3\\\\1.1\\\\1.5\\\\2.0\\\\3.2\\\\6.6\\\\8.6\\end{pmatrix}.$"
   ]
  },
  {
   "cell_type": "markdown",
   "metadata": {},
   "source": [
    "**Question 2:** Résoudre ce problème en python et tracer sur la même figure les points par des marqueurs et la parabole de régression. "
   ]
  },
  {
   "cell_type": "markdown",
   "metadata": {},
   "source": [
    "**Correction :**"
   ]
  },
  {
   "cell_type": "code",
   "execution_count": 9,
   "metadata": {},
   "outputs": [
    {
     "data": {
      "text/plain": [
       "[<matplotlib.lines.Line2D at 0x7f7715593810>]"
      ]
     },
     "execution_count": 9,
     "metadata": {},
     "output_type": "execute_result"
    },
    {
     "data": {
      "image/png": "[encoded data removed]",
      "text/plain": [
       "<matplotlib.figure.Figure at 0x7f7748262d50>"
      ]
     },
     "metadata": {
      "needs_background": "light"
     },
     "output_type": "display_data"
    }
   ],
   "source": [
    "xi=np.array([1, 2.5, 3.5, 4, 5, 7, 8.5])\n",
    "yi=np.array([0.3, 1.1, 1.5, 2.0, 3.2, 6.6, 8.6])\n",
    "\n",
    "A=np.ones((7, 3))\n",
    "b=np.zeros(7)\n",
    "for i in range(0,7):\n",
    "    A[i,1]=xi[i]\n",
    "    A[i,2]=xi[i]**2\n",
    "    b[i]=yi[i]\n",
    "\n",
    "alpha= np.linalg.lstsq(A, b, rcond=None)[0]\n",
    "residu=np.linalg.lstsq(A, b, rcond=None)[1]\n",
    "\n",
    "X=np.linspace(0.5, 9, 10001)\n",
    "plt.plot(xi, yi, 'r*')\n",
    "plt.plot(X, alpha[0]+alpha[1]*X+alpha[2]*X**2, 'b')"
   ]
  },
  {
   "cell_type": "markdown",
   "metadata": {},
   "source": [
    "**Question 3:** Le problème est-il le même si on cherche la parabole qui approche au mieux les points sous la forme $\\tilde{P}(x)=\\tilde{\\alpha}_0+\\tilde{\\alpha}_2x^2$ ? Que valent la nouvelle matrice $\\tilde{A}$ et le nouveau vecteur $\\tilde{b}$ ? Les coefficients $\\tilde{\\alpha}_0$ et $\\tilde{\\alpha}_2$ sont-ils identiques aux $\\alpha_0$ et $\\alpha_2$ ?"
   ]
  },
  {
   "cell_type": "markdown",
   "metadata": {},
   "source": [
    "**Correction :** Le problème des moindres carrés n'est plus le même (on cherche toujours une parabole mais cette fois-ci, on n'a que deux inconnues $\\tilde{\\alpha}_0$ et $\\tilde{\\alpha}_2$). La nouvelle matrice $\\tilde{A}$ est de taille $(7,2)$ et vaut\n",
    "\\begin{equation*}\n",
    "\\tilde{A}=\\begin{pmatrix}\n",
    "1&x_0^2\\\\\n",
    "1&x_1^2\\\\\n",
    "1&x_2^2\\\\\n",
    "1&x_3^2\\\\\n",
    "1&x_4^2\\\\\n",
    "1&x_5^2\\\\\n",
    "1&x_6^2\\\\\n",
    "\\end{pmatrix}=\\begin{pmatrix}\n",
    "1&1\\\\\n",
    "1&2.5^2\\\\\n",
    "1&3.5^2\\\\\n",
    "1&4^2\\\\\n",
    "1&5^2\\\\\n",
    "1&7^2\\\\\n",
    "1&8.5^2\\\\\n",
    "\\end{pmatrix}.\n",
    "\\end{equation*}\n",
    "\n",
    "Par contre le nouveau vecteur $\\tilde{b}$ est inchangé par rapport au vecteur $b$ précédent, $\\tilde{b}=\\begin{pmatrix}y_0\\\\y_1\\\\y_2\\\\y_3\\\\y_4\\\\y_5\\\\y_6\\end{pmatrix}=\\begin{pmatrix}0.3\\\\1.1\\\\1.5\\\\2.0\\\\3.2\\\\6.6\\\\8.6\\end{pmatrix}.$"
   ]
  },
  {
   "cell_type": "code",
   "execution_count": 6,
   "metadata": {},
   "outputs": [],
   "source": [
    "A_tilde=np.ones((7, 2))\n",
    "b_tilde=np.zeros(7)\n",
    "for i in range(0,7):\n",
    "    A_tilde[i,1]=xi[i]**2\n",
    "    b_tilde[i]=yi[i]\n",
    "\n",
    "alpha_tilde = np.linalg.lstsq(A_tilde, b_tilde, rcond=None)[0]\n",
    "residu_tilde=np.linalg.lstsq(A_tilde, b_tilde, rcond=None)[1]"
   ]
  },
  {
   "cell_type": "markdown",
   "metadata": {},
   "source": [
    "**Question 4:** Tracer la parabole de $\\tilde{P}$ sur la figure."
   ]
  },
  {
   "cell_type": "markdown",
   "metadata": {},
   "source": [
    "**Correction :**"
   ]
  },
  {
   "cell_type": "code",
   "execution_count": 10,
   "metadata": {},
   "outputs": [
    {
     "data": {
      "text/plain": [
       "[<matplotlib.lines.Line2D at 0x7f7715503990>]"
      ]
     },
     "execution_count": 10,
     "metadata": {},
     "output_type": "execute_result"
    },
    {
     "data": {
      "image/png": "[encoded data removed]",
      "text/plain": [
       "<matplotlib.figure.Figure at 0x7f771574d350>"
      ]
     },
     "metadata": {
      "needs_background": "light"
     },
     "output_type": "display_data"
    }
   ],
   "source": [
    "plt.plot(xi, yi, 'r*')\n",
    "plt.plot(X, alpha_tilde[0]+alpha_tilde[1]*X**2, 'g')"
   ]
  },
  {
   "cell_type": "markdown",
   "metadata": {},
   "source": [
    "**Question 5:** Quelle parabole a le meilleur résidu ?"
   ]
  },
  {
   "cell_type": "markdown",
   "metadata": {},
   "source": [
    "**Correction :**"
   ]
  },
  {
   "cell_type": "code",
   "execution_count": 8,
   "metadata": {},
   "outputs": [
    {
     "name": "stdout",
     "output_type": "stream",
     "text": [
      "('residu=', array([0.39546249]))\n",
      "('residu_tilde=', array([0.40826652]))\n"
     ]
    }
   ],
   "source": [
    "print('residu=',residu)\n",
    "print('residu_tilde=', residu_tilde)"
   ]
  },
  {
   "cell_type": "markdown",
   "metadata": {},
   "source": [
    "La première parabole (celle correspondant à $P$) est la meilleure pour le problème étudié ici car c'est celle qui a le résidu le plus faible."
   ]
  },
  {
   "cell_type": "code",
   "execution_count": null,
   "metadata": {},
   "outputs": [],
   "source": []
  }
 ],
 "metadata": {
  "kernelspec": {
   "display_name": "Python 3 (ipykernel)",
   "language": "python",
   "name": "python3"
  },
  "language_info": {
   "codemirror_mode": {
    "name": "ipython",
    "version": 3
   },
   "file_extension": ".py",
   "mimetype": "text/x-python",
   "name": "python",
   "nbconvert_exporter": "python",
   "pygments_lexer": "ipython3",
   "version": "3.9.12"
  }
 },
 "nbformat": 4,
 "nbformat_minor": 4
}
